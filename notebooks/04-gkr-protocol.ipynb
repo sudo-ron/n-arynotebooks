{
 "cells": [
  {
   "cell_type": "markdown",
   "id": "156ad44d",
   "metadata": {},
   "source": [
    "# GKR protocol"
   ]
  },
  {
   "cell_type": "markdown",
   "id": "5d077c87",
   "metadata": {},
   "source": [
    "<a id='contents'></a>\n",
    "## Contents\n",
    "\n",
    "* [Setup](#setup)\n",
    "* [Introduction](#introduction)\n",
    "* [...](#...)\n",
    "* [...](#...)\n",
    "* [...](#...)\n",
    "* [...](#...)\n",
    "* [References](#references)"
   ]
  },
  {
   "cell_type": "markdown",
   "id": "f0f436b4-be2e-4ef2-bee2-f932992ca05b",
   "metadata": {},
   "source": [
    "<a id='setup'></a>\n",
    "## Setup\n",
    "↑↑ [Contents](#contents) ↓ [Introduction](#introduction)"
   ]
  },
  {
   "cell_type": "code",
   "execution_count": 1,
   "id": "febd6124",
   "metadata": {},
   "outputs": [
    {
     "name": "stdout",
     "output_type": "stream",
     "text": [
      "\u001b[35m\n",
      "================================================\n",
      "PROJECT DIRECTORY TREE AS AT 2024-12-23 13:37:26\n",
      "================================================\n",
      "\u001b[0m\n",
      "\u001b[35mBASE PATH: F:\\PROJECTS\\INFERENCE-LABS\\ZK-NOTEBOOKS\n",
      "\u001b[0m\n",
      "├─ \u001b[34massets/\u001b[0m\n",
      "├─ \u001b[34mnotebooks/\u001b[0m\n",
      "│  └─ \u001b[33m01-sum-check-protocol.ipynb\u001b[0m\n",
      "│  └─ \u001b[33m02-multilinear-extensions.ipynb\u001b[0m\n",
      "│  └─ \u001b[33m03-arithmetic-circuits.ipynb\u001b[0m\n",
      "│  └─ \u001b[33m04-gkr-protocol.ipynb\u001b[0m\n",
      "├─ \u001b[34mscripts/\u001b[0m\n",
      "│  └─ \u001b[33marithmetic_circuits.py\u001b[0m\n",
      "│  └─ \u001b[33mgkr_protocol.py\u001b[0m\n",
      "│  └─ \u001b[33minfo.py\u001b[0m\n",
      "│  └─ \u001b[33mmultilinear_extensions.py\u001b[0m\n",
      "│  └─ \u001b[33msetup.py\u001b[0m\n",
      "│  └─ \u001b[33msum_check.py\u001b[0m\n",
      "│  └─ \u001b[33mutils.py\u001b[0m\n",
      "└─ \u001b[33m.gitignore\u001b[0m\n",
      "└─ \u001b[33mLICENSE\u001b[0m\n",
      "└─ \u001b[33mREADME.md\u001b[0m\n",
      "└─ \u001b[33mrequirements.txt\u001b[0m\n",
      "\n",
      "\u001b[35mPATHS TO FIRST-LEVEL SUBDIRECTORIES STORED IN 'PATH' DICTIONARY\n",
      "\u001b[0m\n",
      "├─ path['\u001b[34mscripts\u001b[0m'] = \u001b[34mF:\\projects\\inference-labs\\zk-notebooks\\scripts\u001b[0m\n",
      "├─ path['\u001b[34mnotebooks\u001b[0m'] = \u001b[34mF:\\projects\\inference-labs\\zk-notebooks\\notebooks\u001b[0m\n",
      "├─ path['\u001b[34mcircuits\u001b[0m'] = \u001b[34mF:\\projects\\inference-labs\\zk-notebooks\\circuits\u001b[0m\n",
      "├─ path['\u001b[34massets\u001b[0m'] = \u001b[34mF:\\projects\\inference-labs\\zk-notebooks\\assets\u001b[0m\n"
     ]
    }
   ],
   "source": [
    "from pathlib import Path\n",
    "import os\n",
    "import sys\n",
    "\n",
    "# To use this project, set an environment variable named \"ZERO_KNOWLEDGE\" on your system\n",
    "# Determine the project root directory and add it to the Python path\n",
    "notebook_path = Path(os.getcwd()).resolve()  # Path to the current working directory\n",
    "project_root = notebook_path.parent          # Parent directory of notebooks, which is the project root\n",
    "\n",
    "# Add the project root directory to the Python path\n",
    "sys.path.append(str(project_root))\n",
    "\n",
    "# The setup module is project_root/scripts/setup.py\n",
    "from scripts.setup import *"
   ]
  },
  {
   "cell_type": "markdown",
   "id": "f835aa63",
   "metadata": {},
   "source": [
    "<a id='introduction'></a>\n",
    "## Introduction\n",
    "↑↑ [Contents](#contents) ↑ [Setup](#setup) ↓ [...](#...)"
   ]
  },
  {
   "cell_type": "markdown",
   "id": "d567dead-929b-4132-8ca2-72be4345c9f6",
   "metadata": {},
   "source": [
    "Building on our exploration of the [sum-check protocol](./01-sum-check-protocol), [multilinear extensions](./02-multilinear-extensions), and [arithmetic circuits](./03-arithmetic-circuits), we are now ready to present the GKR protocol in its entirety. Originally introduced by Goldwasser, Kalai, and Rothblum [[GKR2008]](#gkr2008), and subsequently refined by many, this protocol stands as a cornerstone of modern interactive proofs for verifying circuit computations. This notebook brings together the ideas developed so far and demonstrates how they culminate in the elegant machinery of the GKR protocol.\n",
    "\n",
    "Cormode, Mitzenmacher, and Thaler [[CMT2012]](#cmt2012), and Thaler [[THA2015]](#tha2015)\n",
    "\n",
    "Thaler [[THA2022](#tha2022), &#167;4.6]\n"
   ]
  },
  {
   "cell_type": "markdown",
   "id": "59df0807-c1a2-4328-a7bc-569b48b8ad55",
   "metadata": {},
   "source": []
  },
  {
   "cell_type": "markdown",
   "id": "7946bcb6-b7e5-492c-938c-307230c1aa9d",
   "metadata": {},
   "source": [
    "<a id='...'></a>\n",
    "## ...\n",
    "↑↑ [Contents](#contents) ↑ [Introduction](#introduction) ↓ [...](#...)"
   ]
  },
  {
   "cell_type": "markdown",
   "id": "a79b1386-8929-44f4-b29c-f7e42e0ee313",
   "metadata": {},
   "source": []
  },
  {
   "cell_type": "code",
   "execution_count": 7,
   "id": "9224be1b-b9bf-468b-84cb-32186266ffad",
   "metadata": {},
   "outputs": [],
   "source": [
    "from arithmetic_circuits import ArithmeticCircuit\n",
    "\n",
    "ac = ArithmeticCircuit('(2 + 3)*(4 + 0)', '(2 + 4)*(3 + 0)', prime=7)"
   ]
  },
  {
   "cell_type": "code",
   "execution_count": 9,
   "id": "10dc7e52-075b-46a2-b884-b8fd83328170",
   "metadata": {},
   "outputs": [
    {
     "data": {
      "image/svg+xml": [
       "<?xml version=\"1.0\" encoding=\"UTF-8\" standalone=\"no\"?>\n",
       "<!DOCTYPE svg PUBLIC \"-//W3C//DTD SVG 1.1//EN\"\n",
       " \"http://www.w3.org/Graphics/SVG/1.1/DTD/svg11.dtd\">\n",
       "<!-- Generated by graphviz version 12.2.0 (20241103.1931)\n",
       " -->\n",
       "<!-- Pages: 1 -->\n",
       "<svg width=\"234pt\" height=\"209pt\"\n",
       " viewBox=\"0.00 0.00 234.13 209.40\" xmlns=\"http://www.w3.org/2000/svg\" xmlns:xlink=\"http://www.w3.org/1999/xlink\">\n",
       "<g id=\"graph0\" class=\"graph\" transform=\"scale(1 1) rotate(0) translate(4 205.4)\">\n",
       "<polygon fill=\"white\" stroke=\"none\" points=\"-4,4 -4,-205.4 230.13,-205.4 230.13,4 -4,4\"/>\n",
       "<!-- 2601421322176 -->\n",
       "<g id=\"node1\" class=\"node\">\n",
       "<title>2601421322176</title>\n",
       "<ellipse fill=\"none\" stroke=\"black\" cx=\"188.57\" cy=\"-179.83\" rx=\"21.57\" ry=\"21.57\"/>\n",
       "<text text-anchor=\"start\" x=\"185.57\" y=\"-181.58\" font-family=\"Times New Roman,serif\" font-size=\"10.00\">×</text>\n",
       "<text text-anchor=\"start\" x=\"185.94\" y=\"-170.33\" font-family=\"Times New Roman,serif\" font-size=\"10.00\" fill=\"blue\">0</text>\n",
       "</g>\n",
       "<!-- 2601423981120 -->\n",
       "<g id=\"node2\" class=\"node\">\n",
       "<title>2601423981120</title>\n",
       "<ellipse fill=\"none\" stroke=\"black\" cx=\"112.57\" cy=\"-179.83\" rx=\"21.57\" ry=\"21.57\"/>\n",
       "<text text-anchor=\"start\" x=\"109.57\" y=\"-181.58\" font-family=\"Times New Roman,serif\" font-size=\"10.00\">×</text>\n",
       "<text text-anchor=\"start\" x=\"109.94\" y=\"-170.33\" font-family=\"Times New Roman,serif\" font-size=\"10.00\" fill=\"blue\">1</text>\n",
       "</g>\n",
       "<!-- 2601421879616 -->\n",
       "<g id=\"node3\" class=\"node\">\n",
       "<title>2601421879616</title>\n",
       "<ellipse fill=\"none\" stroke=\"black\" cx=\"204.57\" cy=\"-100.7\" rx=\"21.57\" ry=\"21.57\"/>\n",
       "<text text-anchor=\"start\" x=\"201.57\" y=\"-102.45\" font-family=\"Times New Roman,serif\" font-size=\"10.00\">+</text>\n",
       "<text text-anchor=\"start\" x=\"199.32\" y=\"-91.2\" font-family=\"Times New Roman,serif\" font-size=\"10.00\" fill=\"blue\">00</text>\n",
       "</g>\n",
       "<!-- 2601421879616&#45;&gt;2601421322176 -->\n",
       "<g id=\"edge1\" class=\"edge\">\n",
       "<title>2601421879616&#45;&gt;2601421322176</title>\n",
       "<path fill=\"none\" stroke=\"black\" d=\"M200.36,-121.97C198.76,-129.7 196.89,-138.71 195.12,-147.25\"/>\n",
       "<polygon fill=\"black\" stroke=\"black\" points=\"191.71,-146.45 193.11,-156.95 198.56,-147.87 191.71,-146.45\"/>\n",
       "</g>\n",
       "<!-- 2601423989312 -->\n",
       "<g id=\"node4\" class=\"node\">\n",
       "<title>2601423989312</title>\n",
       "<ellipse fill=\"none\" stroke=\"black\" cx=\"143.57\" cy=\"-100.7\" rx=\"21.57\" ry=\"21.57\"/>\n",
       "<text text-anchor=\"start\" x=\"140.57\" y=\"-102.45\" font-family=\"Times New Roman,serif\" font-size=\"10.00\">+</text>\n",
       "<text text-anchor=\"start\" x=\"138.32\" y=\"-91.2\" font-family=\"Times New Roman,serif\" font-size=\"10.00\" fill=\"blue\">01</text>\n",
       "</g>\n",
       "<!-- 2601423989312&#45;&gt;2601423981120 -->\n",
       "<g id=\"edge10\" class=\"edge\">\n",
       "<title>2601423989312&#45;&gt;2601423981120</title>\n",
       "<path fill=\"none\" stroke=\"black\" d=\"M135.74,-121.16C132.37,-129.57 128.34,-139.59 124.59,-148.91\"/>\n",
       "<polygon fill=\"black\" stroke=\"black\" points=\"121.43,-147.39 120.95,-157.97 127.93,-150 121.43,-147.39\"/>\n",
       "</g>\n",
       "<!-- 2601423989632 -->\n",
       "<g id=\"node5\" class=\"node\">\n",
       "<title>2601423989632</title>\n",
       "<ellipse fill=\"none\" stroke=\"black\" cx=\"21.57\" cy=\"-100.7\" rx=\"21.57\" ry=\"21.57\"/>\n",
       "<text text-anchor=\"start\" x=\"18.57\" y=\"-102.45\" font-family=\"Times New Roman,serif\" font-size=\"10.00\">+</text>\n",
       "<text text-anchor=\"start\" x=\"16.32\" y=\"-91.2\" font-family=\"Times New Roman,serif\" font-size=\"10.00\" fill=\"blue\">10</text>\n",
       "</g>\n",
       "<!-- 2601423989632&#45;&gt;2601421322176 -->\n",
       "<g id=\"edge4\" class=\"edge\">\n",
       "<title>2601423989632&#45;&gt;2601421322176</title>\n",
       "<path fill=\"none\" stroke=\"black\" d=\"M38.6,-114.36C42.73,-117.15 47.21,-119.96 51.57,-122.27 90.37,-142.81 103.14,-141.13 143.57,-158.27 148.64,-160.42 153.99,-162.78 159.17,-165.11\"/>\n",
       "<polygon fill=\"black\" stroke=\"black\" points=\"157.47,-168.19 168.02,-169.16 160.38,-161.82 157.47,-168.19\"/>\n",
       "</g>\n",
       "<!-- 2601423990144 -->\n",
       "<g id=\"node6\" class=\"node\">\n",
       "<title>2601423990144</title>\n",
       "<ellipse fill=\"none\" stroke=\"black\" cx=\"82.57\" cy=\"-100.7\" rx=\"21.57\" ry=\"21.57\"/>\n",
       "<text text-anchor=\"start\" x=\"79.57\" y=\"-102.45\" font-family=\"Times New Roman,serif\" font-size=\"10.00\">+</text>\n",
       "<text text-anchor=\"start\" x=\"77.69\" y=\"-91.2\" font-family=\"Times New Roman,serif\" font-size=\"10.00\" fill=\"blue\">11</text>\n",
       "</g>\n",
       "<!-- 2601423990144&#45;&gt;2601423981120 -->\n",
       "<g id=\"edge7\" class=\"edge\">\n",
       "<title>2601423990144&#45;&gt;2601423981120</title>\n",
       "<path fill=\"none\" stroke=\"black\" d=\"M90.14,-121.16C93.41,-129.57 97.3,-139.59 100.93,-148.91\"/>\n",
       "<polygon fill=\"black\" stroke=\"black\" points=\"97.56,-149.91 104.45,-157.97 104.09,-147.38 97.56,-149.91\"/>\n",
       "</g>\n",
       "<!-- 2601214861984 -->\n",
       "<g id=\"node7\" class=\"node\">\n",
       "<title>2601214861984</title>\n",
       "<ellipse fill=\"none\" stroke=\"black\" cx=\"82.57\" cy=\"-21.57\" rx=\"21.57\" ry=\"21.57\"/>\n",
       "<text text-anchor=\"start\" x=\"79.94\" y=\"-23.32\" font-family=\"Times New Roman,serif\" font-size=\"10.00\">0</text>\n",
       "<text text-anchor=\"start\" x=\"77.32\" y=\"-12.07\" font-family=\"Times New Roman,serif\" font-size=\"10.00\" fill=\"blue\">00</text>\n",
       "</g>\n",
       "<!-- 2601214861984&#45;&gt;2601423989312 -->\n",
       "<g id=\"edge12\" class=\"edge\">\n",
       "<title>2601214861984&#45;&gt;2601423989312</title>\n",
       "<path fill=\"none\" stroke=\"black\" d=\"M95.5,-38.92C103.62,-49.18 114.24,-62.62 123.44,-74.25\"/>\n",
       "<polygon fill=\"black\" stroke=\"black\" points=\"120.55,-76.24 129.5,-81.91 126.04,-71.9 120.55,-76.24\"/>\n",
       "</g>\n",
       "<!-- 2601214861984&#45;&gt;2601423989632 -->\n",
       "<g id=\"edge6\" class=\"edge\">\n",
       "<title>2601214861984&#45;&gt;2601423989632</title>\n",
       "<path fill=\"none\" stroke=\"black\" d=\"M69.63,-38.92C61.52,-49.18 50.89,-62.62 41.69,-74.25\"/>\n",
       "<polygon fill=\"black\" stroke=\"black\" points=\"39.09,-71.9 35.63,-81.91 44.58,-76.24 39.09,-71.9\"/>\n",
       "</g>\n",
       "<!-- 2601383985216 -->\n",
       "<g id=\"node8\" class=\"node\">\n",
       "<title>2601383985216</title>\n",
       "<ellipse fill=\"none\" stroke=\"black\" cx=\"143.57\" cy=\"-21.57\" rx=\"21.57\" ry=\"21.57\"/>\n",
       "<text text-anchor=\"start\" x=\"140.94\" y=\"-23.32\" font-family=\"Times New Roman,serif\" font-size=\"10.00\">2</text>\n",
       "<text text-anchor=\"start\" x=\"138.32\" y=\"-12.07\" font-family=\"Times New Roman,serif\" font-size=\"10.00\" fill=\"blue\">01</text>\n",
       "</g>\n",
       "<!-- 2601383985216&#45;&gt;2601421879616 -->\n",
       "<g id=\"edge2\" class=\"edge\">\n",
       "<title>2601383985216&#45;&gt;2601421879616</title>\n",
       "<path fill=\"none\" stroke=\"black\" d=\"M156.5,-38.92C164.62,-49.18 175.24,-62.62 184.44,-74.25\"/>\n",
       "<polygon fill=\"black\" stroke=\"black\" points=\"181.55,-76.24 190.5,-81.91 187.04,-71.9 181.55,-76.24\"/>\n",
       "</g>\n",
       "<!-- 2601383985216&#45;&gt;2601423990144 -->\n",
       "<g id=\"edge8\" class=\"edge\">\n",
       "<title>2601383985216&#45;&gt;2601423990144</title>\n",
       "<path fill=\"none\" stroke=\"black\" d=\"M130.63,-38.92C122.52,-49.18 111.89,-62.62 102.69,-74.25\"/>\n",
       "<polygon fill=\"black\" stroke=\"black\" points=\"100.09,-71.9 96.63,-81.91 105.58,-76.24 100.09,-71.9\"/>\n",
       "</g>\n",
       "<!-- 2601403194384 -->\n",
       "<g id=\"node9\" class=\"node\">\n",
       "<title>2601403194384</title>\n",
       "<ellipse fill=\"none\" stroke=\"black\" cx=\"21.57\" cy=\"-21.57\" rx=\"21.57\" ry=\"21.57\"/>\n",
       "<text text-anchor=\"start\" x=\"18.94\" y=\"-23.32\" font-family=\"Times New Roman,serif\" font-size=\"10.00\">4</text>\n",
       "<text text-anchor=\"start\" x=\"16.32\" y=\"-12.07\" font-family=\"Times New Roman,serif\" font-size=\"10.00\" fill=\"blue\">10</text>\n",
       "</g>\n",
       "<!-- 2601403194384&#45;&gt;2601423989632 -->\n",
       "<g id=\"edge5\" class=\"edge\">\n",
       "<title>2601403194384&#45;&gt;2601423989632</title>\n",
       "<path fill=\"none\" stroke=\"black\" d=\"M21.57,-43.24C21.57,-50.61 21.57,-59.11 21.57,-67.24\"/>\n",
       "<polygon fill=\"black\" stroke=\"black\" points=\"18.07,-67.19 21.57,-77.19 25.07,-67.19 18.07,-67.19\"/>\n",
       "</g>\n",
       "<!-- 2601403194384&#45;&gt;2601423990144 -->\n",
       "<g id=\"edge9\" class=\"edge\">\n",
       "<title>2601403194384&#45;&gt;2601423990144</title>\n",
       "<path fill=\"none\" stroke=\"black\" d=\"M34.5,-38.92C42.62,-49.18 53.24,-62.62 62.44,-74.25\"/>\n",
       "<polygon fill=\"black\" stroke=\"black\" points=\"59.55,-76.24 68.5,-81.91 65.04,-71.9 59.55,-76.24\"/>\n",
       "</g>\n",
       "<!-- 2601411658832 -->\n",
       "<g id=\"node10\" class=\"node\">\n",
       "<title>2601411658832</title>\n",
       "<ellipse fill=\"none\" stroke=\"black\" cx=\"204.57\" cy=\"-21.57\" rx=\"21.57\" ry=\"21.57\"/>\n",
       "<text text-anchor=\"start\" x=\"201.94\" y=\"-23.32\" font-family=\"Times New Roman,serif\" font-size=\"10.00\">3</text>\n",
       "<text text-anchor=\"start\" x=\"199.69\" y=\"-12.07\" font-family=\"Times New Roman,serif\" font-size=\"10.00\" fill=\"blue\">11</text>\n",
       "</g>\n",
       "<!-- 2601411658832&#45;&gt;2601421879616 -->\n",
       "<g id=\"edge3\" class=\"edge\">\n",
       "<title>2601411658832&#45;&gt;2601421879616</title>\n",
       "<path fill=\"none\" stroke=\"black\" d=\"M204.57,-43.24C204.57,-50.61 204.57,-59.11 204.57,-67.24\"/>\n",
       "<polygon fill=\"black\" stroke=\"black\" points=\"201.07,-67.19 204.57,-77.19 208.07,-67.19 201.07,-67.19\"/>\n",
       "</g>\n",
       "<!-- 2601411658832&#45;&gt;2601423989312 -->\n",
       "<g id=\"edge11\" class=\"edge\">\n",
       "<title>2601411658832&#45;&gt;2601423989312</title>\n",
       "<path fill=\"none\" stroke=\"black\" d=\"M191.63,-38.92C183.52,-49.18 172.89,-62.62 163.69,-74.25\"/>\n",
       "<polygon fill=\"black\" stroke=\"black\" points=\"161.09,-71.9 157.63,-81.91 166.58,-76.24 161.09,-71.9\"/>\n",
       "</g>\n",
       "</g>\n",
       "</svg>\n"
      ],
      "text/plain": [
       "<graphviz.graphs.Digraph at 0x25db0ecbda0>"
      ]
     },
     "execution_count": 9,
     "metadata": {},
     "output_type": "execute_result"
    }
   ],
   "source": [
    "ac.graphviz_circuit_bitstring"
   ]
  },
  {
   "cell_type": "code",
   "execution_count": 12,
   "id": "795638c8-c9e7-4aec-9c26-53b81197d93e",
   "metadata": {},
   "outputs": [
    {
     "data": {
      "text/plain": [
       "{2: {(0, 0): 0, (0, 1): 2, (1, 0): 4, (1, 1): 3},\n",
       " 1: {(1, 0): 4, (1, 1): 6, (0, 0): 5, (0, 1): 3},\n",
       " 0: {(0,): 6, (1,): 4}}"
      ]
     },
     "execution_count": 12,
     "metadata": {},
     "output_type": "execute_result"
    }
   ],
   "source": [
    "ac.W_dict"
   ]
  },
  {
   "cell_type": "code",
   "execution_count": 17,
   "id": "2d554763-dbd6-48e4-ac06-a8d1a52d1bc7",
   "metadata": {},
   "outputs": [
    {
     "data": {
      "text/latex": [
       "$\\displaystyle \\operatorname{Poly}{\\left( 6 x_{0}x_{1}x_{2}x_{3}x_{4} + 6 x_{0}x_{1}x_{2}x_{4}x_{5} + x_{0}x_{1}x_{2}x_{4} + x_{0}x_{1}x_{2}x_{5} + 6 x_{0}x_{1}x_{2} + x_{0}x_{1}x_{3}x_{4} + x_{0}x_{2}x_{3}x_{4} + x_{0}x_{2}x_{3}x_{5} + 6 x_{0}x_{2}x_{3} + x_{0}x_{2}x_{4}x_{5} + 6 x_{0}x_{2}x_{4} + 6 x_{0}x_{2}x_{5} + x_{0}x_{2} + 6 x_{0}x_{3}x_{4}x_{5} + 2 x_{1}x_{2}x_{3}x_{4}x_{5} + 6 x_{1}x_{2}x_{3}x_{4} + 6 x_{1}x_{2}x_{3}x_{5} + x_{1}x_{2}x_{3} + 6 x_{1}x_{3}x_{4}x_{5} + 6 x_{2}x_{3}x_{4}x_{5} + x_{3}x_{4}x_{5}, x_{0}, x_{1}, x_{2}, x_{3}, x_{4}, x_{5}, domain=\\mathbb{F}_{7} \\right)}$"
      ],
      "text/plain": [
       "Poly(6*x_0*x_1*x_2*x_3*x_4 + 6*x_0*x_1*x_2*x_4*x_5 + x_0*x_1*x_2*x_4 + x_0*x_1*x_2*x_5 + 6*x_0*x_1*x_2 + x_0*x_1*x_3*x_4 + x_0*x_2*x_3*x_4 + x_0*x_2*x_3*x_5 + 6*x_0*x_2*x_3 + x_0*x_2*x_4*x_5 + 6*x_0*x_2*x_4 + 6*x_0*x_2*x_5 + x_0*x_2 + 6*x_0*x_3*x_4*x_5 + 2*x_1*x_2*x_3*x_4*x_5 + 6*x_1*x_2*x_3*x_4 + 6*x_1*x_2*x_3*x_5 + x_1*x_2*x_3 + 6*x_1*x_3*x_4*x_5 + 6*x_2*x_3*x_4*x_5 + x_3*x_4*x_5, x_0, x_1, x_2, x_3, x_4, x_5, modulus=7)"
      ]
     },
     "execution_count": 17,
     "metadata": {},
     "output_type": "execute_result"
    }
   ],
   "source": [
    "ac.tilde_add[1]"
   ]
  },
  {
   "cell_type": "code",
   "execution_count": null,
   "id": "ea466075-ed75-4382-9376-e79df89aecd3",
   "metadata": {},
   "outputs": [],
   "source": []
  },
  {
   "cell_type": "code",
   "execution_count": 2,
   "id": "2934355c-83ee-4159-b5b6-358022232e1f",
   "metadata": {},
   "outputs": [],
   "source": [
    "from gkr_protocol import line_vectorized, compose_polynomial"
   ]
  },
  {
   "cell_type": "code",
   "execution_count": 3,
   "id": "e1d55e68-03ff-4708-82b3-770e20f1c53a",
   "metadata": {},
   "outputs": [
    {
     "data": {
      "text/latex": [
       "$\\displaystyle \\operatorname{Poly}{\\left( w^{3}z + wx + wy + x^{2} + xy + y^{2}z + y^{2} + z + 1, w, x, y, z, domain=\\mathbb{F}_{7} \\right)}$"
      ],
      "text/plain": [
       "Poly(w**3*z + w*x + w*y + x**2 + x*y + y**2*z + y**2 + z + 1, w, x, y, z, modulus=7)"
      ]
     },
     "metadata": {},
     "output_type": "display_data"
    },
    {
     "name": "stdout",
     "output_type": "stream",
     "text": [
      "Line through b = (0, 1, 2, 3) and c = (1, 2, 4, 5): [Poly(t, t, modulus=7) Poly(t + 1, t, modulus=7)\n",
      " Poly(2*t + 2, t, modulus=7) Poly(2*t + 3, t, modulus=7)]\n",
      "Check: line(0) = [0, 1, 2, 3]; line(1) = [1, 2, 4, 5]\n",
      "Composition of W with line: 2*t**4 - 3*t**3 + 3*t**2 + 2*t + 2\n"
     ]
    }
   ],
   "source": [
    "from sympy import symbols, Poly\n",
    "from sympy.polys.domains import GF\n",
    "\n",
    "w, x, y, z = symbols('w x y z')\n",
    "W = Poly(x**2 + x*y + y**2 + w*x + w*y + w**3*z + y**2*z + z + 1, w, x, y, z, domain = GF(7))\n",
    "display(W)\n",
    "b = (0,1,2,3)\n",
    "c = (1,2,4,5)\n",
    "line = line_vectorized(b,c, W.domain.mod)\n",
    "print(f\"Line through b = {b} and c = {c}: {line}\")\n",
    "print(f\"Check: line(0) = {[l.eval(0) for l in line]}; line(1) = {[l.eval(1) for l in line]}\")\n",
    "W_circ_line = compose_polynomial(W,line)\n",
    "print(f\"Composition of W with line: {W_circ_line.as_expr()}\")"
   ]
  },
  {
   "cell_type": "markdown",
   "id": "2e936ca7-6e9d-4d78-9b8e-af82e984f3d0",
   "metadata": {},
   "source": [
    "<a id='...'></a>\n",
    "## ...\n",
    "↑↑ [Contents](#contents) ↑ [...](#...) ↓ [...](#...)"
   ]
  },
  {
   "cell_type": "markdown",
   "id": "983a6b5d-3170-4393-ba05-80c68b15713f",
   "metadata": {},
   "source": []
  },
  {
   "cell_type": "markdown",
   "id": "e4cc322a-e714-4e6e-81bd-4c80af0340c1",
   "metadata": {},
   "source": []
  },
  {
   "cell_type": "markdown",
   "id": "9e52d2b2",
   "metadata": {},
   "source": [
    "<a id='...'></a>\n",
    "## ...\n",
    "↑↑ [Contents](#contents) ↑ [...](#...) ↓ [...](#...)"
   ]
  },
  {
   "cell_type": "markdown",
   "id": "8388b548-a27c-4853-9743-e80f541f8a60",
   "metadata": {},
   "source": []
  },
  {
   "cell_type": "markdown",
   "id": "b86e1ecd-d249-4e8e-a24f-501bc9ce0eb6",
   "metadata": {},
   "source": []
  },
  {
   "cell_type": "markdown",
   "id": "dfc9dff6-e8ba-4efc-845e-64d1f234c873",
   "metadata": {},
   "source": [
    "<a id='...'></a>\n",
    "## ...\n",
    "↑↑ [Contents](#contents) ↑ [...](#...) ↓ [References](#references)"
   ]
  },
  {
   "cell_type": "markdown",
   "id": "68bace55-9049-44de-867e-54ea9d1181a1",
   "metadata": {},
   "source": []
  },
  {
   "cell_type": "markdown",
   "id": "e57ae877-41d1-4f89-8231-22e9d6b5a117",
   "metadata": {},
   "source": []
  },
  {
   "cell_type": "markdown",
   "id": "4485973b-cc75-43eb-ac2a-25cf58adcce2",
   "metadata": {},
   "source": [
    "<a id='references'></a>\n",
    "## References\n",
    "↑↑ [Contents](#contents) ↑ [...](#...)"
   ]
  },
  {
   "cell_type": "markdown",
   "id": "92bce436-68e8-49b0-8942-d8520d63be31",
   "metadata": {},
   "source": []
  },
  {
   "cell_type": "markdown",
   "id": "902e67c7-0656-478b-8961-72f930d526b8",
   "metadata": {},
   "source": [
    "<a id='cmt2012'></a>\n",
    "[CMT2012] Cormode, G., M. Mitzenmacher, and J. Thaler. '[Practical verified computation with streaming interactive proofs](https://doi.org/10.1145/2090236.2090245).' In _Proceedings of the 3rd Innovations in Theoretical Computer Science Conference_, 90&ndash;112, 2012."
   ]
  },
  {
   "cell_type": "markdown",
   "id": "53391392-0b24-4ffc-aaad-99aab165dd8b",
   "metadata": {},
   "source": [
    "<a id='gkr2008'></a>\n",
    "[GKR2008] Goldwasser, S., Y. T. Kalai, and G. N. Rothblum. '[Delegating computation: interactive proofs for muggles](https://doi.org/10.1145/2699436).' _Journal of the ACM_, 62(4):1&ndash;64, 2008."
   ]
  },
  {
   "cell_type": "markdown",
   "id": "1cd174dd-fb69-48c2-9973-17cbcfde1852",
   "metadata": {},
   "source": [
    "<a id='tha2015'></a>\n",
    "[THA2015] Thaler, J. '[A note on the GKR protocol](https://api.semanticscholar.org/CorpusID:16402332).' 2015."
   ]
  },
  {
   "cell_type": "markdown",
   "id": "9b3e7ab9-0f52-46d1-99ce-bbcf95b32a6a",
   "metadata": {},
   "source": [
    "<a id='tha2022'></a>\n",
    "[THA2022] Thaler, J. [_Proofs, Arguments, and Zero-Knowledge_](https://people.cs.georgetown.edu/jthaler/ProofsArgsAndZK.pdf). Foundations and Trends in Privacy and Security, Now Publishers, 2022."
   ]
  },
  {
   "cell_type": "markdown",
   "id": "c83716b1-b914-4b7f-ba32-dbe9210f3cce",
   "metadata": {},
   "source": []
  },
  {
   "cell_type": "code",
   "execution_count": 9,
   "id": "52d9a41b-60fb-420f-8e0f-83b1ad9e1951",
   "metadata": {},
   "outputs": [
    {
     "data": {
      "image/svg+xml": [
       "<?xml version=\"1.0\" encoding=\"UTF-8\" standalone=\"no\"?>\n",
       "<!DOCTYPE svg PUBLIC \"-//W3C//DTD SVG 1.1//EN\"\n",
       " \"http://www.w3.org/Graphics/SVG/1.1/DTD/svg11.dtd\">\n",
       "<!-- Generated by graphviz version 12.2.0 (20241103.1931)\n",
       " -->\n",
       "<!-- Pages: 1 -->\n",
       "<svg width=\"446pt\" height=\"160pt\"\n",
       " viewBox=\"0.00 0.00 445.98 159.97\" xmlns=\"http://www.w3.org/2000/svg\" xmlns:xlink=\"http://www.w3.org/1999/xlink\">\n",
       "<g id=\"graph0\" class=\"graph\" transform=\"scale(1 1) rotate(0) translate(4 155.97)\">\n",
       "<polygon fill=\"white\" stroke=\"none\" points=\"-4,4 -4,-155.97 441.98,-155.97 441.98,4 -4,4\"/>\n",
       "<!-- 1 -->\n",
       "<g id=\"node1\" class=\"node\">\n",
       "<title>1</title>\n",
       "<ellipse fill=\"none\" stroke=\"black\" cx=\"28.99\" cy=\"-28.99\" rx=\"28.99\" ry=\"28.99\"/>\n",
       "<text text-anchor=\"middle\" x=\"28.99\" y=\"-32.19\" font-family=\"Times New Roman,serif\" font-size=\"14.00\">1</text>\n",
       "<text text-anchor=\"middle\" x=\"28.99\" y=\"-15.69\" font-family=\"Times New Roman,serif\" font-size=\"14.00\">000</text>\n",
       "</g>\n",
       "<!-- y -->\n",
       "<g id=\"node7\" class=\"node\">\n",
       "<title>y</title>\n",
       "<ellipse fill=\"none\" stroke=\"black\" cx=\"142.99\" cy=\"-122.97\" rx=\"28.99\" ry=\"28.99\"/>\n",
       "<text text-anchor=\"middle\" x=\"142.99\" y=\"-126.17\" font-family=\"Times New Roman,serif\" font-size=\"14.00\">y</text>\n",
       "<text text-anchor=\"middle\" x=\"142.99\" y=\"-109.67\" font-family=\"Times New Roman,serif\" font-size=\"14.00\">0</text>\n",
       "</g>\n",
       "<!-- 1&#45;&gt;y -->\n",
       "<g id=\"edge1\" class=\"edge\">\n",
       "<title>1&#45;&gt;y</title>\n",
       "<path fill=\"none\" stroke=\"black\" d=\"M51.24,-47.94C68.58,-61.94 92.86,-81.53 112.09,-97.04\"/>\n",
       "<polygon fill=\"black\" stroke=\"black\" points=\"109.64,-99.56 119.62,-103.12 114.03,-94.11 109.64,-99.56\"/>\n",
       "</g>\n",
       "<!-- 2 -->\n",
       "<g id=\"node2\" class=\"node\">\n",
       "<title>2</title>\n",
       "<ellipse fill=\"none\" stroke=\"black\" cx=\"104.99\" cy=\"-28.99\" rx=\"28.99\" ry=\"28.99\"/>\n",
       "<text text-anchor=\"middle\" x=\"104.99\" y=\"-32.19\" font-family=\"Times New Roman,serif\" font-size=\"14.00\">2</text>\n",
       "<text text-anchor=\"middle\" x=\"104.99\" y=\"-15.69\" font-family=\"Times New Roman,serif\" font-size=\"14.00\">001</text>\n",
       "</g>\n",
       "<!-- 2&#45;&gt;y -->\n",
       "<g id=\"edge3\" class=\"edge\">\n",
       "<title>2&#45;&gt;y</title>\n",
       "<path fill=\"none\" stroke=\"black\" d=\"M115.78,-56.1C119.51,-65.13 123.76,-75.43 127.78,-85.16\"/>\n",
       "<polygon fill=\"black\" stroke=\"black\" points=\"124.55,-86.49 131.6,-94.4 131.02,-83.82 124.55,-86.49\"/>\n",
       "</g>\n",
       "<!-- 3 -->\n",
       "<g id=\"node3\" class=\"node\">\n",
       "<title>3</title>\n",
       "<ellipse fill=\"none\" stroke=\"black\" cx=\"332.99\" cy=\"-28.99\" rx=\"28.99\" ry=\"28.99\"/>\n",
       "<text text-anchor=\"middle\" x=\"332.99\" y=\"-32.19\" font-family=\"Times New Roman,serif\" font-size=\"14.00\">3</text>\n",
       "<text text-anchor=\"middle\" x=\"332.99\" y=\"-15.69\" font-family=\"Times New Roman,serif\" font-size=\"14.00\">010</text>\n",
       "</g>\n",
       "<!-- z -->\n",
       "<g id=\"node8\" class=\"node\">\n",
       "<title>z</title>\n",
       "<ellipse fill=\"none\" stroke=\"black\" cx=\"294.99\" cy=\"-122.97\" rx=\"28.99\" ry=\"28.99\"/>\n",
       "<text text-anchor=\"middle\" x=\"294.99\" y=\"-126.17\" font-family=\"Times New Roman,serif\" font-size=\"14.00\">z</text>\n",
       "<text text-anchor=\"middle\" x=\"294.99\" y=\"-109.67\" font-family=\"Times New Roman,serif\" font-size=\"14.00\">1</text>\n",
       "</g>\n",
       "<!-- 3&#45;&gt;z -->\n",
       "<g id=\"edge5\" class=\"edge\">\n",
       "<title>3&#45;&gt;z</title>\n",
       "<path fill=\"none\" stroke=\"black\" d=\"M322.2,-56.1C318.47,-65.13 314.22,-75.43 310.2,-85.16\"/>\n",
       "<polygon fill=\"black\" stroke=\"black\" points=\"306.97,-83.82 306.38,-94.4 313.44,-86.49 306.97,-83.82\"/>\n",
       "</g>\n",
       "<!-- 4 -->\n",
       "<g id=\"node4\" class=\"node\">\n",
       "<title>4</title>\n",
       "<ellipse fill=\"none\" stroke=\"black\" cx=\"408.99\" cy=\"-28.99\" rx=\"28.99\" ry=\"28.99\"/>\n",
       "<text text-anchor=\"middle\" x=\"408.99\" y=\"-32.19\" font-family=\"Times New Roman,serif\" font-size=\"14.00\">4</text>\n",
       "<text text-anchor=\"middle\" x=\"408.99\" y=\"-15.69\" font-family=\"Times New Roman,serif\" font-size=\"14.00\">011</text>\n",
       "</g>\n",
       "<!-- 4&#45;&gt;z -->\n",
       "<g id=\"edge7\" class=\"edge\">\n",
       "<title>4&#45;&gt;z</title>\n",
       "<path fill=\"none\" stroke=\"black\" d=\"M386.74,-47.94C369.4,-61.94 345.12,-81.53 325.89,-97.04\"/>\n",
       "<polygon fill=\"black\" stroke=\"black\" points=\"323.95,-94.11 318.36,-103.12 328.34,-99.56 323.95,-94.11\"/>\n",
       "</g>\n",
       "<!-- 5 -->\n",
       "<g id=\"node5\" class=\"node\">\n",
       "<title>5</title>\n",
       "<ellipse fill=\"none\" stroke=\"black\" cx=\"180.99\" cy=\"-28.99\" rx=\"28.99\" ry=\"28.99\"/>\n",
       "<text text-anchor=\"middle\" x=\"180.99\" y=\"-32.19\" font-family=\"Times New Roman,serif\" font-size=\"14.00\">5</text>\n",
       "<text text-anchor=\"middle\" x=\"180.99\" y=\"-15.69\" font-family=\"Times New Roman,serif\" font-size=\"14.00\">100</text>\n",
       "</g>\n",
       "<!-- 5&#45;&gt;y -->\n",
       "<g id=\"edge2\" class=\"edge\">\n",
       "<title>5&#45;&gt;y</title>\n",
       "<path fill=\"none\" stroke=\"black\" d=\"M170.2,-56.1C166.47,-65.13 162.22,-75.43 158.2,-85.16\"/>\n",
       "<polygon fill=\"black\" stroke=\"black\" points=\"154.97,-83.82 154.38,-94.4 161.44,-86.49 154.97,-83.82\"/>\n",
       "</g>\n",
       "<!-- 5&#45;&gt;z -->\n",
       "<g id=\"edge6\" class=\"edge\">\n",
       "<title>5&#45;&gt;z</title>\n",
       "<path fill=\"none\" stroke=\"black\" d=\"M203.24,-47.94C220.58,-61.94 244.86,-81.53 264.09,-97.04\"/>\n",
       "<polygon fill=\"black\" stroke=\"black\" points=\"261.64,-99.56 271.62,-103.12 266.03,-94.11 261.64,-99.56\"/>\n",
       "</g>\n",
       "<!-- 6 -->\n",
       "<g id=\"node6\" class=\"node\">\n",
       "<title>6</title>\n",
       "<ellipse fill=\"none\" stroke=\"black\" cx=\"256.99\" cy=\"-28.99\" rx=\"28.99\" ry=\"28.99\"/>\n",
       "<text text-anchor=\"middle\" x=\"256.99\" y=\"-32.19\" font-family=\"Times New Roman,serif\" font-size=\"14.00\">6</text>\n",
       "<text text-anchor=\"middle\" x=\"256.99\" y=\"-15.69\" font-family=\"Times New Roman,serif\" font-size=\"14.00\">101</text>\n",
       "</g>\n",
       "<!-- 6&#45;&gt;y -->\n",
       "<g id=\"edge4\" class=\"edge\">\n",
       "<title>6&#45;&gt;y</title>\n",
       "<path fill=\"none\" stroke=\"black\" d=\"M234.74,-47.94C217.4,-61.94 193.12,-81.53 173.89,-97.04\"/>\n",
       "<polygon fill=\"black\" stroke=\"black\" points=\"171.95,-94.11 166.36,-103.12 176.34,-99.56 171.95,-94.11\"/>\n",
       "</g>\n",
       "<!-- 6&#45;&gt;z -->\n",
       "<g id=\"edge8\" class=\"edge\">\n",
       "<title>6&#45;&gt;z</title>\n",
       "<path fill=\"none\" stroke=\"black\" d=\"M267.78,-56.1C271.51,-65.13 275.76,-75.43 279.78,-85.16\"/>\n",
       "<polygon fill=\"black\" stroke=\"black\" points=\"276.55,-86.49 283.6,-94.4 283.02,-83.82 276.55,-86.49\"/>\n",
       "</g>\n",
       "</g>\n",
       "</svg>\n"
      ],
      "text/plain": [
       "<graphviz.graphs.Digraph at 0x1faa771b560>"
      ]
     },
     "execution_count": 9,
     "metadata": {},
     "output_type": "execute_result"
    }
   ],
   "source": [
    "from graphviz import Digraph\n",
    "\n",
    "# Create a new directed graph\n",
    "dot = Digraph(format='png')\n",
    "dot.attr(rankdir='BT')  # Set layout to left-to-right for better visualization\n",
    "\n",
    "# Add input nodes with their bitstring labels\n",
    "input_nodes = [\n",
    "    ('1', '000'), ('2', '001'), ('3', '010'), ('4', '011'), ('5', '100'), ('6', '101')\n",
    "]\n",
    "for node, label in input_nodes:\n",
    "    dot.node(node, label=f'{node}\\n{label}', shape='circle')\n",
    "\n",
    "# Add generalized multiplication gates with their bitstring labels\n",
    "generalized_gates = [\n",
    "    ('y', '0'), ('z', '1')\n",
    "]\n",
    "for node, label in generalized_gates:\n",
    "    dot.node(node, label=f'{node}\\n{label}', shape='circle')\n",
    "\n",
    "# Define edges based on the description\n",
    "edges = [\n",
    "    ('1', 'y'), ('5', 'y'), ('2', 'y'), ('6', 'y'),\n",
    "    ('3', 'z'), ('5', 'z'), ('4', 'z'), ('6', 'z')\n",
    "]\n",
    "for src, dest in edges:\n",
    "    dot.edge(src, dest)\n",
    "\n",
    "# Render the graph\n",
    "file_path = path[\"assets\"] / \"generalized_gates\"\n",
    "dot.render(file_path, view=True)\n",
    "dot"
   ]
  },
  {
   "cell_type": "code",
   "execution_count": null,
   "id": "1d15a3a0-106e-4f79-be40-c7614d6c37c0",
   "metadata": {},
   "outputs": [],
   "source": []
  }
 ],
 "metadata": {
  "kernelspec": {
   "display_name": "Python 3 (ipykernel)",
   "language": "python",
   "name": "python3"
  },
  "language_info": {
   "codemirror_mode": {
    "name": "ipython",
    "version": 3
   },
   "file_extension": ".py",
   "mimetype": "text/x-python",
   "name": "python",
   "nbconvert_exporter": "python",
   "pygments_lexer": "ipython3",
   "version": "3.12.7"
  }
 },
 "nbformat": 4,
 "nbformat_minor": 5
}
