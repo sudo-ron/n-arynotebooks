{
 "cells": [
  {
   "cell_type": "markdown",
   "id": "156ad44d",
   "metadata": {},
   "source": [
    "# Multilinear extensions"
   ]
  },
  {
   "cell_type": "markdown",
   "id": "5d077c87",
   "metadata": {},
   "source": [
    "<a id='contents'></a>\n",
    "## Contents\n",
    "\n",
    "* [Setup](#setup)\n",
    "* [Introduction](#introduction)\n",
    "* [Multilinear extensions: definition, existence, and uniqueness](#mle_definition)\n",
    "* [Properties of multilinear extensions](#properties)\n",
    "* [Multilinear extensions of special functions](#special)\n",
    "* [References](#references)"
   ]
  },
  {
   "cell_type": "markdown",
   "id": "f0f436b4-be2e-4ef2-bee2-f932992ca05b",
   "metadata": {},
   "source": [
    "<a id='setup'></a>\n",
    "## Setup\n",
    "↑↑ [Contents](#contents) ↓ [Introduction](#introduction)"
   ]
  },
  {
   "cell_type": "code",
   "execution_count": 1,
   "id": "febd6124",
   "metadata": {},
   "outputs": [
    {
     "name": "stdout",
     "output_type": "stream",
     "text": [
      "\u001b[35m\n",
      "================================================\n",
      "PROJECT DIRECTORY TREE AS AT 2025-01-20 10:18:39\n",
      "================================================\n",
      "\u001b[0m\n",
      "\u001b[35mBASE PATH: F:\\PROJECTS\\INFERENCE-LABS\\ZK-NOTEBOOKS\n",
      "\u001b[0m\n",
      "├─ \u001b[34massets/\u001b[0m\n",
      "├─ \u001b[34mnotebooks/\u001b[0m\n",
      "│  └─ \u001b[33m01-sum-check-protocol.ipynb\u001b[0m\n",
      "│  └─ \u001b[33m02-multilinear-extensions.ipynb\u001b[0m\n",
      "│  └─ \u001b[33m03-arithmetic-circuits.ipynb\u001b[0m\n",
      "│  └─ \u001b[33m04-gkr-protocol.ipynb\u001b[0m\n",
      "│  └─ \u001b[33m2025-01-20-sprint-retro-demo.ipynb\u001b[0m\n",
      "├─ \u001b[34mscripts/\u001b[0m\n",
      "│  └─ \u001b[33marithmetic_circuits.py\u001b[0m\n",
      "│  └─ \u001b[33mgkr_protocol.py\u001b[0m\n",
      "│  └─ \u001b[33minfo.py\u001b[0m\n",
      "│  └─ \u001b[33mmultilinear_extensions.py\u001b[0m\n",
      "│  └─ \u001b[33msetup.py\u001b[0m\n",
      "│  └─ \u001b[33msum_check.py\u001b[0m\n",
      "│  └─ \u001b[33mutils.py\u001b[0m\n",
      "└─ \u001b[33m.gitignore\u001b[0m\n",
      "└─ \u001b[33mLICENSE\u001b[0m\n",
      "└─ \u001b[33mREADME.md\u001b[0m\n",
      "└─ \u001b[33mrequirements.txt\u001b[0m\n",
      "\n",
      "\u001b[35mPATHS TO FIRST-LEVEL SUBDIRECTORIES STORED IN 'PATH' DICTIONARY\n",
      "\u001b[0m\n",
      "├─ path['\u001b[34mscripts\u001b[0m'] = \u001b[34mF:\\projects\\inference-labs\\zk-notebooks\\scripts\u001b[0m\n",
      "├─ path['\u001b[34mnotebooks\u001b[0m'] = \u001b[34mF:\\projects\\inference-labs\\zk-notebooks\\notebooks\u001b[0m\n",
      "├─ path['\u001b[34mcircuits\u001b[0m'] = \u001b[34mF:\\projects\\inference-labs\\zk-notebooks\\circuits\u001b[0m\n",
      "├─ path['\u001b[34massets\u001b[0m'] = \u001b[34mF:\\projects\\inference-labs\\zk-notebooks\\assets\u001b[0m\n"
     ]
    }
   ],
   "source": [
    "from pathlib import Path\n",
    "import os\n",
    "import sys\n",
    "\n",
    "# To use this project, set an environment variable named \"ZERO_KNOWLEDGE\" on your system\n",
    "# Determine the project root directory and add it to the Python path\n",
    "notebook_path = Path(os.getcwd()).resolve()  # Path to the current working directory\n",
    "project_root = notebook_path.parent          # Parent directory of notebooks, which is the project root\n",
    "\n",
    "# Add the project root directory to the Python path\n",
    "sys.path.append(str(project_root))\n",
    "\n",
    "# The setup module is project_root/scripts/setup.py\n",
    "from scripts.setup import *"
   ]
  },
  {
   "cell_type": "markdown",
   "id": "f835aa63",
   "metadata": {},
   "source": [
    "<a id='introduction'></a>\n",
    "## Introduction\n",
    "↑↑ [Contents](#contents) ↑ [Setup](#setup) ↓ [Multlinear extensions: definition, existence, and uniqueness](#mle_definition)"
   ]
  },
  {
   "cell_type": "markdown",
   "id": "d567dead-929b-4132-8ca2-72be4345c9f6",
   "metadata": {},
   "source": [
    "In our [sum-check protocol](./01-sum-check-protocol) notebook, we replicated Thaler's [[THA2015]](#tha2015) elegant presentation of the sum-check protocol, enhancing it with background information and interactive examples. Building on this foundation, we now explore multilinear extensions in this notebook, setting the stage for an in-depth discussion of the GKR interactive proof for circuit evaluation (Goldwasser, \n",
    "Kalai, and Rothblum [[GKR2008]](#gkr2008))."
   ]
  },
  {
   "cell_type": "markdown",
   "id": "7946bcb6-b7e5-492c-938c-307230c1aa9d",
   "metadata": {},
   "source": [
    "<a id='mle_definition'></a>\n",
    "## Multlinear extensions: definition, existence, and uniqueness\n",
    "↑↑ [Contents](#contents) ↑ [Introduction](#introduction) ↓ [Properties of multilinear extensions](#properties)"
   ]
  },
  {
   "cell_type": "markdown",
   "id": "a79b1386-8929-44f4-b29c-f7e42e0ee313",
   "metadata": {},
   "source": [
    "Recall from [Sum-check protocol - Definitions, conventions, and notation](./01-sum-check-protocol#terminology) that a multivariate polynomial $g$ is multilinear if each variable in $g$ has degree at most 1. For example, over any field $\\mathbb{F}$, the polynomial $g_1(X_0, X_1, X_2) = X_0 X_1 X_2 + X_1 X_2 + X_1$ is multilinear, while $g_2(X_0, X_1, X_2) = X_0 X_1 X_2 + X_1^2 X_2$ is not.\n",
    "\n",
    "Also recall that a polynomial function is obtained by evaluating a polynomial at each input. If the polynomial is multilinear, we call it a multilinear polynomial function. For instance, let $f_1 : \\mathbb{F}^3 \\to \\mathbb{F}$ be defined by $f_1(x_0, x_1, x_2) = g_1(x_0, x_1, x_2)$ and $f_2 : \\mathbb{F}^3 \\to \\mathbb{F}$ by $f_2(x_0, x_1, x_2) = g_2(x_0, x_1, x_2)$. Then both $f_1$ and $f_2$ are polynomial functions, but only $f_1$ is a multilinear polynomial function."
   ]
  },
  {
   "cell_type": "markdown",
   "id": "63fbc591-2f25-40a0-b840-e26b4ca8e3d8",
   "metadata": {},
   "source": [
    "**Definition.** Let $\\mathbb{F}$ be a finite field, $v$ a positive integer, and $f : \\{0,1\\}^v \\to \\mathbb{F}$ a function. A function $\\tilde{f} : \\mathbb{F}^v \\to \\mathbb{F}$ is called a _multilinear extension (MLE)_ of $f$ if:\n",
    "\n",
    "1. $\\tilde{f}$ is a multilinear polynomial function, and\n",
    "2. $\\tilde{f}(\\mathbf{b}) = f(\\mathbf{b})$ for all $\\mathbf{b} \\in \\{0,1\\}^v$"
   ]
  },
  {
   "cell_type": "markdown",
   "id": "6faf753b-d414-48aa-b490-fe5d60d65837",
   "metadata": {},
   "source": [
    "**Example.** We can confirm that each $\\tilde{f}$ provided below is indeed a multilinear extension of the corresponding function. The process used to construct these extensions will be explained afterward."
   ]
  },
  {
   "cell_type": "code",
   "execution_count": 2,
   "id": "bd38ff35-2de4-4a34-b3b6-ed05712f548e",
   "metadata": {
    "scrolled": true
   },
   "outputs": [
    {
     "name": "stdout",
     "output_type": "stream",
     "text": [
      "\n",
      "\u001b[34mEXAMPLE 1.\u001b[0m\n",
      "\n",
      "We work over GF(11). We extend a GF(11)-valued function defined on {0,1}**2 to one defined on GF(11)**2.\n",
      "\n",
      "The function value for input (0, 0) is: 1\n",
      "The function value for input (0, 0) is: 2\n",
      "The function value for input (0, 0) is: 3\n",
      "The function value for input (0, 0) is: 4\n",
      "\n",
      "The multilinear extension of this function is:\n",
      "\n",
      "\u001b[33mf̃(x_0, x_1) = 2*x_0 + x_1 + 1\u001b[0m\n",
      "\n",
      "In the following array, entry (i,j) is f̃(i,j):\n",
      "\n",
      "[[ 1  2  3  4  5  6  7  8  9 10  0]\n",
      " [ 3  4  5  6  7  8  9 10  0  1  2]\n",
      " [ 5  6  7  8  9 10  0  1  2  3  4]\n",
      " [ 7  8  9 10  0  1  2  3  4  5  6]\n",
      " [ 9 10  0  1  2  3  4  5  6  7  8]\n",
      " [ 0  1  2  3  4  5  6  7  8  9 10]\n",
      " [ 2  3  4  5  6  7  8  9 10  0  1]\n",
      " [ 4  5  6  7  8  9 10  0  1  2  3]\n",
      " [ 6  7  8  9 10  0  1  2  3  4  5]\n",
      " [ 8  9 10  0  1  2  3  4  5  6  7]\n",
      " [10  0  1  2  3  4  5  6  7  8  9]]\n",
      "\n",
      "\u001b[34mEXAMPLE 2.\u001b[0m\n",
      "\n",
      "We work over GF(11). We extend a GF(11)-valued function defined on {0,1}**2 to one defined on GF(11)**2.\n",
      "\n",
      "The function value for input (0, 0) is: 1\n",
      "The function value for input (0, 0) is: 2\n",
      "The function value for input (0, 0) is: 3\n",
      "The function value for input (0, 0) is: 3\n",
      "\n",
      "The multilinear extension of this function is:\n",
      "\n",
      "\u001b[33mf̃(x_0, x_1) = 10*x_0*x_1 + 2*x_0 + x_1 + 1\u001b[0m\n",
      "\n",
      "In the following array, entry (i,j) is f̃(i,j):\n",
      "\n",
      "[[ 1  2  3  4  5  6  7  8  9 10  0]\n",
      " [ 3  3  3  3  3  3  3  3  3  3  3]\n",
      " [ 5  4  3  2  1  0 10  9  8  7  6]\n",
      " [ 7  5  3  1 10  8  6  4  2  0  9]\n",
      " [ 9  6  3  0  8  5  2 10  7  4  1]\n",
      " [ 0  7  3 10  6  2  9  5  1  8  4]\n",
      " [ 2  8  3  9  4 10  5  0  6  1  7]\n",
      " [ 4  9  3  8  2  7  1  6  0  5 10]\n",
      " [ 6 10  3  7  0  4  8  1  5  9  2]\n",
      " [ 8  0  3  6  9  1  4  7 10  2  5]\n",
      " [10  1  3  5  7  9  0  2  4  6  8]]\n"
     ]
    },
    {
     "name": "stdin",
     "output_type": "stream",
     "text": [
      "\n",
      "Another example? (y/n) y\n"
     ]
    },
    {
     "name": "stdout",
     "output_type": "stream",
     "text": [
      "\n",
      "\u001b[34mEXAMPLE 3.\u001b[0m\n"
     ]
    },
    {
     "name": "stdin",
     "output_type": "stream",
     "text": [
      "Enter a prime number p (we will work over GF(p)):  7\n",
      "Enter a positive integer v (we will extend a function defined on {0,1}**v:  3\n"
     ]
    },
    {
     "name": "stdout",
     "output_type": "stream",
     "text": [
      "\n",
      "We work over GF(7). We extend a GF(7)-valued function defined on {0,1}**3 to one defined on GF(7)**3.\n",
      "\n"
     ]
    },
    {
     "name": "stdin",
     "output_type": "stream",
     "text": [
      "Enter the function value for input (0, 0, 0):  1\n",
      "Enter the function value for input (0, 0, 1):  2\n",
      "Enter the function value for input (0, 1, 0):  3\n",
      "Enter the function value for input (0, 1, 1):  4\n",
      "Enter the function value for input (1, 0, 0):  5\n",
      "Enter the function value for input (1, 0, 1):  6\n",
      "Enter the function value for input (1, 1, 0):  7\n",
      "Enter the function value for input (1, 1, 1):  8\n"
     ]
    },
    {
     "name": "stdout",
     "output_type": "stream",
     "text": [
      "\n",
      "The multilinear extension of this function is:\n",
      "\n",
      "\u001b[33mf̃(x_0, x_1, x_2) = 4*x_0 + 2*x_1 + x_2 + 1\u001b[0m\n"
     ]
    },
    {
     "name": "stdin",
     "output_type": "stream",
     "text": [
      "\n",
      "Another example? (y/n) n\n"
     ]
    }
   ],
   "source": [
    "from multilinear_extensions import multilinear_extension_example\n",
    "\n",
    "tilde_f = multilinear_extension_example()"
   ]
  },
  {
   "cell_type": "markdown",
   "id": "6731a628-31c7-4a24-8f6a-374b02c4325f",
   "metadata": {},
   "source": [
    "<a id='beta'></a>\n",
    "**Definition [equality function].** Given a field $\\mathbb{F}$, a positive integer $v$, and $\\mathbf{b} \\in \\{0,1\\}^v$, define $\\beta_{\\mathbf{b}} : \\{0,1\\}^v \\to \\mathbb{F}$ by\n",
    "\\begin{equation*}\n",
    "\\beta_{\\mathbf{b}}(\\mathbf{b}') = \\begin{cases} 1 & \\text{if } \\mathbf{b}' = \\mathbf{b},\\\\ 0 & \\text{otherwise} \\end{cases}\n",
    "\\end{equation*}\n",
    "Define $\\tilde{\\beta}_{\\mathbf{b}} : \\mathbb{F}^v \\to \\mathbb{F}$ by\n",
    "\\begin{equation*}\n",
    "\\tilde{\\beta}_{\\mathbf{b}}(y_0,\\ldots,y_{v-1}) = \\prod_{i = 0}^{v-1} \\left[(1 - b_i)(1 - y_i) + b_i y_i\\right], \\quad \\mathbf{b} = (b_0,\\ldots,b_{v-1}).\n",
    "\\end{equation*}\n",
    "Note that $\\tilde{\\beta}_{\\mathbf{b}}$ is multilinear (it is a product of linear polynomial functions in distinct variables), and $\\tilde{\\beta}_{\\mathbf{b}}(\\mathbf{b}') = \\beta_{\\mathbf{b}}(\\mathbf{b}')$ for all $\\mathbf{b}' \\in \\{0,1\\}^v$. Thus, $\\tilde{\\beta}_{\\mathbf{b}}$ is a multilinear extension of $\\beta_{\\mathbf{b}}$. More generally, define $\\beta : \\{0,1\\}^v \\times \\{0,1\\}^v \\to \\mathbb{F}$ by $\\beta(\\mathbf{b},\\mathbf{b}') = \\beta_{\\mathbf{b}}(\\mathbf{b}')$ and $\\tilde{\\beta} : \\mathbb{F}^v \\times \\mathbb{F}^v \\to \\mathbb{F}$ by \n",
    "\\begin{equation*}\n",
    "\\tilde{\\beta}((x_0,\\ldots,x_{v-1}),(y_0,\\ldots,y_{v-1})) = \\prod_{i = 0}^{v-1} \\left[(1 - x_i)(1 - y_i) + x_i y_i\\right].\n",
    "\\end{equation*}\n",
    "Then $\\tilde{\\beta}$ is multilinear and $\\tilde{\\beta}(\\mathbf{b}, \\mathbf{b}') = \\beta(\\mathbf{b}, \\mathbf{b}')$ for all $(\\mathbf{b}, \\mathbf{b}') \\in \\{0,1\\}^v \\times \\{0,1\\}^v$. Thus, $\\tilde{\\beta}$ is a multilinear extension of $\\beta$. We call $\\beta$ the _equality_ function on $\\{0,1\\}^v \\times \\{0,1\\}^v$."
   ]
  },
  {
   "cell_type": "markdown",
   "id": "39010994-fdc2-49a9-b2b0-cd6498adf4f8",
   "metadata": {},
   "source": [
    "**Remark.** (i) We stated that $\\tilde{\\beta}_{\\mathbf{b}}$ is _a_ multilinear extension of $\\beta_{\\mathbf{b}}$ and $\\tilde{\\beta}$ is _a_ multilinear extension of $\\beta$. In fact, multilinear extensions are unique by the next proposition, so we may say _the_ multilinear extension in both cases. (ii) Technically, we defined multilinear extensions for functions defined on $\\{0,1\\}^v$ as functions defined on $\\mathbb{F}^v$. Here, we identify the domain of $\\beta$ with $\\{0,1\\}^{2v}$ and that of $\\tilde{\\beta}$ with $\\mathbb{F}^{2v}$. (iii) The function $\\beta$ is an indicator function for the 'diagonal' elements of $\\{0,1\\}^v \\times \\{0,1\\}^v$. It is sometimes denoted by $I$ or $\\mathrm{eq}$; however, this can cause confusion since $\\tilde{\\beta}$ does not indicate equality on all of $\\mathbb{F}^v$ in general: for instance, in $\\mathbb{F}^5\\times \\mathbb{F}^5$, $\\tilde{\\beta}((0,2),(0,2)) = 0$ and $\\tilde{\\beta}((0,0),(2,2)) = 1$."
   ]
  },
  {
   "cell_type": "markdown",
   "id": "5b3e42c9-e299-4a4f-84dd-ad17ea30bf0e",
   "metadata": {},
   "source": [
    "The proof of the existence part of the following result shows how to use $\\tilde{\\beta}$ to construct a multilinear extension of a given function $f : \\{0,1\\} \\to \\mathbb{F}$. The result also establishes uniqueness, so that we may speak of _the_ multilinear extension of $f$."
   ]
  },
  {
   "cell_type": "markdown",
   "id": "00dd6438-cfe1-495d-9835-77ce821414a8",
   "metadata": {},
   "source": [
    "**Proposition.** Let $\\mathbb{F}$ be a finite field, $v$ a positive integer, and $f : \\{0,1\\}^v \\to \\mathbb{F}$ a function. There exists a _unique_ multilinear extension $\\tilde{f} : \\mathbb{F}^v \\to \\mathbb{F}$ of $f$."
   ]
  },
  {
   "cell_type": "markdown",
   "id": "8fdf825e-35f0-4a08-b66f-9e0b4a53f1a9",
   "metadata": {},
   "source": [
    "_Proof_. Define $\\tilde{f} : \\mathbb{F}^v \\to \\mathbb{F}$ by \n",
    "\\begin{equation*}\n",
    " \\tilde{f}(x_0,\\ldots,x_{v - 1}) = \\sum_{\\mathbf{b} \\, \\in \\, \\{0,1\\}^v} f(\\mathbf{b}) \\tilde{\\beta}_{\\mathbf{b} }(x_0,\\ldots,x_{v-1}).\n",
    "\\end{equation*}\n",
    "Then $\\tilde{f}(\\mathbf{b} ) = f(\\mathbf{b} )$ for all $\\mathbf{b}  \\in \\{0,1\\}^v$. Since each term in the sum is a product of linear polynomial functions in distinct variables, $\\tilde{f}$ is multilinear.\n",
    "\n",
    "To show uniqueness, let $\\tilde{g} : \\mathbb{F}^v \\to \\mathbb{F}$ be any multilinear extension of $f$. Consider the polynomial function $h := \\tilde{g} - \\tilde{f}$. Since $\\tilde{g}$ and $\\tilde{f}$ are both multilinear, $h$ can be written as\n",
    "\n",
    "\\begin{equation*}\n",
    "h(x_0, \\ldots, x_{v-1}) = \\sum_{J \\subseteq \\{0, \\ldots, v-1\\}} c_J \\prod_{j \\, \\in \\, J} x_j,\n",
    "\\end{equation*}\n",
    "\n",
    "where each $c_J \\in \\mathbb{F}$ and $J$ is a subset of $\\{0, \\ldots, v-1\\}$. We can establish a one-to-one correspondence between bit strings $\\mathbf{b} = (b_0, \\ldots, b_{v-1}) \\in \\{0,1\\}^v$ and subsets $J \\subseteq \\{0, \\ldots, v - 1\\}$ by defining\n",
    "\n",
    "\\begin{equation*}\n",
    "J(\\mathbf{b}) = \\{j : b_j = 1\\}.\n",
    "\\end{equation*}\n",
    "\n",
    "For each $\\mathbf{b} \\in \\{0,1\\}^v$ and subset $J$ of $\\{0,\\ldots,v-1\\}$, the product $\\prod_{j \\, \\in \\, J} b_j$ acts as an indicator function, being $1$ if $J \\subseteq J(\\mathbf{b})$ and $0$ otherwise. (Note that the empty product is equal to $1$ and $J((0,\\ldots,0)) = \\emptyset$.) Thus, we find that for each $\\mathbf{b} \\in \\{0,1\\}^v$,\n",
    "\n",
    "\\begin{equation*}\n",
    "\\sum_{J \\subseteq J(\\mathbf{b})} c_J = \\sum_{J \\subseteq \\{0, \\ldots, v-1\\}} c_J \\prod_{j \\, \\in \\, J} b_j = h(\\mathbf{b}) = (\\tilde{g} - \\tilde{f})(\\mathbf{b}) = 0.\n",
    "\\end{equation*}\n",
    "\n",
    "It immediately follows that $c_{\\emptyset} = 0$. Next, by considering bit strings $\\mathbf{b}$ of the form $(0, \\ldots, 1, \\ldots, 0)$ — with a $1$ in the $j$-th position and $0$ in all other positions — we find that $c_{\\{j\\}} = 0$ for each $j = 0, \\ldots, v - 1$. Extending this to bit strings containing exactly two $1$s shows that $c_J = 0$ for all two-element subsets $J$ of $\\{0, \\ldots, v - 1\\}$. Continuing in this manner, we conclude that $c_J = 0$ for every subset $J$, which implies that $h$ is identically zero.\n",
    "\n",
    "\n",
    "\n",
    "Therefore, $\\tilde{g} = \\tilde{f}$, proving that the multilinear extension is unique.\n"
   ]
  },
  {
   "cell_type": "markdown",
   "id": "2d470b41-8bcb-4ecb-85de-17f80263023c",
   "metadata": {},
   "source": [
    "**Remark.** If to functions $f: \\{0,1\\}^v \\to \\mathbb{F}$ and $g : \\{0,1\\}^v \\to \\mathbb{F}$ differ at all, their multilinear extensions $\\tilde{f}$ and $\\tilde{g}$ will differ at many points. If $f$ and $g$ are different, the proportion of points in $\\{0,1\\}^v$ at which they agree may be up to $1 - 2^{-v}$. Regardess, by the Schwartz-Zippel lemma, the proportion of points in $\\mathbb{F}^v$ at which $\\tilde{f}$ and $\\tilde{g}$ agree can be at most $v/\\#\\mathbb{F}$. We may think of multilinear extensions as 'discrepancy amplifiers'."
   ]
  },
  {
   "cell_type": "markdown",
   "id": "6d5b5a55-3b8d-428d-87f9-95b050472e84",
   "metadata": {},
   "source": [
    "**Example.**"
   ]
  },
  {
   "cell_type": "code",
   "execution_count": 3,
   "id": "8cf6ae93-d266-4263-b43c-6f086c1dbeda",
   "metadata": {
    "scrolled": true
   },
   "outputs": [
    {
     "name": "stdout",
     "output_type": "stream",
     "text": [
      "\n",
      "\u001b[34mEXAMPLE 1.\u001b[0m\n",
      "\n",
      "We work over GF(11). We extend a GF(11)-valued function defined on {0,1}**2 to one defined on GF(11)**2.\n",
      "\n",
      "The function value for input (0, 0) is: 1\n",
      "The function value for input (0, 0) is: 2\n",
      "The function value for input (0, 0) is: 3\n",
      "The function value for input (0, 0) is: 4\n",
      "\n",
      "The multilinear extension of this function is:\n",
      "\n",
      "\u001b[33mf̃(x_0, x_1) = 2*x_0 + x_1 + 1\u001b[0m\n",
      "\n",
      "In the following array, entry (i,j) is f̃(i,j):\n",
      "\n",
      "[[ 1  2  3  4  5  6  7  8  9 10  0]\n",
      " [ 3  4  5  6  7  8  9 10  0  1  2]\n",
      " [ 5  6  7  8  9 10  0  1  2  3  4]\n",
      " [ 7  8  9 10  0  1  2  3  4  5  6]\n",
      " [ 9 10  0  1  2  3  4  5  6  7  8]\n",
      " [ 0  1  2  3  4  5  6  7  8  9 10]\n",
      " [ 2  3  4  5  6  7  8  9 10  0  1]\n",
      " [ 4  5  6  7  8  9 10  0  1  2  3]\n",
      " [ 6  7  8  9 10  0  1  2  3  4  5]\n",
      " [ 8  9 10  0  1  2  3  4  5  6  7]\n",
      " [10  0  1  2  3  4  5  6  7  8  9]]\n",
      "\n",
      "\u001b[34mEXAMPLE 2.\u001b[0m\n",
      "\n",
      "We work over GF(11). We extend a GF(11)-valued function defined on {0,1}**2 to one defined on GF(11)**2.\n",
      "\n",
      "The function value for input (0, 0) is: 1\n",
      "The function value for input (0, 0) is: 2\n",
      "The function value for input (0, 0) is: 3\n",
      "The function value for input (0, 0) is: 3\n",
      "\n",
      "The multilinear extension of this function is:\n",
      "\n",
      "\u001b[33mf̃(x_0, x_1) = 10*x_0*x_1 + 2*x_0 + x_1 + 1\u001b[0m\n",
      "\n",
      "In the following array, entry (i,j) is f̃(i,j):\n",
      "\n",
      "[[ 1  2  3  4  5  6  7  8  9 10  0]\n",
      " [ 3  3  3  3  3  3  3  3  3  3  3]\n",
      " [ 5  4  3  2  1  0 10  9  8  7  6]\n",
      " [ 7  5  3  1 10  8  6  4  2  0  9]\n",
      " [ 9  6  3  0  8  5  2 10  7  4  1]\n",
      " [ 0  7  3 10  6  2  9  5  1  8  4]\n",
      " [ 2  8  3  9  4 10  5  0  6  1  7]\n",
      " [ 4  9  3  8  2  7  1  6  0  5 10]\n",
      " [ 6 10  3  7  0  4  8  1  5  9  2]\n",
      " [ 8  0  3  6  9  1  4  7 10  2  5]\n",
      " [10  1  3  5  7  9  0  2  4  6  8]]\n",
      "\n",
      "The multilinear extension of the first function (\u001b[34mEXAMPLE 1\u001b[0m) is: \u001b[33m2*x_0 + x_1 + 1\u001b[0m.\n",
      "\n",
      "The multilinear extension of the second function (\u001b[34mEXAMPLE 2\u001b[0m) is: \u001b[33m10*x_0*x_1 + 2*x_0 + x_1 + 1\u001b[0m.\n",
      "\n",
      "The multilinear extensions can agree on at most 22 out of 121 points.\n",
      "\n",
      "Indeed, they agree on \u001b[32m21 points\u001b[0m, as shown below.\n",
      "\n",
      "Entry in row i, column j is a tuple where the first (second) coordinate is the evaluation of the first (second) MLE at (i,j).\n",
      "\n",
      "\u001b[32m(1, 1)\u001b[0m \u001b[32m(2, 2)\u001b[0m \u001b[32m(3, 3)\u001b[0m \u001b[32m(4, 4)\u001b[0m \u001b[32m(5, 5)\u001b[0m \u001b[32m(6, 6)\u001b[0m \u001b[32m(7, 7)\u001b[0m \u001b[32m(8, 8)\u001b[0m \u001b[32m(9, 9)\u001b[0m \u001b[32m(10, 10)\u001b[0m \u001b[32m(0, 0)\u001b[0m \n",
      "\u001b[32m(3, 3)\u001b[0m \u001b[31m(4, 3)\u001b[0m \u001b[31m(5, 3)\u001b[0m \u001b[31m(6, 3)\u001b[0m \u001b[31m(7, 3)\u001b[0m \u001b[31m(8, 3)\u001b[0m \u001b[31m(9, 3)\u001b[0m \u001b[31m(10, 3)\u001b[0m \u001b[31m(0, 3)\u001b[0m \u001b[31m(1, 3)\u001b[0m \u001b[31m(2, 3)\u001b[0m \n",
      "\u001b[32m(5, 5)\u001b[0m \u001b[31m(6, 4)\u001b[0m \u001b[31m(7, 3)\u001b[0m \u001b[31m(8, 2)\u001b[0m \u001b[31m(9, 1)\u001b[0m \u001b[31m(10, 0)\u001b[0m \u001b[31m(0, 10)\u001b[0m \u001b[31m(1, 9)\u001b[0m \u001b[31m(2, 8)\u001b[0m \u001b[31m(3, 7)\u001b[0m \u001b[31m(4, 6)\u001b[0m \n",
      "\u001b[32m(7, 7)\u001b[0m \u001b[31m(8, 5)\u001b[0m \u001b[31m(9, 3)\u001b[0m \u001b[31m(10, 1)\u001b[0m \u001b[31m(0, 10)\u001b[0m \u001b[31m(1, 8)\u001b[0m \u001b[31m(2, 6)\u001b[0m \u001b[31m(3, 4)\u001b[0m \u001b[31m(4, 2)\u001b[0m \u001b[31m(5, 0)\u001b[0m \u001b[31m(6, 9)\u001b[0m \n",
      "\u001b[32m(9, 9)\u001b[0m \u001b[31m(10, 6)\u001b[0m \u001b[31m(0, 3)\u001b[0m \u001b[31m(1, 0)\u001b[0m \u001b[31m(2, 8)\u001b[0m \u001b[31m(3, 5)\u001b[0m \u001b[31m(4, 2)\u001b[0m \u001b[31m(5, 10)\u001b[0m \u001b[31m(6, 7)\u001b[0m \u001b[31m(7, 4)\u001b[0m \u001b[31m(8, 1)\u001b[0m \n",
      "\u001b[32m(0, 0)\u001b[0m \u001b[31m(1, 7)\u001b[0m \u001b[31m(2, 3)\u001b[0m \u001b[31m(3, 10)\u001b[0m \u001b[31m(4, 6)\u001b[0m \u001b[31m(5, 2)\u001b[0m \u001b[31m(6, 9)\u001b[0m \u001b[31m(7, 5)\u001b[0m \u001b[31m(8, 1)\u001b[0m \u001b[31m(9, 8)\u001b[0m \u001b[31m(10, 4)\u001b[0m \n",
      "\u001b[32m(2, 2)\u001b[0m \u001b[31m(3, 8)\u001b[0m \u001b[31m(4, 3)\u001b[0m \u001b[31m(5, 9)\u001b[0m \u001b[31m(6, 4)\u001b[0m \u001b[31m(7, 10)\u001b[0m \u001b[31m(8, 5)\u001b[0m \u001b[31m(9, 0)\u001b[0m \u001b[31m(10, 6)\u001b[0m \u001b[31m(0, 1)\u001b[0m \u001b[31m(1, 7)\u001b[0m \n",
      "\u001b[32m(4, 4)\u001b[0m \u001b[31m(5, 9)\u001b[0m \u001b[31m(6, 3)\u001b[0m \u001b[31m(7, 8)\u001b[0m \u001b[31m(8, 2)\u001b[0m \u001b[31m(9, 7)\u001b[0m \u001b[31m(10, 1)\u001b[0m \u001b[31m(0, 6)\u001b[0m \u001b[31m(1, 0)\u001b[0m \u001b[31m(2, 5)\u001b[0m \u001b[31m(3, 10)\u001b[0m \n",
      "\u001b[32m(6, 6)\u001b[0m \u001b[31m(7, 10)\u001b[0m \u001b[31m(8, 3)\u001b[0m \u001b[31m(9, 7)\u001b[0m \u001b[31m(10, 0)\u001b[0m \u001b[31m(0, 4)\u001b[0m \u001b[31m(1, 8)\u001b[0m \u001b[31m(2, 1)\u001b[0m \u001b[31m(3, 5)\u001b[0m \u001b[31m(4, 9)\u001b[0m \u001b[31m(5, 2)\u001b[0m \n",
      "\u001b[32m(8, 8)\u001b[0m \u001b[31m(9, 0)\u001b[0m \u001b[31m(10, 3)\u001b[0m \u001b[31m(0, 6)\u001b[0m \u001b[31m(1, 9)\u001b[0m \u001b[31m(2, 1)\u001b[0m \u001b[31m(3, 4)\u001b[0m \u001b[31m(4, 7)\u001b[0m \u001b[31m(5, 10)\u001b[0m \u001b[31m(6, 2)\u001b[0m \u001b[31m(7, 5)\u001b[0m \n",
      "\u001b[32m(10, 10)\u001b[0m \u001b[31m(0, 1)\u001b[0m \u001b[31m(1, 3)\u001b[0m \u001b[31m(2, 5)\u001b[0m \u001b[31m(3, 7)\u001b[0m \u001b[31m(4, 9)\u001b[0m \u001b[31m(5, 0)\u001b[0m \u001b[31m(6, 2)\u001b[0m \u001b[31m(7, 4)\u001b[0m \u001b[31m(8, 6)\u001b[0m \u001b[31m(9, 8)\u001b[0m \n"
     ]
    },
    {
     "name": "stdin",
     "output_type": "stream",
     "text": [
      "\n",
      "Another example? (y/n) y\n"
     ]
    },
    {
     "name": "stdout",
     "output_type": "stream",
     "text": [
      "\n",
      "\u001b[34mEXAMPLE 3.\u001b[0m\n"
     ]
    },
    {
     "name": "stdin",
     "output_type": "stream",
     "text": [
      "Enter a prime number p (we will work over GF(p)):  7\n",
      "Enter a positive integer v (we will extend a function defined on {0,1}**v:  2\n"
     ]
    },
    {
     "name": "stdout",
     "output_type": "stream",
     "text": [
      "\n",
      "We work over GF(7). We extend a GF(7)-valued function defined on {0,1}**2 to one defined on GF(7)**2.\n",
      "\n"
     ]
    },
    {
     "name": "stdin",
     "output_type": "stream",
     "text": [
      "Enter the function value for input (0, 0):  1\n",
      "Enter the function value for input (0, 1):  4\n",
      "Enter the function value for input (1, 0):  3\n",
      "Enter the function value for input (1, 1):  4\n"
     ]
    },
    {
     "name": "stdout",
     "output_type": "stream",
     "text": [
      "\n",
      "The multilinear extension of this function is:\n",
      "\n",
      "\u001b[33mf̃(x_0, x_1) = 5*x_0*x_1 + 2*x_0 + 3*x_1 + 1\u001b[0m\n",
      "\n",
      "In the following array, entry (i,j) is f̃(i,j):\n",
      "\n",
      "[[1 4 0 3 6 2 5]\n",
      " [3 4 5 6 0 1 2]\n",
      " [5 4 3 2 1 0 6]\n",
      " [0 4 1 5 2 6 3]\n",
      " [2 4 6 1 3 5 0]\n",
      " [4 4 4 4 4 4 4]\n",
      " [6 4 2 0 5 3 1]]\n"
     ]
    },
    {
     "name": "stdin",
     "output_type": "stream",
     "text": [
      "\n",
      "Another example? (y/n) y\n"
     ]
    },
    {
     "name": "stdout",
     "output_type": "stream",
     "text": [
      "\n",
      "\u001b[34mEXAMPLE 4.\u001b[0m\n"
     ]
    },
    {
     "name": "stdin",
     "output_type": "stream",
     "text": [
      "Enter a prime number p (we will work over GF(p)):  7\n",
      "Enter a positive integer v (we will extend a function defined on {0,1}**v:  2\n"
     ]
    },
    {
     "name": "stdout",
     "output_type": "stream",
     "text": [
      "\n",
      "We work over GF(7). We extend a GF(7)-valued function defined on {0,1}**2 to one defined on GF(7)**2.\n",
      "\n"
     ]
    },
    {
     "name": "stdin",
     "output_type": "stream",
     "text": [
      "Enter the function value for input (0, 0):  3\n",
      "Enter the function value for input (0, 1):  4\n",
      "Enter the function value for input (1, 0):  3\n",
      "Enter the function value for input (1, 1):  6\n"
     ]
    },
    {
     "name": "stdout",
     "output_type": "stream",
     "text": [
      "\n",
      "The multilinear extension of this function is:\n",
      "\n",
      "\u001b[33mf̃(x_0, x_1) = 2*x_0*x_1 + x_1 + 3\u001b[0m\n",
      "\n",
      "In the following array, entry (i,j) is f̃(i,j):\n",
      "\n",
      "[[3 4 5 6 0 1 2]\n",
      " [3 6 2 5 1 4 0]\n",
      " [3 1 6 4 2 0 5]\n",
      " [3 3 3 3 3 3 3]\n",
      " [3 5 0 2 4 6 1]\n",
      " [3 0 4 1 5 2 6]\n",
      " [3 2 1 0 6 5 4]]\n",
      "\n",
      "The multilinear extension of the first function (\u001b[34mEXAMPLE 3\u001b[0m) is: \u001b[33m5*x_0*x_1 + 2*x_0 + 3*x_1 + 1\u001b[0m.\n",
      "\n",
      "The multilinear extension of the second function (\u001b[34mEXAMPLE 4\u001b[0m) is: \u001b[33m2*x_0*x_1 + x_1 + 3\u001b[0m.\n",
      "\n",
      "The multilinear extensions can agree on at most 14 out of 49 points.\n",
      "\n",
      "Indeed, they agree on \u001b[32m6 points\u001b[0m, as shown below.\n",
      "\n",
      "Entry in row i, column j is a tuple where the first (second) coordinate is the evaluation of the first (second) MLE at (i,j).\n",
      "\n",
      "\u001b[31m(1, 3)\u001b[0m \u001b[32m(4, 4)\u001b[0m \u001b[31m(0, 5)\u001b[0m \u001b[31m(3, 6)\u001b[0m \u001b[31m(6, 0)\u001b[0m \u001b[31m(2, 1)\u001b[0m \u001b[31m(5, 2)\u001b[0m \n",
      "\u001b[32m(3, 3)\u001b[0m \u001b[31m(4, 6)\u001b[0m \u001b[31m(5, 2)\u001b[0m \u001b[31m(6, 5)\u001b[0m \u001b[31m(0, 1)\u001b[0m \u001b[31m(1, 4)\u001b[0m \u001b[31m(2, 0)\u001b[0m \n",
      "\u001b[31m(5, 3)\u001b[0m \u001b[31m(4, 1)\u001b[0m \u001b[31m(3, 6)\u001b[0m \u001b[31m(2, 4)\u001b[0m \u001b[31m(1, 2)\u001b[0m \u001b[32m(0, 0)\u001b[0m \u001b[31m(6, 5)\u001b[0m \n",
      "\u001b[31m(0, 3)\u001b[0m \u001b[31m(4, 3)\u001b[0m \u001b[31m(1, 3)\u001b[0m \u001b[31m(5, 3)\u001b[0m \u001b[31m(2, 3)\u001b[0m \u001b[31m(6, 3)\u001b[0m \u001b[32m(3, 3)\u001b[0m \n",
      "\u001b[31m(2, 3)\u001b[0m \u001b[31m(4, 5)\u001b[0m \u001b[31m(6, 0)\u001b[0m \u001b[31m(1, 2)\u001b[0m \u001b[31m(3, 4)\u001b[0m \u001b[31m(5, 6)\u001b[0m \u001b[31m(0, 1)\u001b[0m \n",
      "\u001b[31m(4, 3)\u001b[0m \u001b[31m(4, 0)\u001b[0m \u001b[32m(4, 4)\u001b[0m \u001b[31m(4, 1)\u001b[0m \u001b[31m(4, 5)\u001b[0m \u001b[31m(4, 2)\u001b[0m \u001b[31m(4, 6)\u001b[0m \n",
      "\u001b[31m(6, 3)\u001b[0m \u001b[31m(4, 2)\u001b[0m \u001b[31m(2, 1)\u001b[0m \u001b[32m(0, 0)\u001b[0m \u001b[31m(5, 6)\u001b[0m \u001b[31m(3, 5)\u001b[0m \u001b[31m(1, 4)\u001b[0m \n"
     ]
    },
    {
     "name": "stdin",
     "output_type": "stream",
     "text": [
      "\n",
      "Another example? (y/n) y\n"
     ]
    },
    {
     "name": "stdout",
     "output_type": "stream",
     "text": [
      "\n",
      "\u001b[34mEXAMPLE 5.\u001b[0m\n"
     ]
    },
    {
     "name": "stdin",
     "output_type": "stream",
     "text": [
      "Enter a prime number p (we will work over GF(p)):  53\n",
      "Enter a positive integer v (we will extend a function defined on {0,1}**v:  3\n"
     ]
    },
    {
     "name": "stdout",
     "output_type": "stream",
     "text": [
      "\n",
      "We work over GF(53). We extend a GF(53)-valued function defined on {0,1}**3 to one defined on GF(53)**3.\n",
      "\n"
     ]
    },
    {
     "name": "stdin",
     "output_type": "stream",
     "text": [
      "Enter the function value for input (0, 0, 0):  1\n",
      "Enter the function value for input (0, 0, 1):  2\n",
      "Enter the function value for input (0, 1, 0):  3\n",
      "Enter the function value for input (0, 1, 1):  4\n",
      "Enter the function value for input (1, 0, 0):  5\n",
      "Enter the function value for input (1, 0, 1):  6\n",
      "Enter the function value for input (1, 1, 0):  7\n",
      "Enter the function value for input (1, 1, 1):  8\n"
     ]
    },
    {
     "name": "stdout",
     "output_type": "stream",
     "text": [
      "\n",
      "The multilinear extension of this function is:\n",
      "\n",
      "\u001b[33mf̃(x_0, x_1, x_2) = 4*x_0 + 2*x_1 + x_2 + 1\u001b[0m\n"
     ]
    },
    {
     "name": "stdin",
     "output_type": "stream",
     "text": [
      "\n",
      "Another example? (y/n) y\n"
     ]
    },
    {
     "name": "stdout",
     "output_type": "stream",
     "text": [
      "\n",
      "\u001b[34mEXAMPLE 6.\u001b[0m\n"
     ]
    },
    {
     "name": "stdin",
     "output_type": "stream",
     "text": [
      "Enter a prime number p (we will work over GF(p)):  53\n",
      "Enter a positive integer v (we will extend a function defined on {0,1}**v:  3\n"
     ]
    },
    {
     "name": "stdout",
     "output_type": "stream",
     "text": [
      "\n",
      "We work over GF(53). We extend a GF(53)-valued function defined on {0,1}**3 to one defined on GF(53)**3.\n",
      "\n"
     ]
    },
    {
     "name": "stdin",
     "output_type": "stream",
     "text": [
      "Enter the function value for input (0, 0, 0):  1\n",
      "Enter the function value for input (0, 0, 1):  4\n",
      "Enter the function value for input (0, 1, 0):  2\n",
      "Enter the function value for input (0, 1, 1):  5\n",
      "Enter the function value for input (1, 0, 0):  6\n",
      "Enter the function value for input (1, 0, 1):  3\n",
      "Enter the function value for input (1, 1, 0):  5\n",
      "Enter the function value for input (1, 1, 1):  6\n"
     ]
    },
    {
     "name": "stdout",
     "output_type": "stream",
     "text": [
      "\n",
      "The multilinear extension of this function is:\n",
      "\n",
      "\u001b[33mf̃(x_0, x_1, x_2) = 4*x_0*x_1*x_2 + 51*x_0*x_1 + 47*x_0*x_2 + 5*x_0 + x_1 + 3*x_2 + 1\u001b[0m\n",
      "\n",
      "The multilinear extension of the first function (\u001b[34mEXAMPLE 5\u001b[0m) is: \u001b[33m4*x_0 + 2*x_1 + x_2 + 1\u001b[0m.\n",
      "\n",
      "The multilinear extension of the second function (\u001b[34mEXAMPLE 6\u001b[0m) is: \u001b[33m4*x_0*x_1*x_2 + 51*x_0*x_1 + 47*x_0*x_2 + 5*x_0 + x_1 + 3*x_2 + 1\u001b[0m.\n",
      "\n",
      "The multilinear extensions can agree on at most 8427 out of 148877 points.\n",
      "\n",
      "Indeed, they agree on 2863 points.\n"
     ]
    },
    {
     "name": "stdin",
     "output_type": "stream",
     "text": [
      "\n",
      "Another example? (y/n) n\n"
     ]
    }
   ],
   "source": [
    "mle, grid = multilinear_extension_example(show_result=True, compare=True);"
   ]
  },
  {
   "cell_type": "markdown",
   "id": "d4e6386a-245e-48c4-bac9-8311df1fb8b8",
   "metadata": {},
   "source": [
    "<a id='properties'></a>\n",
    "## Properties of multilinear extensions\n",
    "↑↑ [Contents](#contents) ↑ [Multlinear extensions: definition, existence, and uniqueness](#mle_definition) ↓ [Multilinear extensions of special functions](#special)"
   ]
  },
  {
   "cell_type": "markdown",
   "id": "dbad3435-0f59-4a02-a310-31db9606543f",
   "metadata": {},
   "source": [
    "<a id='mle_proposition'></a>\n",
    "**Proposition.** Let $\\mathbb{F}$ be a finite field and $v$ a positive integer. Let $f : \\{0,1\\}^v \\to \\mathbb{F}$ and $g : \\{0,1\\}^v \\to \\mathbb{F}$ have respective multilinear extensions $\\tilde{f} : \\mathbb{F}^v \\to \\mathbb{F}$ and $\\tilde{g} : \\mathbb{F}^v \\to \\mathbb{F}$. Finally, let $c$ and $d$ be elements of $\\mathbb{F}$. Then \n",
    "\\begin{equation*}\n",
    "\\widetilde{cf + dg} = c\\tilde{f} + d\\tilde{g}.\n",
    "\\end{equation*}"
   ]
  },
  {
   "cell_type": "markdown",
   "id": "15992eef-faf6-450d-a852-377c5e3239f9",
   "metadata": {},
   "source": [
    "_Proof_. First of all, $cf + dg$ is a multilinear function. (Exercise.) Now, \n",
    "\\begin{equation*}\n",
    " (c\\tilde{f} + d\\tilde{g})(\\mathbf{b}) = c\\tilde{f}(\\mathbf{b}) + d\\tilde{g}(\\mathbf{b}) = cf(\\mathbf{b} + dg(\\mathbf{b}) = (cf + dg)(\\mathbf{b}),\n",
    "\\end{equation*}\n",
    "where the second equality holds because $\\tilde{f}$ is the multilinear extension of $f$ and $\\tilde{g}$ is the multilinear extension of $g$. Therefore, $c\\tilde{f} + d\\tilde{g}$ is _a_ multilinear extension of $cf + dg$. By uniqueness of multilinear extensions, it is _the_ multilinear extension of $cf + dg$, i.e., $\\widetilde{cf + dg} = c\\tilde{f} + d\\tilde{g}$."
   ]
  },
  {
   "cell_type": "markdown",
   "id": "4f40ea51-4933-4829-a49a-78b5e53036a0",
   "metadata": {},
   "source": [
    "What about the multilinear extension of the product of two functions? In general, the product of multilinear functions is not multinear, so there is no immediate analog of the above proposition for products. For example, define $f : \\{0,1\\}^2 \\to \\mathbb{F}$ by $f(0,0) = f(0,1) = f(1,0) = 0$ and $f(1,1) = 1$, and define $g : \\{0,1\\}^2 \\to \\mathbb{F}$ by $g(0,0) = 0$ and $g(0,1) = g(1,0) = g(1,1) = 1$. Then $\\tilde{f} : \\mathbb{F}^2 \\to \\mathbb{F}$ is given by $\\tilde{f}(x,y) = xy$ and $\\tilde{g} : \\mathbb{F}^2 \\to \\mathbb{F}$ is given by $\\tilde{g}(x,y) = x + y - xy$. However, $fg = f$, whence $\\widetilde{fg} = \\tilde{f}$, but $(\\tilde{f}\\tilde{g})(x,y) = xy(x + y - xy)$, while an extension of $fg$, is not multilinear. "
   ]
  },
  {
   "cell_type": "markdown",
   "id": "16167110-98e8-408e-9a00-8c2f037d0f93",
   "metadata": {},
   "source": [
    "**Proposition.** Let $\\mathbb{F}$ be a finite field and $v$ a positive integer. Let $f : \\{0,1\\}^v \\to \\mathbb{F}$ and $g : \\{0,1\\}^v \\to \\mathbb{F}$ have respective multilinear extensions $\\tilde{f} : \\mathbb{F}^v \\to \\mathbb{F}$ and $\\tilde{g} : \\mathbb{F}^v \\to \\mathbb{F}$. Let $\\{j_0,\\ldots,j_{u-1}\\} \\cup \\{j_{u},\\ldots,j_{v-1}\\}$ be a partition of $\\{0,\\ldots,v - 1\\}$, and suppose that there exist functions $f_0 : \\{0,1\\}^u \\to \\mathbb{F}$ and $g_0 : \\{0,1\\}^{v - u} \\to \\mathbb{F}$ such that $f(b_0,\\ldots,b_{v-1}) = f_0(b_{j_0},\\ldots,b_{j_{u-1}})$ and $g(b_0,\\ldots,b_{v-1}) = g_0(b_{j_{u}},\\ldots,b_{j_{v-1}})$ for all $b_0,\\ldots,b_{v-1} \\in \\{0,1\\}^v$. Then \n",
    "1. For all $(x_0,\\ldots,x_{v-1}) \\in \\mathbb{F}^v$,\n",
    "\\begin{equation*}\n",
    "\\tilde{f}(x_0,\\ldots,x_{v-1}) = \\widetilde{f_0}(x_{j_0},\\ldots,x_{j_{u - 1}}) \\quad \\text{and} \\quad \\tilde{g}(x_0,\\ldots,x_{v-1}) = \\widetilde{g_0}(x_{j_u},\\ldots,x_{j_{v - 1}})\n",
    "\\end{equation*}\n",
    "3. $\\widetilde{fg} = \\widetilde{f}\\widetilde{g}$"
   ]
  },
  {
   "cell_type": "markdown",
   "id": "fc4cba82-8476-4f99-91a2-de2380fdbfdc",
   "metadata": {},
   "source": [
    "_Proof._ First note that the multilinear extension of the function that is identically equation to $1$ on $\\{0,1\\}^w$ is the function that is identically equal to $1$ on $\\mathbb{F}^w$. We denote it by $\\tilde{\\mathbf{1}}$. Let $(x_0,\\ldots,x_{v-1}) \\in \\mathbb{F}^v$. Recalling the construction for multilinear extensions, we have:\n",
    "\\begin{align*}\n",
    " \\tilde{f}(x_0,\\ldots,x_{v-1}) \n",
    " & = \\sum_{b_0 \\in \\{0,1\\}} \\cdots \\sum_{b_{v-1} \\in \\{0,1\\}} f(b_0,\\ldots,b_{v-1}) \\prod_{i \\, = \\, 0}^{v-1} \\left[(1 - b_i)(1 - x_i) + b_ix_i\\right] \\\\\n",
    "& =  \\sum_{b_0 \\in \\{0,1\\}} \\cdots \\sum_{b_{v-1} \\in \\{0,1\\}} f_0(b_{j_0},\\ldots,b_{j_{v-1}}) \\prod_{i \\, = \\, 0}^{u-1} \\left[(1 - b_{j_i})(1 - x_{j_i}) + b_{j_i}x_{j_i}\\right] \\prod_{i \\, = \\, u}^{v-1} \\left[(1 - b_{j_i})(1 - x_{j_i}) + b_{j_i}x_{j_i}\\right] \\\\\n",
    "& = \\sum_{b_{j_0} \\in \\{0,1\\}} \\cdots \\sum_{b_{j_{u-1}} \\in \\{0,1\\}} \\left\\{f_0(b_{j_0},\\ldots,b_{j_{v-1}})\\prod_{i \\, = \\, 0}^{u-1} \\left[(1 - b_{j_i})(1 - x_{j_i}) + b_{j_i}x_{j_i}\\right]\\right\\} \\sum_{b_{j_{u}} \\in \\{0,1\\}} \\cdots \\sum_{b_{j_{v-1}} \\in \\{0,1\\}} \\prod_{i \\, = \\, u}^{v-1} \\left[(1 - b_{j_i})(1 - x_{j_i}) + b_{j_i}x_{j_i}\\right] \\\\\n",
    "& = \\widetilde{f_0}(x_{j_0},\\ldots,x_{j_{u-1}}) \\widetilde{\\mathbf{1}}(x_{j_u},\\ldots,x_{j_{v - 1}}) \\\\\n",
    " & = \\widetilde{f_0}(x_{j_0},\\ldots,x_{j_{u-1}}).\n",
    "\\end{align*}\n",
    "Similarly, $\\tilde{g}(x_0,\\ldots,x_{v-1}) = \\widetilde{g_0}(x_{j_u},\\ldots,x_{j_{v - 1}})$. More generally,  \n",
    "\n",
    "\\begin{align*}\n",
    " \\widetilde{fg}(x_0,\\ldots,x_{v-1}) \n",
    " & = \\sum_{b_0 \\in \\{0,1\\}} \\cdots \\sum_{b_{v-1} \\in \\{0,1\\}} (fg)(b_0,\\ldots,b_{v-1}) \\prod_{i \\, = \\, 0}^{v-1} \\left[(1 - b_i)(1 - x_i) + b_ix_i\\right] \\\\\n",
    "& =  \\sum_{b_0 \\in \\{0,1\\}} \\cdots \\sum_{b_{v-1} \\in \\{0,1\\}} f_0(b_{j_0},\\ldots,b_{j_{v-1}}) g_0(b_{j_0},\\ldots,b_{j_{v-1}})\\prod_{i \\, = \\, 0}^{u-1} \\left[(1 - b_{j_i})(1 - x_{j_i}) + b_{j_i}x_{j_i}\\right] \\prod_{i \\, = \\, u}^{v-1} \\left[(1 - b_{j_i})(1 - x_{j_i}) + b_{j_i}x_{j_i}\\right] \\\\\n",
    "& = \\sum_{b_{j_0} \\in \\{0,1\\}} \\cdots \\sum_{b_{j_{u-1}} \\in \\{0,1\\}} \\left\\{f_0(b_{j_0},\\ldots,b_{j_{v-1}})\\prod_{i \\, = \\, 0}^{u-1} \\left[(1 - b_{j_i})(1 - x_{j_i}) + b_{j_i}x_{j_i}\\right]\\right\\} \\sum_{b_{j_{u}} \\in \\{0,1\\}} \\cdots \\sum_{b_{j_{v-1}} \\in \\{0,1\\}} \\left\\{ g_0(b_{j_0},\\ldots,b_{j_{v-1}}) \\prod_{i \\, = \\, u}^{v-1} \\left[(1 - b_{j_i})(1 - x_{j_i}) + b_{j_i}x_{j_i}\\right] \\right\\}\\\\\n",
    "& = \\widetilde{f_0}(x_{j_0},\\ldots,x_{j_{u-1}}) \\widetilde{g_0}(x_{j_u},\\ldots,x_{j_{v-1}}) \\\\\n",
    " & = \\tilde{f}(x_0,\\ldots,x_{v-1}) \\tilde{g}(x_0,\\ldots,x_{v-1})\n",
    "\\end{align*}\n",
    "by 1. Note that since $\\widetilde{f_0}(x_{j_0},\\ldots,x_{j_{u-1}})$ and $\\widetilde{g_0}(x_{j_u},\\ldots,x_{j_{v-1}})$ are multilinear functions involving disjoint with no variables in common, their product is indeed multilinear."
   ]
  },
  {
   "cell_type": "markdown",
   "id": "00fa16e7-ff69-46eb-b300-bd87de89c639",
   "metadata": {},
   "source": [
    "<a id='special'></a>\n",
    "## Multilinear extensions of special functions\n",
    "↑↑ [Contents](#contents) ↑ [Properties of multilinear extensions](#properties) ↓ [References](#references)"
   ]
  },
  {
   "cell_type": "markdown",
   "id": "b2703e0f-aec7-444c-b92e-8591ae97f9c6",
   "metadata": {},
   "source": [
    "We have [already seen](#beta) the 'equality' function $\\beta$ and its multilinear extension $\\tilde{\\beta}$. It is also clear that if $c \\in \\mathbb{F}$ and $f : \\{0,1\\}^v \\to \\mathbb{F}$ is defined by $f(\\mathbf{b}) = c$ for all $\\mathbf{b} \\in \\{0,1\\}^v$, then $\\tilde{f} : \\mathbb{F}^v \\to \\mathbb{F}$ defined by $\\tilde{f}(\\mathbf{x}) = c$ for all $\\mathbf{x} \\in \\mathbb{F}^v$ is the multilinear extension of $f$. (We used this fact in the case $c = 1$ in the above proof.)"
   ]
  },
  {
   "cell_type": "markdown",
   "id": "a0d95504-3ca7-4976-9db2-f3c8c38a3385",
   "metadata": {},
   "source": [
    "Let $\\mathbb{F}$ be given. We can define Boolean operators on $\\{0,1\\}$ and extend their definitions to all of $\\mathbb{F}$ as follows.\n",
    "* **Negation.** Define $\\mathrm{NEG}: \\{0,1\\} \\to \\mathbb{F}$ by $\\mathrm{NEG}(0) = 1$ and $\\mathrm{NEG}(1) = 0$. Then $\\widetilde{\\mathrm{NEG}} : \\mathbb{F} \\to \\mathbb{F}$ is given by $\\widetilde{\\mathrm{NEG}}(x) = 1 - x$.\n",
    "* **Conjunction.** Define $\\mathrm{AND} : \\{0,1\\}^2 \\to \\mathbb{F}$ by $\\mathrm{AND}(0,0) = \\mathrm{AND}(0,1) = \\mathrm{AND}(1,0) = 0$ and $\\mathrm{AND}(1,1) = 1$. Then $\\widetilde{\\mathrm{AND}}: \\mathbb{F} \\to \\mathbb{F}$ is given by $\\widetilde{\\mathrm{AND}}(x_0,x_1) = x_0x_1$.\n",
    "* **Disjunction.** Define $\\mathrm{OR} : \\{0,1\\}^2 \\to \\mathbb{F}$ by $\\mathrm{OR}(0,1) = \\mathrm{OR}(1,0) = \\mathrm{OR}(1,1) = 1$ and $\\mathrm{OR}(0,0) = 0$. Then $\\widetilde{\\mathrm{OR}}: \\mathbb{F} \\to \\mathbb{F}$ is given by $\\widetilde{\\mathrm{OR}}(x_0,x_1) = x_0 + x_1 - x_0x_1$.\n",
    "* **Exclusive OR.** Define $\\mathrm{XOR} : \\{0,1\\}^2 \\to \\mathbb{F}$ by $\\mathrm{XOR}(0,0) = \\mathrm{XOR}(1,1) = 0$ and $\\mathrm{XOR}(1,0) = \\mathrm{XOR}(0,1) = 1$. Then $\\widetilde{\\mathrm{XOR}}: \\mathbb{F} \\to \\mathbb{F}$ is given by $\\widetilde{\\mathrm{XOR}}(x_0,x_1) = x_0 + x_1 - 2x_0x_1$."
   ]
  },
  {
   "cell_type": "markdown",
   "id": "4485973b-cc75-43eb-ac2a-25cf58adcce2",
   "metadata": {},
   "source": [
    "<a id='references'></a>\n",
    "## References\n",
    "↑↑ [Contents](#contents) ↑ [Multilinear extensions of special functions](#special)"
   ]
  },
  {
   "cell_type": "markdown",
   "id": "f20cfbbb-e22e-4b60-962c-aec2670de207",
   "metadata": {},
   "source": [
    "<a id='gkr2008'></a>\n",
    "[GKR2008] Goldwasser, S., Y. T. Kalai, and G. N. Rothblum. '[Delegating computation: interactive proofs for muggles](https://doi.org/10.1145/2699436).' _Journal of the ACM_, 62(4):1&ndash;64, 2008."
   ]
  },
  {
   "cell_type": "markdown",
   "id": "1cd174dd-fb69-48c2-9973-17cbcfde1852",
   "metadata": {},
   "source": [
    "<a id='tha2015'></a>\n",
    "[THA2015] Thaler, J. '[A note on the GKR protocol](https://api.semanticscholar.org/CorpusID:16402332).' 2015."
   ]
  }
 ],
 "metadata": {
  "kernelspec": {
   "display_name": "Python 3 (ipykernel)",
   "language": "python",
   "name": "python3"
  },
  "language_info": {
   "codemirror_mode": {
    "name": "ipython",
    "version": 3
   },
   "file_extension": ".py",
   "mimetype": "text/x-python",
   "name": "python",
   "nbconvert_exporter": "python",
   "pygments_lexer": "ipython3",
   "version": "3.12.7"
  }
 },
 "nbformat": 4,
 "nbformat_minor": 5
}
