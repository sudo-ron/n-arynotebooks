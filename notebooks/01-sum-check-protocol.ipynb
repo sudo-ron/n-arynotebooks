{
 "cells": [
  {
   "cell_type": "markdown",
   "id": "156ad44d",
   "metadata": {},
   "source": [
    "# Sum-check protocol"
   ]
  },
  {
   "cell_type": "markdown",
   "id": "5d077c87",
   "metadata": {},
   "source": [
    "<a id='contents'></a>\n",
    "## Contents\n",
    "\n",
    "* [Setup](#setup)\n",
    "* [Introduction](#introduction)\n",
    "* [Definitions, conventions, and notation](#terminology)\n",
    "* [DeMillo–Lipton–Schwartz–Zippel Lemma](#DLSZ)\n",
    "* [Sum-check protocol of Lund, Fortnow, Karloff, and Nisan, as described by Thaler](#sum_check)\n",
    "* [Why V should be convinced if P passes sum check](#why)\n",
    "* [Complexity and proof size](#complexity)\n",
    "    * [Verifier's runtime](#verifier_runtime)\n",
    "    * [Verifier's space complexity](#verifier_space)\n",
    "    * [Prover's runtime](#prover_runtime)\n",
    "    * [Prover's space complexity](#prover_space)\n",
    "    * [Proof size](#proof_size)\n",
    "* [References](#references)"
   ]
  },
  {
   "cell_type": "markdown",
   "id": "f0f436b4-be2e-4ef2-bee2-f932992ca05b",
   "metadata": {},
   "source": [
    "<a id='setup'></a>\n",
    "## Setup\n",
    "↑↑ [Contents](#contents) ↓ [Introduction](#introduction)"
   ]
  },
  {
   "cell_type": "code",
   "execution_count": 1,
   "id": "febd6124",
   "metadata": {
    "scrolled": true
   },
   "outputs": [
    {
     "name": "stdout",
     "output_type": "stream",
     "text": [
      "\u001b[35m\n",
      "================================================\n",
      "PROJECT DIRECTORY TREE AS AT 2025-01-20 08:40:01\n",
      "================================================\n",
      "\u001b[0m\n",
      "\u001b[35mBASE PATH: F:\\PROJECTS\\INFERENCE-LABS\\ZK-NOTEBOOKS\n",
      "\u001b[0m\n",
      "├─ \u001b[34massets/\u001b[0m\n",
      "├─ \u001b[34mnotebooks/\u001b[0m\n",
      "│  └─ \u001b[33m01-sum-check-protocol.ipynb\u001b[0m\n",
      "│  └─ \u001b[33m02-multilinear-extensions.ipynb\u001b[0m\n",
      "│  └─ \u001b[33m03-arithmetic-circuits.ipynb\u001b[0m\n",
      "│  └─ \u001b[33m04-gkr-protocol.ipynb\u001b[0m\n",
      "├─ \u001b[34mscripts/\u001b[0m\n",
      "│  └─ \u001b[33marithmetic_circuits.py\u001b[0m\n",
      "│  └─ \u001b[33mgkr_protocol.py\u001b[0m\n",
      "│  └─ \u001b[33minfo.py\u001b[0m\n",
      "│  └─ \u001b[33mmultilinear_extensions.py\u001b[0m\n",
      "│  └─ \u001b[33msetup.py\u001b[0m\n",
      "│  └─ \u001b[33msum_check.py\u001b[0m\n",
      "│  └─ \u001b[33mutils.py\u001b[0m\n",
      "└─ \u001b[33m.gitignore\u001b[0m\n",
      "└─ \u001b[33mLICENSE\u001b[0m\n",
      "└─ \u001b[33mREADME.md\u001b[0m\n",
      "└─ \u001b[33mrequirements.txt\u001b[0m\n",
      "\n",
      "\u001b[35mPATHS TO FIRST-LEVEL SUBDIRECTORIES STORED IN 'PATH' DICTIONARY\n",
      "\u001b[0m\n",
      "├─ path['\u001b[34mscripts\u001b[0m'] = \u001b[34mF:\\projects\\inference-labs\\zk-notebooks\\scripts\u001b[0m\n",
      "├─ path['\u001b[34mnotebooks\u001b[0m'] = \u001b[34mF:\\projects\\inference-labs\\zk-notebooks\\notebooks\u001b[0m\n",
      "├─ path['\u001b[34mcircuits\u001b[0m'] = \u001b[34mF:\\projects\\inference-labs\\zk-notebooks\\circuits\u001b[0m\n",
      "├─ path['\u001b[34massets\u001b[0m'] = \u001b[34mF:\\projects\\inference-labs\\zk-notebooks\\assets\u001b[0m\n"
     ]
    }
   ],
   "source": [
    "from pathlib import Path\n",
    "import os\n",
    "import sys\n",
    "\n",
    "# To use this project, set an environment variable named \"ZERO_KNOWLEDGE\" on your system\n",
    "# Determine the project root directory and add it to the Python path\n",
    "notebook_path = Path(os.getcwd()).resolve()  # Path to the current working directory\n",
    "project_root = notebook_path.parent          # Parent directory of notebooks, which is the project root\n",
    "\n",
    "# Add the project root directory to the Python path\n",
    "sys.path.append(str(project_root))\n",
    "\n",
    "# The setup module is project_root/scripts/setup.py\n",
    "from scripts.setup import *"
   ]
  },
  {
   "cell_type": "markdown",
   "id": "f835aa63",
   "metadata": {},
   "source": [
    "<a id='introduction'></a>\n",
    "## Introduction\n",
    "↑↑ [Contents](#contents) ↑ [Setup](#setup) ↓ [Definitions, conventions, and notation](#terminology)"
   ]
  },
  {
   "cell_type": "markdown",
   "id": "d567dead-929b-4132-8ca2-72be4345c9f6",
   "metadata": {},
   "source": [
    "This notebook replicates Thaler's [[THA2015]](#tha2015) elegant presentation of the sum-check protocol by Lund, Fortnow, Karloff, and Nisan [[LFKN1992]](#lfkn1992), enriched with additional background information and interactive examples."
   ]
  },
  {
   "cell_type": "markdown",
   "id": "7946bcb6-b7e5-492c-938c-307230c1aa9d",
   "metadata": {},
   "source": [
    "<a id='terminology'></a>\n",
    "## Definitions, conventions, and notation\n",
    "↑↑ [Contents](#contents) ↑ [Introduction](#introduction) ↓ [DeMillo–Lipton–Schwartz–Zippel Lemma](#DLSZ)"
   ]
  },
  {
   "cell_type": "markdown",
   "id": "6d7f7c83-5f43-4d4b-a789-bb740a3948bb",
   "metadata": {},
   "source": [
    "Let $\\mathbb{F}$ be a finite field, $v$ a positive integer, and $g$ a $v$-variate polynomial with coefficients in $\\mathbb{F}$:\n",
    "\\begin{equation}\n",
    " g(X_0,\\ldots,X_{v - 1}) = \\sum_{e \\, \\in \\, \\mathbb{N}^{v}} a_{e} X_0^{e_0}\\cdots X_{v - 1}^{e_{v - 1}}, \\quad a_e \\in \\mathbb{F}, \\quad e = (e_0,\\ldots,e_{v-1}), \\tag{1}\n",
    "\\end{equation}\n",
    "where $a_e = 0$ for all but finitely many $e$ (so the sum is effectively a finite one). The ring of all such polynomials is denoted $\\mathbb{F}[X_0,\\ldots,X_{v - 1}]$. We use zero-based indexing throughout for consistency with the code and to minimize confusion."
   ]
  },
  {
   "cell_type": "markdown",
   "id": "768baba5-9285-4470-9c9e-f3eed6a8ca26",
   "metadata": {},
   "source": [
    "**Definition.** Referring to $(1)$, we call $a_e$ the _coefficients_ of $g$. If $a_e = 0$ for all $e \\in \\mathbb{N}^v$, then we call $g$ the _zero polynomial_. Suppose $g$ is _not_ the zero polynomial. The _total degree_ of $g$ is \n",
    "\\begin{equation}\n",
    "\\mathrm{deg}(g) = \\max \\left\\{ e_0 + \\cdots + e_{v-1} : a_e \\ne 0 \\right\\}, \\tag{2}\n",
    "\\end{equation}\n",
    "i.e. the highest sum of the exponents of the indeterminates in any single term with a nonzero coefficient. The _degree of indeterminate $X_j$ in $g$_ is \n",
    "\\begin{equation}\n",
    "\\mathrm{deg}_{X_j}(g) = \\max \\left\\{ e_j : a_e \\ne 0 \\right\\}, \\tag{3}\n",
    "\\end{equation}\n",
    "i.e. the highest power of $X_j$ that appears in any single term with a nonzero coefficient. As the indeterminates are indexed we may denote this by $\\mathrm{deg}_j(g)$. We call $g$ _multilinear_ if each $e_j$ in $(1)$ is either $0$ or $1$. In other words, $g$ is multilinear if it is linear in each of its indeterminates separately, but not necessarily simultaneously."
   ]
  },
  {
   "cell_type": "markdown",
   "id": "797bb6ed-a783-4b76-bab5-b068e8748d44",
   "metadata": {},
   "source": [
    "**Remark.** (i) The total degree of a univariate polynomial ($v = 1$) is just its degree. We may use the terms _degree_ and _total degree_ interchangeably. (ii) The zero polynomial is denoted by $0$; context should make it clear when this symbol represents the zero polynomial rather than the zero element of the field. The nonzero constant polynomials are precisely those of total degree $0$. We leave the degree of the zero polynomial undefined. Some authors, however, define it as $-\\infty$ for convenience, which simplifies statements like $\\mathrm{deg}(g_1 + g_2) \\le \\max\\{\\mathrm{deg}(g_1),\\mathrm{deg}(g_2)\\}$ and $\\mathrm{def}(g_1g_2) = \\mathrm{deg}(g_1) + \\mathrm{deg}(g_2)$, without needing to exclude the zero polynomial as a special case. (iii) On the other hand, if we consider $g$ as a $v$-variate polynomial in $\\mathbb{F}[X_0,\\ldots,X_{v-1}]$, then $\\mathrm{deg}_{j}(X_j)$ is defined and nonnegative for every $j$, $0 \\le j \\le v - 1$. Some authors might say, for instance, that the degree of $X_2$ in $X_0X_1 + X_1^2$, is undefined. In our case, if we understand the polynomial as belonging to $\\mathbf{F}[X_0,X_1,X_2]$, then we'd note that we can multiply each term by $X_2^0$ without affecting the polynomial, whence the degree of $X_2$ in this polynomial is $0$.\n",
    "\n",
    "---"
   ]
  },
  {
   "cell_type": "markdown",
   "id": "e436ef86-ac39-4873-a6e9-61121e9953c4",
   "metadata": {},
   "source": [
    "In the RHS of $(1)$, we may replace a subset of $w$ indeterminates $X_j$ with field elements $r_j$, resulting in a $(v - w)$-variate polynomial, which we denote by substituting the corresponding $r_j$ for each replaced $X_j$ in the LHS. For instance, if $v > 1$ then $g(X_0,r_1,\\ldots,r_{v-1})$ denotes the univariate polynomial in the indeterminate $X_0$, obtained by substituting $X_1,\\ldots,X_{v - 1}$ with $r_1,\\ldots,r_{v - 1}$ in the RHS. For a more explicit example: if $g(X_0,X_1,X_2) = X_0X_1X_2 + X_0X_1^2 + X_2$ then $g(X_0,1,1) = 2X_0 + 1$.\n",
    "\n",
    "The expression $g(r_0,\\ldots,r_{v - 1})$ therefore denotes a constant polynomial in $0$ indeterminates, which we typically identify with the constant itself. We call this the _evalulation_ of $g$ at the point $(r_0,\\ldots,r_{v - 1})$. We call $(r_0,\\ldots,r_{v-1})$ a _root_ or _zero_ of $g$ if $g(r_0,\\ldots,r_{v-1}) = 0$. For example, over $\\mathbb{F} = \\mathbb{Z}/2\\mathbb{Z}$, the evaluation of $g(X_0,X_1,X_2) = X_0X_1X_2 + X_0X_1^2 + X_2$ at the point $(1,1,1)$ is $g(1,1,1) = 1$, so $(1,1,1)$ is not a root of $g$, but $g(0,0,0) = 0$, so $(0,0,0)$ is a root of $g$, as are $(0,1,0)$ and $(1,0,0)$."
   ]
  },
  {
   "cell_type": "markdown",
   "id": "fe74ca4d-f50f-4a7d-a143-eebbc3c935ec",
   "metadata": {},
   "source": [
    "**Definition.** We call $f : \\mathbb{F}^v \\to \\mathbb{F}$ a _polynomial function_ if there is a $g \\in \\mathbb{F}[X_0,\\ldots,X_{v - 1}]$ such that $f(x_0,\\ldots,x_{v - 1}) = g(x_0,\\ldots,x_{v - 1})$ for each $(x_0,\\ldots,x_{v - 1}) \\in \\mathbb{F}^v$. "
   ]
  },
  {
   "cell_type": "markdown",
   "id": "6795abd5-708b-46dd-8334-5b363e181a5a",
   "metadata": {},
   "source": [
    "**Remark.** The distinctions between constant polynomials and constants, and between polynomials and polynomial functions, may seem pedantic but are particularly important for polynomials over finite fields. If $\\mathbb{F}$ has order $q$, then $X^q - X$ is certainly not the zero polynomial in $\\mathbb{F}[X]$, but $x \\mapsto x^q - x$ is the zero function on $\\mathbb{F}$ (by Fermat's little theorem). Polynomials are really just sequences of coefficients that we add and multiply in a certain way. Indeterminates $X_j$ serve as placeholders&mdash;not variables&mdash;to allow us to work with abstract algebraic rules of addition and multiplication. If this remark seems opaque, consider that a univariate polynomial can be represented as a sequence of coefficients $(a_0, a_1, a_2, \\ldots)$, where only finitely many $a_i$ are nonzero. Given two polynomials $g = (a_0, a_1, a_2, \\ldots)$ and $h = (b_0, b_1, b_2, \\dots)$, their product $g \\cdot h$ is another sequence of coefficients $(c_0, c_1, c_2, \\ldots)$ defined by $c_k = \\sum_{i=0}^n a_i b_{k-i}$."
   ]
  },
  {
   "cell_type": "markdown",
   "id": "911e1c6d-37e4-412b-8bb2-9f1358b9e328",
   "metadata": {},
   "source": [
    "**Example.**"
   ]
  },
  {
   "cell_type": "code",
   "execution_count": 3,
   "id": "767f6e12-900b-4d64-ad48-cf751ff83d9f",
   "metadata": {},
   "outputs": [
    {
     "name": "stdout",
     "output_type": "stream",
     "text": [
      "\n",
      "\u001b[34mEXAMPLE 1.\u001b[0m The polynomial \n",
      "\n",
      "g(X_0, X_1, X_2) = X_0*X_1 + 4*X_0*X_2 + 4*X_1**2 + X_1*X_2 \n",
      "\n",
      "over GF(5) is a non-multilinear polynomial in 3 indeterminates.\n",
      "\n",
      "The total degree of g is deg(g) = 2\n",
      "\n",
      "The degree of X_0 in g is deg_X_0(g) = 1.\n",
      "\n",
      "The degree of X_1 in g is deg_X_1(g) = 2.\n",
      "\n",
      "The degree of X_2 in g is deg_X_2(g) = 1.\n"
     ]
    },
    {
     "name": "stdin",
     "output_type": "stream",
     "text": [
      "\n",
      "Another example? (y/n) y\n"
     ]
    },
    {
     "name": "stdout",
     "output_type": "stream",
     "text": [
      "\n"
     ]
    },
    {
     "name": "stdin",
     "output_type": "stream",
     "text": [
      "Enter a prime p: 331\n",
      "Enter an exponent k (the field will have order p**k): 1\n",
      "Enter your polynomial over GF(331) (e.g. 2*X_0**2 + X_0*X_1*X_2 + X_1*X_4**3 + X_1 + X_3): 2*X_0**2 + X_0*X_1*X_2 + X_1*X_4**3 + X_1 + X_3\n"
     ]
    },
    {
     "name": "stdout",
     "output_type": "stream",
     "text": [
      "\n",
      "\u001b[34mEXAMPLE 2.\u001b[0m The polynomial \n",
      "\n",
      "g(X_0, X_1, X_2, X_3, X_4) = 2*X_0**2 + X_0*X_1*X_2 + X_1*X_4**3 + X_1 + X_3 \n",
      "\n",
      "over GF(331) is a non-multilinear polynomial in 5 indeterminates.\n",
      "\n",
      "The total degree of g is deg(g) = 4\n",
      "\n",
      "The degree of X_0 in g is deg_X_0(g) = 2.\n",
      "\n",
      "The degree of X_1 in g is deg_X_1(g) = 1.\n",
      "\n",
      "The degree of X_2 in g is deg_X_2(g) = 1.\n",
      "\n",
      "The degree of X_3 in g is deg_X_3(g) = 1.\n",
      "\n",
      "The degree of X_4 in g is deg_X_4(g) = 3.\n"
     ]
    },
    {
     "name": "stdin",
     "output_type": "stream",
     "text": [
      "\n",
      "Another example? (y/n) n\n"
     ]
    }
   ],
   "source": [
    "from sum_check import total_degree_example\n",
    "\n",
    "# Can only handle fields of prime order at present: enter 1 for the exponent k.\n",
    "total_degree_example()"
   ]
  },
  {
   "cell_type": "markdown",
   "id": "2e936ca7-6e9d-4d78-9b8e-af82e984f3d0",
   "metadata": {},
   "source": [
    "<a id='DLSZ'></a>\n",
    "## DeMillo–Lipton–Schwartz–Zippel Lemma\n",
    "↑↑ [Contents](#contents) ↑ [Definitions, conventions, and notation](#terminology) ↓ [Sum-check protocol of Lund, Fortnow, Karloff, and Nisan, as described by Thaler](#sum_check)"
   ]
  },
  {
   "cell_type": "markdown",
   "id": "2d6a2a31-22ba-43b8-bdf4-b0a03892346a",
   "metadata": {},
   "source": [
    "This result, commonly referred to as the Schwartz-Zippel lemma, tells us that the roots of a multivariate polynomial over a field are relatively rare. This insight has useful implications; for instance, it suggests that two multivariate polynomials over a field are unlikely to agree at a randomly selected point, which is the crux of the soundness error in the sum-check protocol.\n",
    "\n",
    "The lemma was first proved jointly by DeMillo and Lipton [[DML1978]](#dml1978), preceding the independent discoveries by both Schwartz [[SCH1979]](#sch1979) and Zippel [[ZIP1980]](#zip1980) around the late 1970s. In fact, for the special case of finite fields—which is the only case relevant here—the result was originally established by Ore in the 1922 [[ORE1922]](#ore1922).\n",
    "\n",
    "To set up the proof of the Schwartz-Zippel lemma, we begin by stating a foundational proposition upon which the proof relies.\n",
    "\n",
    "**Proposition.** Let $\\mathbb{F}$ be a field and $g \\in \\mathbb{F}[X]$ a nonzero univariate polynomial over $\\mathbb{F}$. If $g$ has degree $d$, then $g$ has at most $d$ roots in $\\mathbb{F}$. \n",
    "\n",
    "_Proof outline_. Suppose $r_0 \\in \\mathbb{F}$ is a root of $g$, so $g(r_0) = 0$. By the division algorithm, we can factor $g(X) = (X - r_0) q(X)$, where $q(X) \\in \\mathbb{F}[X]$ has degree $d - 1$. If $r_0$ is a repeated root, then we can factor $g$ further as $g(X) = (X - r_0)^{m_0} q_0(X)$, where $m_0 \\geq 1$ is maximal (i.e., $q_0(r_0) \\neq 0$). At this point, $q_0(X)$ is a polynomial of degree $d - m_0$. Now, if there is another root $r_1 \\neq r_0$, then $g(r_1) = 0$ implies $q_0(r_1) = 0$ because $(r_1 - r_0)^{m_0} \\neq 0$ (fields have no zero divisors). Therefore, $q_0(X)$ must also be divisible by $(X - r_1)$, allowing us to write $g(X) = (X - r_0)^{m_0} (X - r_1) q_1(X)$ for some polynomial $q_1(X)$ of degree $d - m_0 - 1$. We can repeat this process, factoring out distinct roots until we have exhausted the degree $d$. Since each distinct root reduces the degree of the remaining polynomial by at least $1$, the number of roots (counted with multiplicity) cannot exceed $d$. Thus, $g$ can have at most $d$ roots in $\\mathbb{F}$, counted with multiplicity. This argument also generalizes to any integral domain $R$, where the absence of zero divisors ensures that a similar factorization process holds."
   ]
  },
  {
   "cell_type": "markdown",
   "id": "4c10b4ea-37b0-437e-a0e5-6ccd92327db4",
   "metadata": {},
   "source": [
    "**Proposition [Schwartz-Zippel lemma].** Let $g$ be a $v$-variate ($v \\ge 1$), nonzero polynomial of total degree $d$ over a finite field $\\mathbb{F}$. We have \n",
    "\\begin{equation}\n",
    "\\#\\{\\mathbf{r} \\in \\mathbb{F}^v : g(\\mathbf{r}) = 0\\} \\le (\\#\\mathbb{F})^{v - 1}d.\n",
    "\\end{equation}\n",
    "In other words, if $r_0,\\ldots,r_{v - 1}$ are selected at random independently and uniformly from $\\mathbb{F}$, then \n",
    "\\begin{equation}\n",
    " \\mathrm{Pr}[g(r_0,\\ldots,r_{v - 1}) = 0] \\le \\frac{d}{\\# \\mathbb{F}}. \\tag{4}\n",
    "\\end{equation}"
   ]
  },
  {
   "cell_type": "markdown",
   "id": "faf2b354-15fa-485a-b5ed-ef182b64f692",
   "metadata": {},
   "source": [
    "_Proof_. The proof is by induction on $v$. The base case $v = 1$ is the previous proposition. Let $v \\ge 1$ and assume the statement of the Schwartz-Zippel lemma holds for all nonzero polynomials in $u$ indeterminates, $1 \\le u \\le v$. \n",
    "\n",
    "Writing $g$ as in $(1)$, note that \n",
    "\\begin{align*}\n",
    "g(X_0,\\ldots,X_{v - 1}) = \\sum_{e \\, \\in \\, \\mathbb{N}^{v}} a_{e} X_0^{e_0}\\cdots X_{v - 1}^{e_{v - 1}}\n",
    "= \\sum_{e_{v-1} \\, \\in \\, \\mathbb{N}} X_{v-1}^{e_{v-1}} \\sum_{(e_0,\\ldots,e_{v-2}) \\, \\in \\, \\mathbb{N}^{v-1}} a_{e} X_0^{e_0}\\cdots X_{v - 2}^{e_{v - 2}}  = \\sum_{k \\, = \\, 0}^{d} X_{v-1}^k h_i(X_0,\\ldots,X_{v-2}),\n",
    "\\end{align*}\n",
    "say, where we have replaced $e_{v - 1}$ by $k$ in the outer sum and truncated it at $k = d$, because $g$ is assumed ot have degree $d$ and so $a_e = 0$ whenever $e_{v - 1} > d$. We can't have $h_k \\equiv 0$ for every $k$, for in that case we'd also have $g \\equiv 0$. Let $j = \\max\\{k: h_k \\not\\equiv 0\\}$ be the largest $k$ for which $h_k$ is a nonzero polynomial. We partition the set of roots of $g$ according to whether or not the first $v - 1$ coordinates also constitute a root of $h_j$:\n",
    "\\begin{align*}\n",
    "\\{\\mathbf{r} \\in \\mathbb{F}^{v} : g(\\mathbf{r}) = 0\\}\n",
    " \\subseteq \\{\\mathbf{r} \\in \\mathbb{F}^{v} : h_j(r_0,\\ldots,r_{v-2}) = 0\\} \\cup \\{\\mathbf{r} \\in \\mathbb{F}^v :  h_j(r_0,\\ldots,r_{v-2}) \\ne 0 \\,\\, \\text{and} \\,\\, g(\\mathbf{r}) = 0 \\}.\n",
    "\\end{align*}\n",
    "We will show that the sets on the RHS have sizes bounded by $(\\#\\mathbb{F})^{v - 1}(d - j)$ and $(\\#\\mathbb{F})^{v - 1}j$ respectively.\n",
    "\n",
    "Since $X_{v-1}^jh_j(X_0,\\ldots,X_{v-2})$ has degree at most $\\mathrm{deg} \\, (g) = d$, we have $\\mathrm{deg} \\, (h_j) \\le d - j$. Therefore, by inductive hypothesis, \n",
    "\\begin{equation}\n",
    " \\#\\{(r_0,\\ldots,r_{v - 2}) \\in \\mathbb{F}^{v - 1} : h_j(r_0,\\ldots,r_{v-2}) = 0\\} \\le (\\#\\mathbb{F})^{v - 2}(d - j).\n",
    "\\end{equation}\n",
    "Consequently,\n",
    "\\begin{equation}\n",
    " \\#\\{(r_0,\\ldots,r_{v - 2},r_{v-1}) \\in \\mathbb{F}^v : h_j(r_0,\\ldots,r_{v-2}) = 0\\} \\le (\\#\\mathbb{F})^{v - 1}(d - j).\n",
    "\\end{equation}\n",
    "\n",
    "If $h_j(r_0,\\ldots,r_{v - 2}) \\ne 0$, then $g(r_0,\\ldots,r_{v-2},X_{v-1})$ is a nonzero univariate polynomial of degree $j$ (its leading term is $X_{v-1}^jh_j(r_0,\\ldots,r_{v-2}))$. There are trivially at most $(\\#\\mathbb{F})^{v-1}$ tuples $(r_0,\\ldots,r_{v-2}) \\in \\mathbb{F}^{v - 1}$ such that $h_j(r_0,\\ldots,r_{v-2}) \\ne 0$, and for each such tuple, there are at most $j$ elements $r_{v - 1}$ of $\\mathbb{F}$ such that $g(r_0,\\ldots,r_{v-1}) = 0$. This is by inductive hypothesis, because such $r_{v-1}$ are roots of $g(r_0,\\ldots,r_{v-2},X_{v-1})$. Hence,\n",
    "\\begin{equation}\n",
    "\\#\\{(r_0,\\ldots,r_{v - 1}) \\in \\mathbb{F}^v :  h_j(r_0,\\ldots,r_{v-2}) \\ne 0 \\,\\, \\text{and} \\,\\, g(r_0,\\ldots,r_{v-1}) = 0 \\} \\le (\\#\\mathbb{F})^{v-1}j.\n",
    "\\end{equation}"
   ]
  },
  {
   "cell_type": "markdown",
   "id": "46647c14-9865-4081-9737-cf684e464e90",
   "metadata": {},
   "source": [
    "**Remark**. (i) The proof shows that $\\mathbb{F}$ can actually be replaced by any integral domain $R$ (whether finite or infinite), provided we select $r_0, \\ldots, r_{v - 1}$ from a finite subset $S \\subseteq R$ and substitute $\\#S$ for $\\#\\mathbb{F}$ in the denominator on the right-hand side. This generalization—the full result established by DeMillo and Lipton, Schwartz, and Zippel—is not required for our current purposes. (ii) Some people mistakenly refer to the base case as the much deeper fundamental theorem of algebra, which states that a non-zero polynomial of degree $d$ over $\\mathbb{C}$ has exactly $d$ roots in $\\mathbb{C}$, counted with multiplicity."
   ]
  },
  {
   "cell_type": "markdown",
   "id": "c63778f6-5fe6-4e6c-b1ae-2ad5ea626d36",
   "metadata": {},
   "source": [
    "**Example.**"
   ]
  },
  {
   "cell_type": "code",
   "execution_count": 4,
   "id": "74ef715d-fbe0-4dc6-a5da-aceee3d5c437",
   "metadata": {
    "scrolled": true
   },
   "outputs": [
    {
     "name": "stdout",
     "output_type": "stream",
     "text": [
      "\n",
      "\u001b[34mEXAMPLE 1.\u001b[0m The polynomial X_0*X_1 + X_2**2 has 1681 roots in GF(41)**(3).\n",
      "\n",
      "Thus, if r_0, r_1, r_2 are chosen independently and uniformly at random from GF(41), then g(r_0, r_1, r_2) = 0 with probability 1681/41**(3) = 0.024390243902439025.\n",
      "\n",
      "The polynomial has total degree d = 2 and 2/41 = 0.04878048780487805.\n",
      "\n",
      "Here are 10 of the roots:\n",
      "\n",
      "g(27, 35, 11) = 0\n",
      " g(24, 19, 6) = 0\n",
      " g(6, 11, 37) = 0\n",
      "  g(0, 34, 0) = 0\n",
      " g(11, 6, 37) = 0\n",
      "g(34, 13, 38) = 0\n",
      "  g(5, 4, 29) = 0\n",
      "  g(1, 33, 7) = 0\n",
      "g(11, 35, 36) = 0\n",
      " g(24, 13, 4) = 0\n"
     ]
    },
    {
     "name": "stdin",
     "output_type": "stream",
     "text": [
      "\n",
      "Another example? (y/n) y\n",
      "Enter a prime p: 331\n",
      "Enter an exponent k (the field will have order p**k): 1\n",
      "Enter your polynomial over GF(331) (e.g. 2*X_0**2 + X_0*X_1*X_2 + X_1*X_4**3 + X_1 + X_3): 2*X_0**2 + X_0*X_1*X_2 + X_1*X_4**3 + X_1 + X_3\n"
     ]
    },
    {
     "name": "stdout",
     "output_type": "stream",
     "text": [
      "\n",
      "\u001b[34mEXAMPLE 2.\u001b[0m In \u001b[32m60 seconds\u001b[0m, we found 7944 roots of 2*X_0**2 + X_0*X_1*X_2 + X_1*X_4**3 + X_1 + X_3 in GF(331)**(5).\n",
      "\n",
      "\u001b[32mThere may be more roots, so what follows is not a verification of Schwartz-Zippel.\u001b[0m\n",
      "\n",
      "Thus, if r_0, r_1, r_2, r_3, r_4 are chosen independently and uniformly at random from GF(331), then g(r_0, r_1, r_2, r_3, r_4) = 0 with probability \u001b[32mat least\u001b[0m 7944/331**(5) = 1.999398061053123e-09.\n",
      "\n",
      "The polynomial has total degree d = 4 and 4/331 = 0.012084592145015106.\n",
      "\n",
      "Here are 10 of the roots:\n",
      "\n",
      "g(0, 0, 20, 0, 161) = 0\n",
      " g(0, 0, 9, 0, 291) = 0\n",
      " g(0, 0, 3, 0, 269) = 0\n",
      " g(0, 0, 23, 0, 41) = 0\n",
      "  g(0, 0, 3, 0, 40) = 0\n",
      " g(0, 0, 6, 0, 149) = 0\n",
      " g(0, 0, 22, 0, 10) = 0\n",
      "g(0, 0, 16, 0, 112) = 0\n",
      " g(0, 0, 10, 0, 90) = 0\n",
      " g(0, 0, 14, 0, 20) = 0\n"
     ]
    },
    {
     "name": "stdin",
     "output_type": "stream",
     "text": [
      "\n",
      "Another example? (y/n) n\n"
     ]
    }
   ],
   "source": [
    "from sum_check import roots_example\n",
    "\n",
    "# Can only handle fields of prime order at present: enter 1 for the exponent k.\n",
    "roots_example(time_out=60)"
   ]
  },
  {
   "cell_type": "markdown",
   "id": "9e52d2b2",
   "metadata": {},
   "source": [
    "<a id='sum_check'></a>\n",
    "## Sum-check protocol of Lund, Fortnow, Karloff, and Nisan, as described by Thaler\n",
    "↑↑ [Contents](#contents) ↑ [DeMillo–Lipton–Schwartz–Zippel Lemma](#DLSZ) ↓ [Why V should be convinced if P passes sum check](#why)"
   ]
  },
  {
   "cell_type": "markdown",
   "id": "08505375-0d78-476a-9048-3a16f2e6e8b5",
   "metadata": {},
   "source": [
    "This is a description of the sum-check protocol as presented by Lund, Fortnow, Karloff, and Nisan in [[LFKN1992]](#lfkn1992), with the exposition following Thaler’s treatment in [[THA2015]](#tha2015)."
   ]
  },
  {
   "cell_type": "markdown",
   "id": "261bb795-85a5-42f3-a9d1-840f987f22dc",
   "metadata": {},
   "source": [
    "**Initialization.** Given a nonzero $v$-variate polynomial $g$ over a finite field $\\mathbb{F}$, let \n",
    "\\begin{equation}\n",
    " H := \\sum_{b_0 \\in \\{0,1\\}} \\cdots \\sum_{b_{v-1} \\in \\{0,1\\}} g(b_0,\\ldots,b_{v - 1}). \\tag{5}\n",
    "\\end{equation}\n",
    "Although verifier V does not know $g$, the number of indeterminates $v$ and the degree $d_j$ in each of its indeterminates $X_j$ are known to V. Prover P claims that $H = H^*$, sending this claim to V, who needs to verify that $H = H^*$ by interacting with P. "
   ]
  },
  {
   "cell_type": "markdown",
   "id": "66379a4a-3efb-4299-967a-ccbb73fce5c8",
   "metadata": {},
   "source": [
    "**Round 0.** Let \n",
    "\\begin{equation}\n",
    "g_0(X_0) := \\sum_{b_1 \\in \\{0,1\\}} \\cdots \\sum_{b_{v-1} \\in \\{0,1\\}} g(X_0,b_1,\\ldots,b_{v - 1}). \\tag{6}\n",
    "\\end{equation}\n",
    "P sends polynomial $g^*_0$ to V, claiming that $g^*_0 = g_0$. If so, then \n",
    "\\begin{equation*}\n",
    " \\mathrm{deg}(g^*_0) = \\mathrm{deg}(g_0) \\le \\mathrm{deg}_0(g) = d_0.\n",
    "\\end{equation*}\n",
    "V verifies this: if $\\mathrm{deg}(g^*_0) > d_0$ then V 'rejects' and the protocol terminates. Otherwise, we continue. If P's claims that $H = H^*$ and $g^*_0 = g_0$ are both true, then \n",
    "\\begin{equation}\n",
    "H^* = g^*_0(0) + g^*_0(1). \\tag{7}\n",
    "\\end{equation}\n",
    "This is because $H = g_0(0) + g_0(1)$. V verifies ($7$), which is easy because $g^*_0$ is a univariate polynomial of degree at most $d$. If ($7$) does not hold, then V rejects and the protocol terminates. Otherwise, V chooses $r_0$ uniformly at random from $\\mathbb{F}$, and sends it to P."
   ]
  },
  {
   "cell_type": "markdown",
   "id": "f71df9c3-106f-40cc-80af-bfe67f075aa5",
   "metadata": {},
   "source": [
    "**Round j** ($1 \\le j \\le v - 1$). Let \n",
    "\\begin{equation}\n",
    "g_j(X_j) := \\sum_{b_{j+1} \\in \\{0,1\\}} \\cdots \\sum_{b_{v-1} \\in \\{0,1\\}} g(r_0,r_1,\\ldots,r_{j-1},X_j,b_{j+1},\\ldots,b_{v - 1}). \\tag{8}\n",
    "\\end{equation}\n",
    "P responds to V's random challenge $r_{j - 1}$ by sending V a polynomial $g^*_{j}$, claiming that $g^*_{j} = g_j$. If so, then \n",
    "\\begin{equation*}\n",
    " \\mathrm{deg}(g^*_j) = \\mathrm{deg}(g_j) \\le \\mathrm{deg}_j(g) = d_j.\n",
    "\\end{equation*}\n",
    "V verifies this: if $\\mathrm{deg}(g^*_j) > d_j$ then V 'rejects' and the protocol terminates. Otherwise, we continue. If P's previous claims that $g^*_{j-1} = g_{j - 1}$ and $g^*_{j} = g_{j}$ are both true, then \n",
    "\\begin{align*}\n",
    "g^*_{j - 1}(r_{j - 1}) = g^*_j(0) + g^*_j(1). \\tag{9}\n",
    "\\end{align*}\n",
    "This is because $g_{j - 1}(r_{j - 1}) = g_j(0) + g_j(1)$. To see this, note that by definition ($8$),\n",
    "\\begin{align*}\n",
    "g_{j - 1}(r_{j - 1}) & = \\sum_{b_{j} \\in \\{0,1\\}} \\cdots \\sum_{b_{v-1} \\in \\{0,1\\}} g(r_0,r_1,\\ldots,r_{j-2},r_{j-1},b_{j},\\ldots,b_{v - 1})\n",
    "\\end{align*}\n",
    "and \n",
    "\\begin{align*}\n",
    "g_j(0) + g_j(1) & = \\sum_{b_{j+1} \\in \\{0,1\\}} \\cdots \\sum_{b_{v-1} \\in \\{0,1\\}} g(r_0,r_1,\\ldots,r_{j-1},0,b_{j+1},\\ldots,b_{v - 1})\n",
    " + \\sum_{b_{j+1} \\in \\{0,1\\}} \\cdots \\sum_{b_{v-1} \\in \\{0,1\\}} g(r_0,r_1,\\ldots,r_{j-1},1,b_{j+1},\\ldots,b_{v - 1}) \\\\\n",
    " & = \\sum_{b_{j} \\in \\{0,1\\}} \\cdots \\sum_{b_{v-1} \\in \\{0,1\\}} g(r_0,r_1,\\ldots,r_{j-1},b_j,b_{j+1},\\ldots,b_{v - 1}).\n",
    "\\end{align*}\n",
    "V verifies $(9)$, which is easy because $g_{j - 1}$ and $g_{j}$ are univariate polynomials of degree at most $d$. If ($9$) does not hold, V rejects and the protocol terminates. Otherwise, V chooses $r_j$ uniformly at random from $\\mathbb{F}$, independently of $r_0,\\ldots,r_{j-1}$, and sends it to P."
   ]
  },
  {
   "cell_type": "markdown",
   "id": "a9ac2ff0-e475-41f6-be25-663a4324309c",
   "metadata": {},
   "source": [
    "It helps to write out Round $v - 1$ explicitly. In the final round, P sends $g^*_{v - 1}$ to V, claiming that $g^*_{v - 1} = g_{v - 1}$, where\n",
    "\\begin{equation}\n",
    "g_{v - 1}(X_{v - 1}) := g(r_0,\\ldots,r_{v - 2},X_{v - 1}). \\tag{10}\n",
    "\\end{equation}\n",
    "V verifies that $\\mathrm{deg}(g_{v-1}) \\le d_{v-1}$ and that $g^*_{v - 2}(r_{v - 2}) = g^*_{v - 1}(0) + g^*_{v - 1}(1)$. If either the degree bound or ($10$) does not hold, V rejects and the protocol terminates. Otherwise, we continue.\n",
    "\n",
    "**Final check.** V chooses $r_{v - 1}$ uniformly at random from $\\mathbb{F}$, independently of $r_0,\\ldots,r_{v-2}$, and verifies that \n",
    "\\begin{equation}\n",
    "g^*_{v - 1}(r_{v - 1}) = g(r_0,\\ldots,r_{v - 2},r_{v - 1}), \\tag{11}\n",
    "\\end{equation}\n",
    "which holds if $g^*_{v-1} = g_{v-1}$, in view of $(10)$. If ($11$) does not hold, then V rejects. Otherwise, V accepts that $H = H^*$ and P passes the sum-check protocol. The protocol is complete. \n",
    "\n",
    "Note that V isn't supposed to know $g$, nor is $V$ necessarily capable of efficiently evaluating a $v$-variate polynomial at a point. V obtains the RHS of $(11)$ either from P, in which case P must have made a 'commitment' to $g$ at the outset, or from an 'oracle'."
   ]
  },
  {
   "cell_type": "markdown",
   "id": "bc197eba-0933-4ae2-991e-727c8963b850",
   "metadata": {},
   "source": [
    "**Example.**"
   ]
  },
  {
   "cell_type": "code",
   "execution_count": 5,
   "id": "c007f4b4-d2b2-43a1-a981-0b3e5fea6f45",
   "metadata": {},
   "outputs": [
    {
     "name": "stdout",
     "output_type": "stream",
     "text": [
      "\u001b[34mEXAMPLE 1.\u001b[0m \n",
      "\u001b[35m\n",
      "==============\n",
      "INITIALIZATION\n",
      "==============\n",
      "\u001b[0m\n",
      "Let\n",
      "\n",
      "g(X_0, X_1, X_2) = X_0*X_1 + 4*X_0*X_2 + 4*X_1**2 + X_1*X_2.\n",
      "\n",
      "V does not know g, but does know that it is a polynomial over GF(5) in 3 indeterminates.\n",
      "\n",
      "V also knows an upper bound for the degree of each indeterminate in g.\n",
      "\n",
      "Let\n",
      "\n",
      "H := sum g(b_0, b_1, b_2) over (b_0, b_1, b_2) in {0,1}**3.\n",
      "\n",
      "P claims that and H = H*, where H* = 3.\n",
      "\u001b[35m\n",
      "=======\n",
      "ROUND 0\n",
      "=======\n",
      "\u001b[0m\n",
      "Let\n",
      "\n",
      "g_0(X_0) := sum g(X_0, b_1, b_2) over (b_1, b_2) in {0,1}**2\n",
      "\n",
      "P claims that g_0(X_0) = g*_0(X_0), where \n",
      "\n",
      "g*_0(X_0) = 4.\n",
      "\n",
      "If P's last two claims are true, then deg(g*_0) ≤ deg_0(g) and H* = g*_0(0) + g*_0(1).\n",
      "\n",
      "V first verifies that deg(g*_0) = 0, which is indeed less than or equal to deg_0(g) = 1.\n",
      "\n",
      "P's claim is that H = H* = 3. V proceeds to compute:\n",
      "\n",
      "g*_0(0) + g*_0(1) = 3\n",
      "\n",
      "This is easy because g*_0 is univariate of degree at most 1.\n",
      "\n",
      "V sees that P's claims so far are consistent.\n",
      "\n",
      "V selects 4 uniformly at random from GF(5), independently of any previous choices.\n",
      "\u001b[35m\n",
      "=======\n",
      "ROUND 1\n",
      "=======\n",
      "\u001b[0m\n",
      "Let\n",
      "\n",
      "g_1(X_1) := sum g(4, X_1, b_2) over (b_2) in {0,1}**1\n",
      "\n",
      "P claims that g_1(X_1) = g*_1(X_1), where \n",
      "\n",
      "g*_1(X_1) = 3*X_1**2 + 4*X_1 + 1.\n",
      "\n",
      "If P's last two claims are true, then deg(g*_1) ≤ deg_1(g) and g*_0(4) = g*_1(0) + g*_1(1).\n",
      "\n",
      "V first verifies that deg(g*_1) = 2, which is indeed less than or equal to deg_1(g) = 2.\n",
      "\n",
      "V proceeds to compute:\n",
      "\n",
      "          g*_0(4) = 4\n",
      "g*_1(0) + g*_1(1) = 4\n",
      "\n",
      "This is easy because the g*_0 and g*_1 are univariate of degree at most 2.\n",
      "\n",
      "V sees that P's claims so far are consistent.\n",
      "\n",
      "V selects 1 uniformly at random from GF(5), independently of any previous choices.\n",
      "\u001b[35m\n",
      "=======\n",
      "ROUND 2\n",
      "=======\n",
      "\u001b[0m\n",
      "Let\n",
      "\n",
      "g_2(X_2) := g(4, 1, X_2)\n",
      "\n",
      "P claims that g_2(X_2) = g*_2(X_2), where \n",
      "\n",
      "g*_2(X_2) = 2*X_2 + 3.\n",
      "\n",
      "If P's last two claims are true, then deg(g*_2) ≤ deg_2(g) and g*_1(1) = g*_2(0) + g*_2(1).\n",
      "\n",
      "V first verifies that deg(g*_2) = 1, which is indeed less than or equal to deg_2(g) = 1.\n",
      "\n",
      "V proceeds to compute:\n",
      "\n",
      "          g*_1(1) = 3\n",
      "g*_2(0) + g*_2(1) = 3\n",
      "\n",
      "This is easy because the g*_1 and g*_2 are univariate of degree at most 1.\n",
      "\n",
      "V sees that P's claims so far are consistent.\n",
      "\u001b[35m\n",
      "FINAL CHECK\u001b[0m\n",
      "\n",
      "V selects 3 uniformly at random from GF(5), independently of any previous choices.\n",
      "\n",
      "If all of P's claims are true, then\n",
      "\n",
      "g*_2(3) = g(4, 1, 3).\n",
      "\n",
      "V computes\n",
      "\n",
      "g*_2(3) = 4.\n",
      "\n",
      "Finally, V appeals to an oracle---or P, if P has made a commitment to g---to determine that\n",
      "\n",
      "g(4, 1, 3) = 4.\n",
      "\n",
      "P passes the final verification, and V \u001b[32mACCEPTS\u001b[0m P's initial claim that H = H*.\n"
     ]
    },
    {
     "name": "stdin",
     "output_type": "stream",
     "text": [
      "\n",
      "Another example? (y/n) y\n"
     ]
    },
    {
     "name": "stdout",
     "output_type": "stream",
     "text": [
      "\u001b[34mEXAMPLE 2.\u001b[0m \n"
     ]
    },
    {
     "name": "stdin",
     "output_type": "stream",
     "text": [
      "Enter a prime p: 331\n",
      "Enter an exponent k (the field will have order p**k): 1\n",
      "Enter your polynomial over GF(331) (e.g. 2*X_0**2 + X_0*X_1*X_2 + X_1*X_4**3 + X_1 + X_3): 2*X_0**2 + X_0*X_1*X_2 + X_1*X_4**3 + X_1 + X_3\n",
      "\n",
      "Do you want this to be interactive? (y/n):  n\n",
      "Choose a, b, or c: Prover (a) will lie. (b) will lie with probability 1/2. (c) will not lie. c\n"
     ]
    },
    {
     "name": "stdout",
     "output_type": "stream",
     "text": [
      "\u001b[35m\n",
      "==============\n",
      "INITIALIZATION\n",
      "==============\n",
      "\u001b[0m\n",
      "Let\n",
      "\n",
      "g(X_0, X_1, X_2, X_3, X_4) = 2*X_0**2 + X_0*X_1*X_2 + X_1*X_4**3 + X_1 + X_3.\n",
      "\n",
      "V does not know g, but does know that it is a polynomial over GF(331) in 5 indeterminates.\n",
      "\n",
      "V also knows an upper bound for the degree of each indeterminate in g.\n",
      "\n",
      "Let\n",
      "\n",
      "H := sum g(b_0, b_1, b_2, b_3, b_4) over (b_0, b_1, b_2, b_3, b_4) in {0,1}**5.\n",
      "\n",
      "P claims that and H = H*, where H* = 76.\n",
      "\u001b[35m\n",
      "=======\n",
      "ROUND 0\n",
      "=======\n",
      "\u001b[0m\n",
      "Let\n",
      "\n",
      "g_0(X_0) := sum g(X_0, b_1, b_2, b_3, b_4) over (b_1, b_2, b_3, b_4) in {0,1}**4\n",
      "\n",
      "P claims that g_0(X_0) = g*_0(X_0), where \n",
      "\n",
      "g*_0(X_0) = 32*X_0**2 + 4*X_0 + 20.\n",
      "\n",
      "If P's last two claims are true, then deg(g*_0) ≤ deg_0(g) and H* = g*_0(0) + g*_0(1).\n",
      "\n",
      "V first verifies that deg(g*_0) = 2, which is indeed less than or equal to deg_0(g) = 2.\n",
      "\n",
      "P's claim is that H = H* = 76. V proceeds to compute:\n",
      "\n",
      "g*_0(0) + g*_0(1) = 76\n",
      "\n",
      "This is easy because g*_0 is univariate of degree at most 2.\n",
      "\n",
      "V sees that P's claims so far are consistent.\n",
      "\n",
      "V selects 247 uniformly at random from GF(331), independently of any previous choices.\n",
      "\u001b[35m\n",
      "=======\n",
      "ROUND 1\n",
      "=======\n",
      "\u001b[0m\n",
      "Let\n",
      "\n",
      "g_1(X_1) := sum g(247, X_1, b_2, b_3, b_4) over (b_2, b_3, b_4) in {0,1}**3\n",
      "\n",
      "P claims that g_1(X_1) = g*_1(X_1), where \n",
      "\n",
      "g*_1(X_1) = 7*X_1 + 29.\n",
      "\n",
      "If P's last two claims are true, then deg(g*_1) ≤ deg_1(g) and g*_0(247) = g*_1(0) + g*_1(1).\n",
      "\n",
      "V first verifies that deg(g*_1) = 1, which is indeed less than or equal to deg_1(g) = 1.\n",
      "\n",
      "V proceeds to compute:\n",
      "\n",
      "        g*_0(247) = 65\n",
      "g*_1(0) + g*_1(1) = 65\n",
      "\n",
      "This is easy because the g*_0 and g*_1 are univariate of degree at most 1.\n",
      "\n",
      "V sees that P's claims so far are consistent.\n",
      "\n",
      "V selects 321 uniformly at random from GF(331), independently of any previous choices.\n",
      "\u001b[35m\n",
      "=======\n",
      "ROUND 2\n",
      "=======\n",
      "\u001b[0m\n",
      "Let\n",
      "\n",
      "g_2(X_2) := sum g(247, 321, X_2, b_3, b_4) over (b_3, b_4) in {0,1}**2\n",
      "\n",
      "P claims that g_2(X_2) = g*_2(X_2), where \n",
      "\n",
      "g*_2(X_2) = 50*X_2 + 120.\n",
      "\n",
      "If P's last two claims are true, then deg(g*_2) ≤ deg_2(g) and g*_1(321) = g*_2(0) + g*_2(1).\n",
      "\n",
      "V first verifies that deg(g*_2) = 1, which is indeed less than or equal to deg_2(g) = 1.\n",
      "\n",
      "V proceeds to compute:\n",
      "\n",
      "        g*_1(321) = 290\n",
      "g*_2(0) + g*_2(1) = 290\n",
      "\n",
      "This is easy because the g*_1 and g*_2 are univariate of degree at most 1.\n",
      "\n",
      "V sees that P's claims so far are consistent.\n",
      "\n",
      "V selects 255 uniformly at random from GF(331), independently of any previous choices.\n",
      "\u001b[35m\n",
      "=======\n",
      "ROUND 3\n",
      "=======\n",
      "\u001b[0m\n",
      "Let\n",
      "\n",
      "g_3(X_3) := sum g(247, 321, 255, X_3, b_4) over (b_4) in {0,1}**1\n",
      "\n",
      "P claims that g_3(X_3) = g*_3(X_3), where \n",
      "\n",
      "g*_3(X_3) = 2*X_3 + 145.\n",
      "\n",
      "If P's last two claims are true, then deg(g*_3) ≤ deg_3(g) and g*_2(255) = g*_3(0) + g*_3(1).\n",
      "\n",
      "V first verifies that deg(g*_3) = 1, which is indeed less than or equal to deg_3(g) = 1.\n",
      "\n",
      "V proceeds to compute:\n",
      "\n",
      "        g*_2(255) = 292\n",
      "g*_3(0) + g*_3(1) = 292\n",
      "\n",
      "This is easy because the g*_2 and g*_3 are univariate of degree at most 1.\n",
      "\n",
      "V sees that P's claims so far are consistent.\n",
      "\n",
      "V selects 192 uniformly at random from GF(331), independently of any previous choices.\n",
      "\u001b[35m\n",
      "=======\n",
      "ROUND 4\n",
      "=======\n",
      "\u001b[0m\n",
      "Let\n",
      "\n",
      "g_4(X_4) := g(247, 321, 255, 192, X_4)\n",
      "\n",
      "P claims that g_4(X_4) = g*_4(X_4), where \n",
      "\n",
      "g*_4(X_4) = 321*X_4**3 + 104.\n",
      "\n",
      "If P's last two claims are true, then deg(g*_4) ≤ deg_4(g) and g*_3(192) = g*_4(0) + g*_4(1).\n",
      "\n",
      "V first verifies that deg(g*_4) = 3, which is indeed less than or equal to deg_4(g) = 3.\n",
      "\n",
      "V proceeds to compute:\n",
      "\n",
      "        g*_3(192) = 198\n",
      "g*_4(0) + g*_4(1) = 198\n",
      "\n",
      "This is easy because the g*_3 and g*_4 are univariate of degree at most 3.\n",
      "\n",
      "V sees that P's claims so far are consistent.\n",
      "\u001b[35m\n",
      "FINAL CHECK\u001b[0m\n",
      "\n",
      "V selects 17 uniformly at random from GF(331), independently of any previous choices.\n",
      "\n",
      "If all of P's claims are true, then\n",
      "\n",
      "g*_4(17) = g(247, 321, 255, 192, 17).\n",
      "\n",
      "V computes\n",
      "\n",
      "g*_4(17) = 293.\n",
      "\n",
      "Finally, V appeals to an oracle---or P, if P has made a commitment to g---to determine that\n",
      "\n",
      "g(247, 321, 255, 192, 17) = 293.\n",
      "\n",
      "P passes the final verification, and V \u001b[32mACCEPTS\u001b[0m P's initial claim that H = H*.\n"
     ]
    },
    {
     "name": "stdin",
     "output_type": "stream",
     "text": [
      "\n",
      "Another example? (y/n) n\n"
     ]
    }
   ],
   "source": [
    "from sum_check import sum_check_example\n",
    "\n",
    "# Can only handle fields of prime order at present: enter 1 for the exponent k.\n",
    "sum_check_example();"
   ]
  },
  {
   "cell_type": "markdown",
   "id": "dfc9dff6-e8ba-4efc-845e-64d1f234c873",
   "metadata": {},
   "source": [
    "<a id='why'></a>\n",
    "## Why V should be convinced if P passes sum check\n",
    "↑↑ [Contents](#contents) ↑ [Sum-check protocol of Lund, Fortnow, Karloff, and Nisan, as described by Thaler](#sum_check) ↓ [Complexity and proof size](#complexity)"
   ]
  },
  {
   "cell_type": "markdown",
   "id": "b1c1746d-f096-4e38-86e8-2397a2a7ebed",
   "metadata": {},
   "source": [
    "The sum-check protocol is _complete_: if P's claims are true, P will pass the protocol, assuming V's calculations are accurate. In other words, if P fails the protocol, P is dishonest (their claims are inconsistent).\n",
    "\n",
    "In terms of _soundness_, a dishonest P may provide an incorrect value for the initial sum $H$ and still pass sum check. However, we can make the probability of this event—the soundness error—as small as desired by choosing a large field size $\\#\\mathbb{F}$ relative to $vd$. The probability of V being convinced of a false value for the initial sum is at most $vd/\\#\\mathbb{F}$.\n"
   ]
  },
  {
   "cell_type": "markdown",
   "id": "95e485c0-e179-43fb-8a3a-5b61a5924052",
   "metadata": {},
   "source": [
    "To recap the sum-check protocol, we have \n",
    "\\begin{align*}\n",
    " H & := \\sum_{b_0 \\, \\in \\, \\{0,1\\}} \\cdots \\sum_{b_{v - 1} \\, \\in \\, \\{0,1\\}} g(X_0,\\ldots,X_{v-1}) \\\\\n",
    " g_0(X_0) & := \\sum_{b_1 \\, \\in \\, \\{0,1\\}} \\cdots \\sum_{b_{v - 1} \\, \\in \\, \\{0,1\\}} g(X_0,b_1,\\ldots,b_{v-1}) \n",
    "\\end{align*}\n",
    "Also, $r_0,\\ldots,r_{v-1}$ are selected independently and uniformly at random from $\\mathbb{F}$, and \n",
    "\\begin{align*}\n",
    " g_j(X_j) & := \\sum_{b_{j + 1} \\, \\in \\, \\{0,1\\}} \\cdots \\sum_{b_{v - 1} \\, \\in \\, \\{0,1\\}} g(r_0,\\ldots,r_{j-1},X_j,b_{j+1},\\ldots,b_{v-1}), \\quad 0 \\le j \\le v - 2 \\\\\n",
    " g_{v-1}(X_{v-1}) & := g(r_0,\\ldots,r_{v-2},X_{v-1})\n",
    "\\end{align*}\n",
    "Letting $d_j := \\mathrm{deg}_{j}(g)$ for $0 \\le j \\le v - 1$, we have \n",
    "\\begin{equation}\n",
    " \\mathrm{deg}(g_j) \\le d_j, \\quad 0 \\le j \\le v - 1.\n",
    "\\end{equation}\n",
    "Also,\n",
    "\\begin{align*}\n",
    " H & = g_0(0) + g_0(1) \\\\\n",
    " g_{j-1}(r_{j-1}) & = g_j(0) + g_j(1), \\quad 1 \\le j \\le v - 1 \\\\\n",
    " g_{v-1}(r_{v-1}) & = g(r_0,\\ldots,r_{v-1})\n",
    "\\end{align*}\n",
    "P claims that $H = H^*$ and $g_j = g_j^*$ for $0 \\le j \\le v - 1$, passing sum check if and only if the V's acceptance conditions hold:\n",
    "\\begin{align*}\n",
    "\\tag{$*$}\n",
    "\\begin{split}\n",
    "\\mathrm{deg}(g^*_j) & \\le d_j, \\quad 0 \\le j \\le v - 1, \\\\\n",
    " H^* & = g^*_0(0) + g^*_0(1) \\\\\n",
    " g^*_{j-1}(r_{j-1}) & = g^*_j(0) + g^*_j(1), \\quad 1 \\le j \\le v - 1 \\\\\n",
    " g^*_{v-1}(r_{v-1}) & = g(r_0,\\ldots,r_{v-1}) \n",
    " \\end{split}\n",
    "\\end{align*}"
   ]
  },
  {
   "cell_type": "markdown",
   "id": "b611e5d4-da26-4eae-8bb1-a7a1876fa945",
   "metadata": {},
   "source": [
    "Suppose P's claim for the value of the initial sum is false, i.e. in fact $H^* \\ne H$, and that P passes sum check in spite of this, i.e. V's acceptance conditions $(*)$ all hold. If we had $g^*_0 = g_0$, then we'd have $g^*(0) + g^*(1) = g(0) + g(1) = H \\ne H^*$, and so V would reject in Round $0$. Therefore, $g^*_0 \\ne g_0$. \n",
    "\n",
    "**Case 1.** $g^*_j \\ne g_j$ for all $j$, $0 \\le j \\le v - 1$. In particular, $g^*_{v - 1} \\ne g_{v - 1}$, and by the final acceptance condition,\n",
    "\\begin{equation*}\n",
    "g^*_{v-1}(r_{v - 1}) = g_{v-1}(r_{v-1}) = g(r_0,\\ldots,r_{v-1}).\n",
    "\\end{equation*}\n",
    "\n",
    "**Case 2.** There is a minimal $k$, $1 \\le k \\le v - 1$, such that $g^*_{k-1} \\ne g_{k-1}$ and $g^*_k = g_k$. By the acceptance condition of Round $k$,\n",
    "\\begin{equation*}\n",
    "g^*_{k-1}(r_{k-1}) = g^*_k(0) + g^*_k(1) = g_k(0) + g_k(1) = g_{k - 1}(r_{k - 1}).\n",
    "\\end{equation*}\n"
   ]
  },
  {
   "cell_type": "markdown",
   "id": "955bfd91-691d-44cd-8947-c7b5c2c1d84b",
   "metadata": {},
   "source": [
    "In either case, there is a sequence of polynomials $g^*_0 \\ne g_0,\\ldots,g^*_{k-1} \\ne g^*_{k-1}$, where $1 \\le k \\le v$, such that $g^*_{k-1}(r_{k-1}) = g_{k-1}(r_{k-1})$. Since $g_{k - 1}$ and $g^*_{k-1}$ are chosen _before_ $r_{k - 1}$, they are independent of $r_{k - 1}$. Also, by the degree bounds, all polynomials have degree at most $d := \\mathrm{deg}(g)$. For each $k$, $1 \\le k \\le v$, the probability of this event is therefore at most\n",
    "\\begin{equation*}\n",
    " \\mathrm{Pr}[(g^*_{k - 1} - g_{k - 1})(r_{k-1}) = 0] \\le \\frac{d}{\\#\\mathbb{F}} \\tag{12}\n",
    "\\end{equation*}\n",
    "by the Schwartz-Zippel lemma, because $g^*_{k - 1} - g_{k - 1}$ is a nonzero polynomial of degree at most $d$, and $r_{k-1}$ is chosen uniformly at random from $\\mathbb{F}$."
   ]
  },
  {
   "cell_type": "markdown",
   "id": "351ef570-adcd-4af0-b9d9-324e5a736dfb",
   "metadata": {},
   "source": [
    "In each round $j \\ge 1$, while V verifies that $g^*_{j-1}(r_{j-1}) = g^*_j(0) + g^*_j(1)$ (which could hold even if $g^*_{j-1}(r_{j-1}) \\ne g_{j-1}(r_{j-1})$), P can check whether $g^*_{j - 1}(r_{j - 1}) = g_{j-1}(r_{j - 1})$. If this equality holds, P can then revert to sending the 'true' polynomials $g^*_j = g_j$ for subsequent rounds $j$ and pass the sum-check protocol."
   ]
  },
  {
   "cell_type": "markdown",
   "id": "599966ce-c123-4b05-8046-3adf7de2ee2a",
   "metadata": {},
   "source": [
    "Finally, we note that V will accept a false value for the sum $H$ in the end in the event that the above occurs for any $k$, $1 \\le k \\le v$. Therefore, by the union bound and $(12)$, \n",
    "\\begin{equation}\n",
    " \\mathrm{Pr}[ \\text{V accepts} \\, | \\, H^* \\ne H] \\le \\frac{vd}{\\#\\mathbb{F}}. \\tag{13}\n",
    "\\end{equation}"
   ]
  },
  {
   "cell_type": "markdown",
   "id": "22c52606-50eb-426c-8310-690e6b79eb12",
   "metadata": {},
   "source": [
    "**Remark.** (i) If P provides a false value $H^*$ for the initial sum, their strategy to pass the sum-check protocol might involve finding a polynomial $g^*_0 \\ne g_0$, of degree at most $d_0$, such that $g^*_0 - g_0$ has as many roots as possible in $\\mathbb{F}$, while satisfying the condition $g^*_0(0) + g^*_0(1) = H^*$. This maximizes the likelihood that $g^*_0(r_0) = g_0(r_0)$. If this coincidence occurs, P can immediately switch to sending the 'true' polynomials to V, starting with $g^*_1 = g_1$, since the acceptance condition $g^*_0(r_0) = g^*_1(0) + g^*_1(1)$ will hold (because $g_0(r_0) = g_1(0) + g_1(1)$). Notably, the acceptance condition might still hold even if $g^*_0(r_0) \\ne g_0(r_0)$. In that case, P would seek a polynomial $g^*_1 \\ne g_1$ such that $g^*_1 - g_1$ has as many roots as possible in $\\mathbb{F}$, and so on.\n",
    "\n",
    "For instance, suppose $\\mathbb{F}$ is a prime field of order $p$, and that $g_0$ has degree $d_0$, where $2 \\le d_0 < p$. If $\\{\\alpha_0,\\ldots,\\alpha_{k-1}\\}$ is any set of $k$ distinct field elements such that \n",
    "\\begin{equation*}\n",
    "[(0 - \\alpha_0)\\cdots (0 - \\alpha_{k-1})] + [(1 - \\alpha_0)\\cdots (1 - \\alpha_{k-1})] \\ne 0,\n",
    "\\end{equation*}\n",
    "and if $\\alpha_{k} \\in \\mathbb{F}$ satisfies\n",
    "\\begin{equation*}\n",
    " (0 - \\alpha_{k}) = \\frac{[H^* - H] - [(1 - \\alpha_0)\\cdots (1 - \\alpha_{k-1})]}{[(0 - \\alpha_0)\\cdots (0 - \\alpha_{k-1})] + [(1 - \\alpha_0)\\cdots (1 - \\alpha_{k-1})]},\n",
    "\\end{equation*}\n",
    "then \n",
    "\\begin{equation*}\n",
    "[(0 - \\alpha_0)\\cdots (0 - \\alpha_{k})] + [(1 - \\alpha_0)\\cdots (1 - \\alpha_{k})] = H^* - H \\ne 0.\n",
    "\\end{equation*}\n",
    "If $\\alpha_{k} \\not\\in \\{\\alpha_0,\\ldots,\\alpha_{k - 1}\\}$, then we now have $k + 1$ distinct field elements $\\alpha_0,\\ldots,\\alpha_k$ such that \n",
    "\\begin{equation*}\n",
    "g^*_0(X_0) := g_0(X_0) + (X_0 - \\alpha_0)\\cdots (X_0 - \\alpha_{k})\n",
    "\\end{equation*}\n",
    "satisfies \n",
    "\\begin{equation*}\n",
    "g^*_0(0) + g^*(1) = H^*.\n",
    "\\end{equation*}\n",
    "A dishonest prover P may try to generate such a polynomial $g^*_0$ with $k$ as large as possible while not exceeding $d_0 - 1$. Then $g_0^*$ is distinct from $g_0$, has degree at most $d_0$, and $g^*_0(r_0) = g_0(r_0)$ if and only if $r_0 \\in \\{\\alpha_0,\\alpha_1,\\ldots,\\alpha_{k}\\}$. That is, $\\mathrm{Pr}[ g^*_0(r_0) = g_0(r_0) ] = (k+1)/\\#\\mathbb{F}$. Given that $g^*_0 \\ne g_0$ and $\\mathrm{deg}(g^*_0) \\le \\mathrm{deg}(g_0) \\le \\mathrm{deg}(g)$, this probability can be at most $d/\\#\\mathbb{F}$, by the Schwartz-Zippel lemma.\n",
    "\n",
    "Alternatively, P could start with a multivariate polynomial $g^*$ different from $g$, where $\\mathrm{deg}(g^*) \\le d$ and the sum of $g^*$ over the Boolean hypercube equals $H^* \\ne H$. P would then respond to all of V's challenges as though $g^*$ were the same as $g$. For the final check to pass, it would require that $g^*(r_0, \\ldots, r_{v-1}) = g(r_0, \\ldots, r_{v-1})$. P could maximize the likelihood of this by choosing a $g^* \\ne g$ such that $g^* - g$ has as many roots as possible in $\\mathbb{F}^v$. By the Schwartz-Zippel lemma, the probability that $(r_0, \\ldots, r_{v - 1})$ is a root of $g^* - g$ remains at most $vd/\\#\\mathbb{F}$.\n",
    "\n",
    "(ii) If the degree $d$ of $g$ were concealed from V, a dishonest P could inflate the degrees of the $g^*_j$ polynomials, increasing the probability of passing.\n",
    "\n",
    "(iii) In the sum-check protocol, the degree $d$ of $g$ and the number of indeterminates $v$ are typically known to V beforehand, as they are determined by the structure of the problem being verified. These parameters are either agreed upon during the setup phase or are intrinsic to the function being evaluated (e.g., a [multilinear extension](./02-multilinear_extensions) or arithmetic circuit). The verifier ensures the prover's adherence to these parameters by checking that the submitted polynomials meet the degree constraints at each round.\n"
   ]
  },
  {
   "cell_type": "code",
   "execution_count": 7,
   "id": "6812618a-d180-466e-87a1-9616747a1db4",
   "metadata": {},
   "outputs": [
    {
     "name": "stdin",
     "output_type": "stream",
     "text": [
      "Enter a prime p: 331\n",
      "Enter an exponent k (the field will have order p**k): 1\n",
      "Enter your polynomial over GF(331) (e.g. 2*X_0**2 + X_0*X_1*X_2 + X_1*X_4**3 + X_1 + X_3): 2*X_0**2 + X_0*X_1*X_2 + X_1*X_4**3 + X_1 + X_3\n",
      "\n",
      "Do you want this to be interactive? (y/n):  y\n",
      "Do you want to act as verifier? (y/n):  y\n",
      "Do you want to act as prover? (y/n):  y\n"
     ]
    },
    {
     "name": "stdout",
     "output_type": "stream",
     "text": [
      "\u001b[35m\n",
      "==============\n",
      "INITIALIZATION\n",
      "==============\n",
      "\u001b[0m\n",
      "Let\n",
      "\n",
      "g(X_0, X_1, X_2, X_3, X_4) = 2*X_0**2 + X_0*X_1*X_2 + X_1*X_4**3 + X_1 + X_3.\n",
      "\n",
      "V does not know g, but does know that it is a polynomial over GF(331) in 5 indeterminates.\n",
      "\n",
      "V also knows an upper bound for the degree of each indeterminate in g.\n",
      "\n",
      "Let\n",
      "\n",
      "H := sum g(b_0, b_1, b_2, b_3, b_4) over (b_0, b_1, b_2, b_3, b_4) in {0,1}**5.\n"
     ]
    },
    {
     "name": "stdin",
     "output_type": "stream",
     "text": [
      "\n",
      "As prover, enter your claim H* for the value of H (the true value is 76): 0\n"
     ]
    },
    {
     "name": "stdout",
     "output_type": "stream",
     "text": [
      "\u001b[35m\n",
      "=======\n",
      "ROUND 0\n",
      "=======\n",
      "\u001b[0m\n",
      "Let\n",
      "\n",
      "g_0(X_0) := sum g(X_0, b_1, b_2, b_3, b_4) over (b_1, b_2, b_3, b_4) in {0,1}**4\n",
      "\n",
      "\u001b[31m=== START INVISIBLE TO VERIFIER ===\u001b[0m\n",
      "\n",
      "In fact, \n",
      "\n",
      "\u001b[32mg_0(X_0) = 32*X_0**2 + 4*X_0 + 20\u001b[0m.\n",
      "\n",
      "Your goal is to convince V that the polynomial g*_0 you're about to send is g_0 (a false claim).\n",
      "\n",
      "V will check that:\n",
      "\n",
      "(a) deg(g*_0) ≤ deg_0(g) = 2\n",
      "\n",
      "(b) g*_0(0) + g*_0(1) = 0 (which implies g*_0 ≠ g_0, but V doesn't know this)\n",
      "\n",
      "If it turns out that\n",
      "\n",
      "(c) g*_0(r_0) = g_0(r_0), where r_0 is the random element of GF(331) that V will choose after receiving g*_0,\n",
      "\n",
      "then V will accept your original claim if you send the 'true' polynomials g*_k = g_k in subsequent rounds.\n",
      "\n",
      "As you don't know what r_0 will be, the best you can do is choose g*_0 satisfying (a) and (b) such that\n",
      "\n",
      "(d) g*_0 - g_0 has as many roots as possible in GF(331) (there can be at most deg(g*_0 - g_0) ≤ 2.\n",
      "\n",
      "For example, if\u001b[31m\n",
      "\n",
      "g*_0(X_0) = 33*X_0**2 + 258*X_0 + 20\u001b[0m,\n",
      "\n",
      "then (a) and (b) hold, and the roots (in GF(331)) of g*_0 - g_0 are: \u001b[33m0\u001b[0m, \u001b[33m77\u001b[0m.\n",
      "\n",
      "The probability of V choosing one of these roots as their next challenge is 2/331 = 0.01.\n",
      "\n",
      "In general, by the Schwartz-Zippel lemma, this probability cannot exceed deg_0(g)/#F = 2/331 = 0.01.\n",
      "\n",
      "In this event, V will ultimately accept the original false claim for the value of H.\n",
      "\n",
      "Even if this does not happen, as long as (a) and (b) hold, V will accept in this round and we will have another chance to pull off the deception.\n"
     ]
    },
    {
     "name": "stdin",
     "output_type": "stream",
     "text": [
      "\n",
      "Enter your g*_0(X_0): 33*X_0**2 + 258*X_0 + 20\n"
     ]
    },
    {
     "name": "stdout",
     "output_type": "stream",
     "text": [
      "\n",
      "\u001b[31m=== END INVISIBLE TO VERIFIER ===\u001b[0m\n",
      "\n",
      "P claims that g_0(X_0) = g*_0(X_0), where \n",
      "\n",
      "g*_0(X_0) = 33*X_0**2 + 258*X_0 + 20.\n",
      "\n",
      "If P's last two claims are true, then deg(g*_0) ≤ deg_0(g) and H* = g*_0(0) + g*_0(1).\n",
      "\n",
      "V first verifies that deg(g*_0) = 2, which is indeed less than or equal to deg_0(g) = 2.\n",
      "\n",
      "P's claim is that H = H* = 0. V proceeds to compute:\n",
      "\n",
      "g*_0(0) + g*_0(1) = 0\n",
      "\n",
      "This is easy because g*_0 is univariate of degree at most 2.\n",
      "\n",
      "V sees that P's claims so far are consistent.\n"
     ]
    },
    {
     "name": "stdin",
     "output_type": "stream",
     "text": [
      "\n",
      "As verifier, choose an element of GF(331) uniformly at random, independent of any previous choice: 1\n"
     ]
    },
    {
     "name": "stdout",
     "output_type": "stream",
     "text": [
      "\n",
      "V selects 1 uniformly at random from GF(331), independently of any previous choices.\n",
      "\u001b[35m\n",
      "=======\n",
      "ROUND 1\n",
      "=======\n",
      "\u001b[0m\n",
      "Let\n",
      "\n",
      "g_1(X_1) := sum g(1, X_1, b_2, b_3, b_4) over (b_2, b_3, b_4) in {0,1}**3\n",
      "\n",
      "\u001b[31m=== START INVISIBLE TO VERIFIER ===\u001b[0m\n",
      "\n",
      "In fact, \n",
      "\n",
      "\u001b[32mg_1(X_1) = 16*X_1 + 20\u001b[0m.\n",
      "\n",
      "Your goal is to convince V that the polynomial g*_1 you're about to send is g_1 (a false claim).\n",
      "\n",
      "V will check that:\n",
      "\n",
      "(a) deg(g*_1) ≤ deg_1(g) = 1\n",
      "\n",
      "(b) g*_1(0) + g*_1(1) = 311 (which implies g*_1 ≠ g_1, but V doesn't know this)\n",
      "\n",
      "If it turns out that\n",
      "\n",
      "(c) g*_1(r_1) = g_1(r_1), where r_1 is the random element of GF(331) that V will choose after receiving g*_1,\n",
      "\n",
      "then V will accept your original claim if you send the 'true' polynomials g*_k = g_k in subsequent rounds.\n",
      "\n",
      "As you don't know what r_1 will be, the best you can do is choose g*_1 satisfying (a) and (b) such that\n",
      "\n",
      "(d) g*_1 - g_1 has as many roots as possible in GF(331) (there can be at most deg(g*_1 - g_1) ≤ 1.\n",
      "\n",
      "For example, if\u001b[31m\n",
      "\n",
      "g*_1(X_1) = 269*X_1 + 21\u001b[0m,\n",
      "\n",
      "then (a) and (b) hold, and the roots (in GF(331)) of g*_1 - g_1 are: \u001b[33m174\u001b[0m.\n",
      "\n",
      "The probability of V choosing one of these roots as their next challenge is 1/331 = 0.00.\n",
      "\n",
      "In general, by the Schwartz-Zippel lemma, this probability cannot exceed deg_1(g)/#F = 1/331 = 0.00.\n",
      "\n",
      "In this event, V will ultimately accept the original false claim for the value of H.\n",
      "\n",
      "Even if this does not happen, as long as (a) and (b) hold, V will accept in this round and we will have another chance to pull off the deception.\n"
     ]
    },
    {
     "name": "stdin",
     "output_type": "stream",
     "text": [
      "\n",
      "Enter your g*_1(X_1): 269*X_1 + 21\n"
     ]
    },
    {
     "name": "stdout",
     "output_type": "stream",
     "text": [
      "\n",
      "\u001b[31m=== END INVISIBLE TO VERIFIER ===\u001b[0m\n",
      "\n",
      "P claims that g_1(X_1) = g*_1(X_1), where \n",
      "\n",
      "g*_1(X_1) = 269*X_1 + 21.\n",
      "\n",
      "If P's last two claims are true, then deg(g*_1) ≤ deg_1(g) and g*_0(1) = g*_1(0) + g*_1(1).\n",
      "\n",
      "V first verifies that deg(g*_1) = 1, which is indeed less than or equal to deg_1(g) = 1.\n",
      "\n",
      "V proceeds to compute:\n",
      "\n",
      "          g*_0(1) = 311\n",
      "g*_1(0) + g*_1(1) = 311\n",
      "\n",
      "This is easy because the g*_0 and g*_1 are univariate of degree at most 1.\n",
      "\n",
      "V sees that P's claims so far are consistent.\n"
     ]
    },
    {
     "name": "stdin",
     "output_type": "stream",
     "text": [
      "\n",
      "As verifier, choose an element of GF(331) uniformly at random, independent of any previous choice: 44\n"
     ]
    },
    {
     "name": "stdout",
     "output_type": "stream",
     "text": [
      "\n",
      "V selects 44 uniformly at random from GF(331), independently of any previous choices.\n",
      "\u001b[35m\n",
      "=======\n",
      "ROUND 2\n",
      "=======\n",
      "\u001b[0m\n",
      "Let\n",
      "\n",
      "g_2(X_2) := sum g(1, 44, X_2, b_3, b_4) over (b_3, b_4) in {0,1}**2\n",
      "\n",
      "\u001b[31m=== START INVISIBLE TO VERIFIER ===\u001b[0m\n",
      "\n",
      "In fact, \n",
      "\n",
      "\u001b[32mg_2(X_2) = 176*X_2 + 274\u001b[0m.\n",
      "\n",
      "Your goal is to convince V that the polynomial g*_2 you're about to send is g_2 (a false claim).\n",
      "\n",
      "V will check that:\n",
      "\n",
      "(a) deg(g*_2) ≤ deg_2(g) = 1\n",
      "\n",
      "(b) g*_2(0) + g*_2(1) = 272 (which implies g*_2 ≠ g_2, but V doesn't know this)\n",
      "\n",
      "If it turns out that\n",
      "\n",
      "(c) g*_2(r_2) = g_2(r_2), where r_2 is the random element of GF(331) that V will choose after receiving g*_2,\n",
      "\n",
      "then V will accept your original claim if you send the 'true' polynomials g*_k = g_k in subsequent rounds.\n",
      "\n",
      "As you don't know what r_2 will be, the best you can do is choose g*_2 satisfying (a) and (b) such that\n",
      "\n",
      "(d) g*_2 - g_2 has as many roots as possible in GF(331) (there can be at most deg(g*_2 - g_2) ≤ 1.\n",
      "\n",
      "For example, if\u001b[31m\n",
      "\n",
      "g*_2(X_2) = 53*X_2 + 275\u001b[0m,\n",
      "\n",
      "then (a) and (b) hold, and the roots (in GF(331)) of g*_2 - g_2 are: \u001b[33m183\u001b[0m.\n",
      "\n",
      "The probability of V choosing one of these roots as their next challenge is 1/331 = 0.00.\n",
      "\n",
      "In general, by the Schwartz-Zippel lemma, this probability cannot exceed deg_2(g)/#F = 1/331 = 0.00.\n",
      "\n",
      "In this event, V will ultimately accept the original false claim for the value of H.\n",
      "\n",
      "Even if this does not happen, as long as (a) and (b) hold, V will accept in this round and we will have another chance to pull off the deception.\n"
     ]
    },
    {
     "name": "stdin",
     "output_type": "stream",
     "text": [
      "\n",
      "Enter your g*_2(X_2): 53*X_2 + 275\n"
     ]
    },
    {
     "name": "stdout",
     "output_type": "stream",
     "text": [
      "\n",
      "\u001b[31m=== END INVISIBLE TO VERIFIER ===\u001b[0m\n",
      "\n",
      "P claims that g_2(X_2) = g*_2(X_2), where \n",
      "\n",
      "g*_2(X_2) = 53*X_2 + 275.\n",
      "\n",
      "If P's last two claims are true, then deg(g*_2) ≤ deg_2(g) and g*_1(44) = g*_2(0) + g*_2(1).\n",
      "\n",
      "V first verifies that deg(g*_2) = 1, which is indeed less than or equal to deg_2(g) = 1.\n",
      "\n",
      "V proceeds to compute:\n",
      "\n",
      "         g*_1(44) = 272\n",
      "g*_2(0) + g*_2(1) = 272\n",
      "\n",
      "This is easy because the g*_1 and g*_2 are univariate of degree at most 1.\n",
      "\n",
      "V sees that P's claims so far are consistent.\n"
     ]
    },
    {
     "name": "stdin",
     "output_type": "stream",
     "text": [
      "\n",
      "As verifier, choose an element of GF(331) uniformly at random, independent of any previous choice: 183\n"
     ]
    },
    {
     "name": "stdout",
     "output_type": "stream",
     "text": [
      "\n",
      "V selects 183 uniformly at random from GF(331), independently of any previous choices.\n",
      "\n",
      "\u001b[31m=== START INVISIBLE TO VERIFIER ===\u001b[0m\n",
      "\n",
      "\u001b[31mYOU HAVE SUCCESSFULLY DECEIVED THE VERIFIER: g*_3(183) = g_3(183)\u001b[0m\n",
      "\n",
      "\u001b[31mFrom now on, the g*_j will automatically be set to g_j.\u001b[0m\n",
      "\n",
      "\u001b[31m=== END INVISIBLE TO VERIFIER ===\u001b[0m\n",
      "\u001b[35m\n",
      "=======\n",
      "ROUND 3\n",
      "=======\n",
      "\u001b[0m\n",
      "Let\n",
      "\n",
      "g_3(X_3) := sum g(1, 44, 183, X_3, b_4) over (b_4) in {0,1}**1\n",
      "\n",
      "P claims that g_3(X_3) = g*_3(X_3), where \n",
      "\n",
      "g*_3(X_3) = 2*X_3 + 21.\n",
      "\n",
      "If P's last two claims are true, then deg(g*_3) ≤ deg_3(g) and g*_2(183) = g*_3(0) + g*_3(1).\n",
      "\n",
      "V first verifies that deg(g*_3) = 1, which is indeed less than or equal to deg_3(g) = 1.\n",
      "\n",
      "V proceeds to compute:\n",
      "\n",
      "        g*_2(183) = 44\n",
      "g*_3(0) + g*_3(1) = 44\n",
      "\n",
      "This is easy because the g*_2 and g*_3 are univariate of degree at most 1.\n",
      "\n",
      "V sees that P's claims so far are consistent.\n"
     ]
    },
    {
     "name": "stdin",
     "output_type": "stream",
     "text": [
      "\n",
      "As verifier, choose an element of GF(331) uniformly at random, independent of any previous choice: 1\n"
     ]
    },
    {
     "name": "stdout",
     "output_type": "stream",
     "text": [
      "\n",
      "V selects 1 uniformly at random from GF(331), independently of any previous choices.\n",
      "\u001b[35m\n",
      "=======\n",
      "ROUND 4\n",
      "=======\n",
      "\u001b[0m\n",
      "Let\n",
      "\n",
      "g_4(X_4) := g(1, 44, 183, 1, X_4)\n",
      "\n",
      "P claims that g_4(X_4) = g*_4(X_4), where \n",
      "\n",
      "g*_4(X_4) = 44*X_4**3 + 155.\n",
      "\n",
      "If P's last two claims are true, then deg(g*_4) ≤ deg_4(g) and g*_3(1) = g*_4(0) + g*_4(1).\n",
      "\n",
      "V first verifies that deg(g*_4) = 3, which is indeed less than or equal to deg_4(g) = 3.\n",
      "\n",
      "V proceeds to compute:\n",
      "\n",
      "          g*_3(1) = 23\n",
      "g*_4(0) + g*_4(1) = 23\n",
      "\n",
      "This is easy because the g*_3 and g*_4 are univariate of degree at most 3.\n",
      "\n",
      "V sees that P's claims so far are consistent.\n"
     ]
    },
    {
     "name": "stdin",
     "output_type": "stream",
     "text": [
      "\n",
      "As verifier, choose an element of GF(331) uniformly at random, independent of any previous choice: 4\n"
     ]
    },
    {
     "name": "stdout",
     "output_type": "stream",
     "text": [
      "\u001b[35m\n",
      "FINAL CHECK\u001b[0m\n",
      "\n",
      "V selects 4 uniformly at random from GF(331), independently of any previous choices.\n",
      "\n",
      "If all of P's claims are true, then\n",
      "\n",
      "g*_4(4) = g(1, 44, 183, 1, 4).\n",
      "\n",
      "V computes\n",
      "\n",
      "g*_4(4) = 323.\n",
      "\n",
      "Finally, V appeals to an oracle---or P, if P has made a commitment to g---to determine that\n",
      "\n",
      "g(1, 44, 183, 1, 4) = 323.\n",
      "\n",
      "P passes the final verification, and V \u001b[32mACCEPTS\u001b[0m P's initial claim that H = H*.\n",
      "\n",
      "\u001b[31mP HAS DECEIVED V: THE TRUE VALUE OF H IS IN FACT 76.\u001b[0m\n"
     ]
    }
   ],
   "source": [
    "from sum_check import sum_check\n",
    "\n",
    "sum_check();"
   ]
  },
  {
   "cell_type": "code",
   "execution_count": 8,
   "id": "9a4ddb57-4976-4d84-93b8-86a65ba32278",
   "metadata": {},
   "outputs": [
    {
     "name": "stdin",
     "output_type": "stream",
     "text": [
      "Enter a prime p: 331\n",
      "Enter an exponent k (the field will have order p**k): 1\n",
      "Enter your polynomial over GF(331) (e.g. 2*X_0**2 + X_0*X_1*X_2 + X_1*X_4**3 + X_1 + X_3): 2*X_0**2 + X_0*X_1*X_2 + X_1*X_4**3 + X_1 + X_3\n",
      "\n",
      "Do you want this to be interactive? (y/n):  n\n",
      "Choose a, b, or c: Prover (a) will lie. (b) will lie with probability 1/2. (c) will not lie. a\n"
     ]
    },
    {
     "name": "stdout",
     "output_type": "stream",
     "text": [
      "\u001b[35m\n",
      "==============\n",
      "INITIALIZATION\n",
      "==============\n",
      "\u001b[0m\n",
      "Let\n",
      "\n",
      "g(X_0, X_1, X_2, X_3, X_4) = 2*X_0**2 + X_0*X_1*X_2 + X_1*X_4**3 + X_1 + X_3.\n",
      "\n",
      "V does not know g, but does know that it is a polynomial over GF(331) in 5 indeterminates.\n",
      "\n",
      "V also knows an upper bound for the degree of each indeterminate in g.\n",
      "\n",
      "Let\n",
      "\n",
      "H := sum g(b_0, b_1, b_2, b_3, b_4) over (b_0, b_1, b_2, b_3, b_4) in {0,1}**5.\n",
      "\n",
      "P claims that and H = H*, where H* = 2.\n",
      "\u001b[35m\n",
      "=======\n",
      "ROUND 0\n",
      "=======\n",
      "\u001b[0m\n",
      "Let\n",
      "\n",
      "g_0(X_0) := sum g(X_0, b_1, b_2, b_3, b_4) over (b_1, b_2, b_3, b_4) in {0,1}**4\n",
      "\n",
      "P claims that g_0(X_0) = g*_0(X_0), where \n",
      "\n",
      "g*_0(X_0) = 33*X_0**2 + 260*X_0 + 20.\n",
      "\n",
      "If P's last two claims are true, then deg(g*_0) ≤ deg_0(g) and H* = g*_0(0) + g*_0(1).\n",
      "\n",
      "V first verifies that deg(g*_0) = 2, which is indeed less than or equal to deg_0(g) = 2.\n",
      "\n",
      "P's claim is that H = H* = 2. V proceeds to compute:\n",
      "\n",
      "g*_0(0) + g*_0(1) = 2\n",
      "\n",
      "This is easy because g*_0 is univariate of degree at most 2.\n",
      "\n",
      "V sees that P's claims so far are consistent.\n",
      "\n",
      "V selects 189 uniformly at random from GF(331), independently of any previous choices.\n",
      "\u001b[35m\n",
      "=======\n",
      "ROUND 1\n",
      "=======\n",
      "\u001b[0m\n",
      "Let\n",
      "\n",
      "g_1(X_1) := sum g(189, X_1, b_2, b_3, b_4) over (b_2, b_3, b_4) in {0,1}**3\n",
      "\n",
      "P claims that g_1(X_1) = g*_1(X_1), where \n",
      "\n",
      "g*_1(X_1) = 135*X_1 + 235.\n",
      "\n",
      "If P's last two claims are true, then deg(g*_1) ≤ deg_1(g) and g*_0(189) = g*_1(0) + g*_1(1).\n",
      "\n",
      "V first verifies that deg(g*_1) = 1, which is indeed less than or equal to deg_1(g) = 1.\n",
      "\n",
      "V proceeds to compute:\n",
      "\n",
      "        g*_0(189) = 274\n",
      "g*_1(0) + g*_1(1) = 274\n",
      "\n",
      "This is easy because the g*_0 and g*_1 are univariate of degree at most 1.\n",
      "\n",
      "V sees that P's claims so far are consistent.\n",
      "\n",
      "V selects 290 uniformly at random from GF(331), independently of any previous choices.\n",
      "\u001b[35m\n",
      "=======\n",
      "ROUND 2\n",
      "=======\n",
      "\u001b[0m\n",
      "Let\n",
      "\n",
      "g_2(X_2) := sum g(189, 290, X_2, b_3, b_4) over (b_3, b_4) in {0,1}**2\n",
      "\n",
      "P claims that g_2(X_2) = g*_2(X_2), where \n",
      "\n",
      "g*_2(X_2) = 252*X_2 + 203.\n",
      "\n",
      "If P's last two claims are true, then deg(g*_2) ≤ deg_2(g) and g*_1(290) = g*_2(0) + g*_2(1).\n",
      "\n",
      "V first verifies that deg(g*_2) = 1, which is indeed less than or equal to deg_2(g) = 1.\n",
      "\n",
      "V proceeds to compute:\n",
      "\n",
      "        g*_1(290) = 327\n",
      "g*_2(0) + g*_2(1) = 327\n",
      "\n",
      "This is easy because the g*_1 and g*_2 are univariate of degree at most 1.\n",
      "\n",
      "V sees that P's claims so far are consistent.\n",
      "\n",
      "V selects 219 uniformly at random from GF(331), independently of any previous choices.\n",
      "\u001b[35m\n",
      "=======\n",
      "ROUND 3\n",
      "=======\n",
      "\u001b[0m\n",
      "Let\n",
      "\n",
      "g_3(X_3) := sum g(189, 290, 219, X_3, b_4) over (b_4) in {0,1}**1\n",
      "\n",
      "P claims that g_3(X_3) = g*_3(X_3), where \n",
      "\n",
      "g*_3(X_3) = 219*X_3 + 113.\n",
      "\n",
      "If P's last two claims are true, then deg(g*_3) ≤ deg_3(g) and g*_2(219) = g*_3(0) + g*_3(1).\n",
      "\n",
      "V first verifies that deg(g*_3) = 1, which is indeed less than or equal to deg_3(g) = 1.\n",
      "\n",
      "V proceeds to compute:\n",
      "\n",
      "        g*_2(219) = 114\n",
      "g*_3(0) + g*_3(1) = 114\n",
      "\n",
      "This is easy because the g*_2 and g*_3 are univariate of degree at most 1.\n",
      "\n",
      "V sees that P's claims so far are consistent.\n",
      "\n",
      "V selects 309 uniformly at random from GF(331), independently of any previous choices.\n",
      "\u001b[35m\n",
      "=======\n",
      "ROUND 4\n",
      "=======\n",
      "\u001b[0m\n",
      "Let\n",
      "\n",
      "g_4(X_4) := g(189, 290, 219, 309, X_4)\n",
      "\n",
      "P claims that g_4(X_4) = g*_4(X_4), where \n",
      "\n",
      "g*_4(X_4) = 291*X_4**3 + 139*X_4**2 + 330*X_4 + 81.\n",
      "\n",
      "If P's last two claims are true, then deg(g*_4) ≤ deg_4(g) and g*_3(309) = g*_4(0) + g*_4(1).\n",
      "\n",
      "V first verifies that deg(g*_4) = 3, which is indeed less than or equal to deg_4(g) = 3.\n",
      "\n",
      "V proceeds to compute:\n",
      "\n",
      "        g*_3(309) = 260\n",
      "g*_4(0) + g*_4(1) = 260\n",
      "\n",
      "This is easy because the g*_3 and g*_4 are univariate of degree at most 3.\n",
      "\n",
      "V sees that P's claims so far are consistent.\n",
      "\u001b[35m\n",
      "FINAL CHECK\u001b[0m\n",
      "\n",
      "V selects 67 uniformly at random from GF(331), independently of any previous choices.\n",
      "\n",
      "If all of P's claims are true, then\n",
      "\n",
      "g*_4(67) = g(189, 290, 219, 309, 67).\n",
      "\n",
      "V computes\n",
      "\n",
      "g*_4(67) = 56.\n",
      "\n",
      "Finally, V appeals to an oracle---or P, if P has made a commitment to g---to determine that\n",
      "\n",
      "g(189, 290, 219, 309, 67) = 11.\n",
      "\n",
      "P fails the final verification, and V \u001b[31mREJECTS\u001b[0m P's initial claim that H = H*.\n"
     ]
    }
   ],
   "source": [
    "sum_check();"
   ]
  },
  {
   "cell_type": "markdown",
   "id": "2dcb61a3-6b71-446f-abef-f8a073c3b04b",
   "metadata": {},
   "source": [
    "<a id='complexity'></a>\n",
    "## Complexity and proof size\n",
    "↑↑ [Contents](#contents) ↑ [Why V should be convinced if P passes sum check](#why) ↓ [References](#references)"
   ]
  },
  {
   "cell_type": "markdown",
   "id": "626b364b-6d30-4735-81bb-ef26bd040c5f",
   "metadata": {},
   "source": [
    "<a id='verifier_runtime'></a>\n",
    "### Verifier's runtime\n",
    "↓ [Verifier's space complexity](#verifier_space)"
   ]
  },
  {
   "cell_type": "markdown",
   "id": "dd91bec4-dc06-421d-b831-afd3dd3d422b",
   "metadata": {},
   "source": [
    "In Round $j$ of the sum-check protocol, verifier V performs the following steps:\n",
    "1. Verify that $\\mathrm{deg}(g_j) \\le \\mathrm{deg}_j(g)$.\n",
    "2. Verify that $g^*_{j - 1}(r_{j - 1}) = g^*_j(0) + g^*_j(1)$ (substitute $H^*$ for $g^*_{j-1}(r_{j-1})$ in Round $0$).\n",
    "3. Generate a random field element $r_j$.\n",
    "4. In the final round, V verifies that $g_{v-1}(r_{v-1}) = g(r_0,\\ldots,r_{v-1}$)."
   ]
  },
  {
   "cell_type": "markdown",
   "id": "f246cc2a-6016-4ab2-a067-2b8c729b59e2",
   "metadata": {},
   "source": [
    "Note that $\\mathrm{deg}_j(g) \\le d$ where $d = \\mathrm{deg}(g)$. Since each $g^*_j$ is a univariate polynomial, the time taken in Round $j$ is:\n",
    "\n",
    "1. **Degree verification:** $O(d)$, assuming P sends only the nonzero coefficients of $g_j$, i.e. the set $\\{(i,c_i) : c_i \\ne 0\\}$, where $c_i$ is the coefficient of $X_j^i$ in $g_j$.\n",
    "2. **Evaluation check:** $O(d)$, because evaluating a univariate polynomial of degree $d$ can be done with $d$ multiplications and $d$ additions, using Horner's method.\n",
    "3. **Random field element generation:** $O(1)$ if precomputed 'offline' before the start of the protocol; $O(k\\log p)$ if performed 'online', where $p^k$ is the order of $\\mathbb{F}$.\n",
    "4. **Final round verification:** $O(d)$ to compute $g_{v-1}(r_{v-1})$, plus the time it takes to compute or obtain (e.g. from an oracle) the value of $g(r_0,\\ldots,r_{v-1})$."
   ]
  },
  {
   "cell_type": "markdown",
   "id": "52b66019-846a-41f4-a6ef-5b3bdf9ff4ed",
   "metadata": {},
   "source": [
    "**Horner's method** is an efficient way to evaluate a polynomial, given its coefficients. We rewrite a degree $d$ polynomial \n",
    "\\begin{equation*}\n",
    " P(X) = c_0 + c_1X + \\cdots + c_{d}X^{d}\n",
    "\\end{equation*}\n",
    "in nested form:\n",
    "\\begin{equation*}\n",
    "P(X) = c_0 + X(c_1 + c_2(X + c_3(X + \\cdots + X(c_{d-1} + Xc_d)\\cdots ))\n",
    "\\end{equation*}\n",
    "Starting with $a_d := c_d$, compute recursively:\n",
    "\\begin{equation*}\n",
    "a_j = c_j + aa_{j + 1}, \\quad j = d - 1, d - 2,\\ldots,0.\n",
    "\\end{equation*}\n",
    "The result is $P(a) = a_0$."
   ]
  },
  {
   "cell_type": "markdown",
   "id": "1d6bc6e3-0c93-4e8d-9fbc-ef11a37cba1c",
   "metadata": {},
   "source": [
    "**Random element generation** proceeds as follows. If $k = 1$ each field element is an integer in $\\{0,\\ldots,p - 1\\}$. Generate a random bitstring of length $m$, where $2^{m - 1} < p \\le 2^m$. If the bitstring represents an integer in $\\{0,\\ldots,p-1\\}$, accept it; otherwise, reject it and retry. If $k > 1$, represent field elements polynomials of degree $k - 1$ with coefficients in $\\mathbb{F}_p$. Random coefficients are selected via the same bitstring process."
   ]
  },
  {
   "cell_type": "markdown",
   "id": "91e15677-1a3f-489d-a784-4c9122baa12f",
   "metadata": {},
   "source": [
    "In practical implementations, $d$ is usually much smaller than $k\\log p$, so random number generation dominates the complexity if done online. To mitigate this, $r_0,\\ldots,r_{v-1}$ are typically precomputed. We assume this is the case."
   ]
  },
  {
   "cell_type": "markdown",
   "id": "5eaf1ef8-8fea-4d4e-97a6-a90a618a7bc2",
   "metadata": {},
   "source": [
    "**Complexity of evaluating $g$ at a random point.** The most time-consuming part of the process is computing $g(r_0,\\ldots,r_{v-1})$, a $v$-variate polynomial of degree $d$. Such a polynomial has at most\n",
    "\\begin{equation*}\n",
    "\\binom{v + d}{d} = \\frac{(v + d)(v + d - 1)\\cdots (v + 1)}{d!} \\le \\frac{(v + d)^d}{d!}\n",
    "\\end{equation*}\n",
    "nonzero terms: one for each exponent tuple $(e_0,\\ldots,e_{v-1})$ with $e_0 + \\ldots + e_{v - 1} \\le d$. \n",
    "\n",
    "To see this, note that the solutions $(e_0,\\ldots,e_{v-1}) \\in \\mathbb{N}^v$ to $e_0 + \\cdots + e_{v - 1} \\le d$ are in one-to-one correspondence with the solutions $(e_0,\\ldots,e_v) \\in \\mathbb{N}^{v + 1}$ to $e_0 + \\cdots + e_v = d$. This, in turn, corresponds to the number of ways to arrange $d$ 'stars' and $v$ 'bars' in $d + v$ positions. \n",
    "\n",
    "For example, $|*||***|*$ corresponds to $e_0 = 1$, $e_1 = 0$, $e_2 = 3$, $e_3 = 1$, satisying $e_0 + e_1 + e_2 + e_3 = 5$. Hence, $e_0 + e_1 + e_2 = 4 \\le 5$, representing the term $X_0X_2^3$ in a $3$-variate polynomial of total degree $5$.\n",
    "\n",
    "Using a generalized Horner's method, each term requires $O(v)$ operations to evaluate, resulting in a total complexity of \n",
    "\\begin{equation*}\n",
    "O\\left(\\binom{v + d}{d}\\cdot v\\right).\n",
    "\\end{equation*}\n",
    "Since \n",
    "\\begin{equation*}\n",
    "\\binom{v + d}{d} = \\frac{(v + d)(v + d - 1)\\cdots (v + 1)}{d!} \\le \\frac{(v + d)^d}{d!},\n",
    "\\end{equation*}\n",
    "the complexity reduces to $O(v^{d + 1})$ for bounded $d$. (In practical implementations, $d$ is typically $2$ or $3$.)"
   ]
  },
  {
   "cell_type": "markdown",
   "id": "d1577ac7-c2b4-4aab-a79f-1d7faa4bbd13",
   "metadata": {},
   "source": [
    "**Verifier's runtime.** However, $g(r_0,\\ldots,r_{v-1})$ is not computed by V. V's total runtime for all rounds is:\n",
    "\\begin{equation*}\n",
    "O(vd).\n",
    "\\end{equation*}"
   ]
  },
  {
   "cell_type": "markdown",
   "id": "5b381d11-535e-4f0a-959e-07e28eb3ca05",
   "metadata": {},
   "source": [
    "<a id='verifier_space'></a>\n",
    "### Verifier's space complexity\n",
    "↑ [Verifier's runtime](#verifier_runtime) ↓ [Prover's runtime](#proof_runtime)"
   ]
  },
  {
   "cell_type": "markdown",
   "id": "b6c2022a-3b7b-4cc6-8dae-4b9170f69b25",
   "metadata": {},
   "source": [
    "The verifier generates and stores $v$ random field elements $r_0, \\ldots, r_{v-1}$, all of which must be retained because $g(r_0, \\ldots, r_{v-1})$ is evaluated and compared to $g_{v-1}(r_{v-1})$ in the final round.\n",
    "\n",
    "In each round $j$ ($0 \\leq j \\leq v - 1$), the verifier uses $O(d+1)$ field elements while applying Horner's method to evaluate $g^*_{j-1}(r{j-1})$, $g^*_j(0)$, and $g^*_j(1)$. Each polynomial $g_j$ is represented by either $O(d+1)$ coefficients or $O(d+1)$ points, and each polynomial is required for at most two consecutive rounds.\n",
    "\n",
    "The verifier also keeps track of the degree of the initial polynomial, which requires $O(1)$ space for a single field element or integer.\n",
    "\n",
    "Thus, in terms of field elements, the total space complexity for the verifier is $O(v + d)$. If the field $\\mathbb{F}_{p^k}$ is used, where each element is represented using $O(k \\log p)$ bits, the total space complexity is $O\\left((v + d) k \\log p\\right)$ bits."
   ]
  },
  {
   "cell_type": "markdown",
   "id": "43d5cb8d-6965-4007-aea7-3925568f07e0",
   "metadata": {},
   "source": [
    "<a id='prover_runtime'></a>\n",
    "### Prover's runtime\n",
    "↑ [Verifier's space complexity](#verifier_space) ↓ [Prover's space complexity](#prover_space)"
   ]
  },
  {
   "cell_type": "markdown",
   "id": "79be2849-2937-490f-845b-f785053a36d4",
   "metadata": {},
   "source": [
    "In Round 0, an honest prover P computes:\n",
    "\\begin{equation*}\n",
    " g_0(X_0) := \\sum_{b_{1}  \\in  \\{0,1\\}} \\cdots \\sum_{b_{v - 1} \\in \\{0,1\\}} g(X_0,b_{1},\\ldots,b_{v-1}),\n",
    "\\end{equation*}\n",
    "As already discussed, Horner's method facilitates its evaluation at $(b_{1},\\ldots,b_{v - 1})$ using a number of operations that is at most of order\n",
    "\\begin{equation*}\n",
    " \\binom{v + d}{d}\\cdot v.\n",
    "\\end{equation*}\n",
    "Evaluating $g$ at each point $(b_0,\\ldots,b_{v-1})$ using Horner's method requires at most: \n",
    "\\begin{equation*}\n",
    "O\\left(\\binom{v + d}{d}\\cdot v \\right)\n",
    "\\end{equation*}\n",
    "operations per point. Since there are $2^{v-1}$ points in the Boolean hypercube $\\{0,1\\}^{v-1}$, the total cost in Round 0 is:\n",
    "\\begin{equation*}\n",
    "O\\left(\\binom{v + d}{d}\\cdot v\\cdot 2^v \\right).\n",
    "\\end{equation*}\n",
    "In Round $j$, $1 \\le j \\le v - 1$, an honest prover P computes:\n",
    "\\begin{equation*}\n",
    " g_j(X_j) := \\sum_{b_{j + 1}  \\in  \\{0,1\\}} \\cdots \\sum_{b_{v - 1} \\in \\{0,1\\}} g(r_0,\\ldots,r_{j-1},X_j,b_{j + 1},\\ldots,b_{v-1}).\n",
    "\\end{equation*}\n",
    "Similarly, the computation for $g_j(X_j)$ involves at most\n",
    "\\begin{equation*}\n",
    " \\binom{v - j + d}{d}\\cdot (v - j)\\cdot 2^{v - j} \\le \\binom{v + d}{d}\\cdot v \\cdot 2^{v - j}\n",
    "\\end{equation*}\n",
    "operations. Summing across all rounds, the total runtime is:\n",
    "\\begin{equation*}\n",
    " \\sum_{j = 0}^{v - 1} O\\left(\\binom{v + d}{d}\\cdot v\\cdot 2^{v - j} \\right)\n",
    "\\end{equation*}\n",
    "Using the geometric series sum $2^v + 2^{v - 1} + \\cdots + 2 = 2^{v + 1} - 2$, the total runtime simplifies to:\n",
    "\\begin{equation*}\n",
    "O\\left(\\binom{v + d}{d}\\cdot v\\cdot 2^v\\right).\n",
    "\\end{equation*}\n",
    "This further simplifies to:\n",
    "\\begin{equation*}\n",
    "O\\left(\\frac{v(v + d)^d2^v}{d!}\\right).\n",
    "\\end{equation*}\n",
    "If $d$ is bounded, as it typically is in practical implementations, the runtime becomes \n",
    "\\begin{equation*}\n",
    "O(v^{d + 1}2^v),\n",
    "\\end{equation*}\n",
    "dominated by the exponential term $2^v$, which arises from the size of the Boolean hypercube."
   ]
  },
  {
   "cell_type": "markdown",
   "id": "b9d4e671-dde0-4cda-b8b5-56d10f98b1bf",
   "metadata": {},
   "source": [
    "<a id='prover_space'></a>\n",
    "### Prover's space complexity\n",
    "↑ [Prover's runtime](#prover_runtime) ↓ [Proof size](#proof_size)"
   ]
  },
  {
   "cell_type": "markdown",
   "id": "16d22c4a-3af8-4776-b9d0-8ad7d2a4da0a",
   "metadata": {},
   "source": [
    "P's space complexity is dominated by the need to store the multivariate polynomial $g(X_0, \\ldots, X_{v-1})$, which may have up to $\\displaystyle\\binom{v + d}{d}$ nonzero terms. Each term requires storing a coefficient and an associated exponent tuple, resulting in a total space requirement of \n",
    "\\begin{equation*}\n",
    "O\\left(\\binom{v + d}{d}\\right)\n",
    "\\end{equation*}\n",
    "field elements for the polynomial representation. \n",
    "\n",
    "During each round of the protocol, the prover computes a univariate polynomial $g_j(X_j)$ by summing over the Boolean hypercube. This involves evaluating $g(X_0, \\ldots, X_{v-1})$ at $2^{v-j-1}$ points. While summing, P does not need to store all intermediate evaluations. Instead, it requires space to accumulate the sum and temporarily store the values needed for evaluating $g$ at a single point. Using Horner's method, evaluating $g$ at one point requires \n",
    "\\begin{equation*}\n",
    "O\\left(\\binom{v + d}{d}\\cdot v\\right) \n",
    "\\end{equation*}\n",
    "operations and the same space to store intermediate results. Therefore, the space required for hypercube evaluations is proportional to \\begin{equation*}\n",
    "O\\left(\\binom{v + d}{d}\\cdot v\\right),\n",
    "\\end{equation*}\n",
    "which is the same order as the storage for $g$.\n",
    "\n",
    "Additionally, the prover must store the univariate polynomial $g_j(X_j)$ during each round. Since $g_j(X_j)$ has degree at most $d$, it can be represented by $O(d+1)$ field elements. This contribution is small compared to the storage requirements for $g(X_0, \\ldots, X_{v-1})$ and hypercube summations. As a result, the total space complexity for the prover is dominated by \n",
    "\\begin{equation*}\n",
    "O\\left(\\displaystyle\\binom{v + d}{d}\\cdot v\\right) = O\\left(\\frac{v(v + d)^d}{d!}\\right),\n",
    "\\end{equation*}\n",
    "which simplifies to $O\\left(v^{d+1}\\right)$ for bounded $d$. If the field $\\mathbb{F}_{p^k}$ is used, the bit complexity becomes $O\\left(v^{d+1} k \\log p\\right)$."
   ]
  },
  {
   "cell_type": "markdown",
   "id": "76de50b1-be01-4747-b671-d80635aeeaf0",
   "metadata": {},
   "source": [
    "<a id='proof_size'></a>\n",
    "### Proof size\n",
    "↑ [Prover's space complexity](#prover_space)"
   ]
  },
  {
   "cell_type": "markdown",
   "id": "d2c8baea-29b1-4514-a780-9248322651de",
   "metadata": {},
   "source": [
    "The **proof size** is the total amount of information communicated from the prover to the verifier during the sum-check protocol. It is a critical metric for assessing the protocol's efficiency, especially in applications like zero-knowledge proofs or other cryptographic systems."
   ]
  },
  {
   "cell_type": "markdown",
   "id": "a27c0e2a-b168-4bb0-987a-b135ab75a775",
   "metadata": {},
   "source": [
    "In Round $j$, $0 \\le j \\le v - 1$, P sends a univariate polynomial of degree at most $d$ to V. This can be done by sending $d + 1$ field elements as coefficients of the polynomial, or $(d + 1)$ points on the polynomial (which V can then interpolate). Thus, in terms of **field elements**, the total proof size is \n",
    "\\begin{equation*}\n",
    "O(vd)\n",
    "\\end{equation*}\n",
    "(we can safely assume $d > 0$, so no need to write $O(v(d + 1))$). In terms of **bits**, since each element of $\\mathbb{F}_{p^k}$ can be expressed as a bitstring of length $O(k\\log p)$, the total proof size is \n",
    "\\begin{equation*}\n",
    "O(vdk\\log p).\n",
    "\\end{equation*}"
   ]
  },
  {
   "cell_type": "markdown",
   "id": "4485973b-cc75-43eb-ac2a-25cf58adcce2",
   "metadata": {},
   "source": [
    "<a id='references'></a>\n",
    "## References\n",
    "↑↑ [Contents](#contents) ↑ [Complexity and proof size](#complexity)"
   ]
  },
  {
   "cell_type": "markdown",
   "id": "2f1572e7-bc7d-415d-b552-8d0106da113a",
   "metadata": {},
   "source": [
    "<a id='dml1978'></a>\n",
    "[DML1978] DeMillo, R. A. and R. Lipton. '[A probabilistic remark on algebraic program testing](https://doi.org/10.1016/0020-0190(78)90067-4).' _Information Processing Letters_ 7(4):193&ndash;195, 1978."
   ]
  },
  {
   "cell_type": "markdown",
   "id": "4014d75a-1bb9-45a2-9163-76835c5fa468",
   "metadata": {},
   "source": [
    "<a id='lfkn1992'></a>\n",
    "[LFKN1992] Lund, C., L. Fortnow, K. Howard, and N. Nisan. '[Algebraic methods for interactive proof systems](https://doi.org/10.1145/146585.146605).' _Journal of the ACM_, 39(4):859&ndash;868, 1992.\n"
   ]
  },
  {
   "cell_type": "markdown",
   "id": "f2572c91-6a63-4bbe-a408-a1806e466b37",
   "metadata": {},
   "source": [
    "<a id='ore1922'></a>\n",
    "[ORE1922] Ore, Ö. '[Über höhere Kongruenzen]().' _Norsk Matematisk Forenings skrifter Ser. I_ (1922), no. 7, 15 pages."
   ]
  },
  {
   "cell_type": "markdown",
   "id": "64e2c07d-80ef-4a9d-b430-2f9239c9cf6c",
   "metadata": {},
   "source": [
    "<a id='sch1980'></a>\n",
    "[SCH1980] Schwartz, J. T. '[Fast probabilistic algorithms for verification of polynomial identities](https://doi.org/10.1145/322217.322225).' _Journal of the ACM_, 27(4):701&ndash;717, 1980."
   ]
  },
  {
   "cell_type": "markdown",
   "id": "1cd174dd-fb69-48c2-9973-17cbcfde1852",
   "metadata": {},
   "source": [
    "<a id='tha2015'></a>\n",
    "[THA2015] Thaler, J. '[A note on the GKR protocol](https://api.semanticscholar.org/CorpusID:16402332).' 2015."
   ]
  },
  {
   "cell_type": "markdown",
   "id": "27c3627a-d8ed-42a2-a947-61bd28f8056e",
   "metadata": {},
   "source": [
    "<a id='zip1979'></a>\n",
    "[ZIP1979] Zippel, R. '[Probabilistic algorithms for sparse polynomials](https://doi.org/10.1007/3-540-09519-5_73).' In Ng, E. W. (ed.). _Symbolic and Algebraic Computation, EUROSAM '79, An International Symposiumon Symbolic and Algebraic Computation, Marseille, France, June 1979, Proceedings_. Lecture Notes in Computer Science. Vol. 72. Springer. pp. 216&ndash;226."
   ]
  }
 ],
 "metadata": {
  "kernelspec": {
   "display_name": "Python 3 (ipykernel)",
   "language": "python",
   "name": "python3"
  },
  "language_info": {
   "codemirror_mode": {
    "name": "ipython",
    "version": 3
   },
   "file_extension": ".py",
   "mimetype": "text/x-python",
   "name": "python",
   "nbconvert_exporter": "python",
   "pygments_lexer": "ipython3",
   "version": "3.12.7"
  }
 },
 "nbformat": 4,
 "nbformat_minor": 5
}
